{
 "cells": [
  {
   "cell_type": "markdown",
   "metadata": {},
   "source": [
    "# Homework 1 (HW1)\n",
    "\n",
    "---\n",
    "By the end of this homework we expect you to be able to:\n",
    "1. Load data from different formats using [pandas](https://pandas.pydata.org/);\n",
    "2. Navigate the documentation of Python packages by yourself;\n",
    "3. Filter and tidy up noisy data sets;\n",
    "4. Aggregate your data in different (and hopefully helpful) ways; \n",
    "5. Create meaningful visualizations to analyze the data;\n",
    "6. Critically think and write about data;\n",
    "---\n",
    "\n",
    "## Important Dates\n",
    "\n",
    "- Homework release: Fri 8 Oct 2021\n",
    "- **Homework due**: Fri 22 Oct 2021, 23:59\n",
    "- Grade release: Fri 29 Oct 2021\n",
    "\n",
    "---\n",
    "\n",
    "##  Some rules\n",
    "\n",
    "1. You are allowed to use any built-in Python library that comes with Anaconda. If you want to use an external library, \n",
    "you may do so, but must justify your choice.\n",
    "2. Make sure you use the `data` folder provided in the repository in read-only mode. (Or alternatively, be sure you \n",
    "don’t change any of the files.)\n",
    "3. Be sure to provide a textual description of your thought process, the assumptions you made, the solution you \n",
    "implemented, and explanations for your answers. A notebook that only has code cells will not suffice.\n",
    "4. For questions containing the **/Discuss:/** prefix, answer not with code, but with a textual explanation\n",
    " (**in markdown**).\n",
    "5. Back up any hypotheses and claims with data, since this is an important aspect of the course.\n",
    "6. Please write all your comments in English, and use meaningful variable names in your code. Your repo should have a \n",
    "single notebook (plus the required data files) in the *master/main* branch. If there are multiple notebooks present, \n",
    "we will **not grade** anything.\n",
    "7. We will **not run your notebook for you**! Rather, we will grade it as is, which means that only the results \n",
    "contained in your evaluated code cells will be considered, and we will not see the results in unevaluated code cells. \n",
    "Thus, be sure to hand in a **fully-run and evaluated notebook**. In order to check whether everything looks as intended,\n",
    " you can check the rendered notebook on the GitHub website once you have pushed your solution there.\n",
    "8. In continuation to the previous point, interactive plots, such as those generated using `plotly`, should be \n",
    "**strictly avoided**!\n",
    "9. Make sure to print results or dataframes that confirm you have properly addressed the task.\n",
    "\n",
    "---\n",
    "\n",
    "## Context\n",
    "\n",
    "In this project, we are going to analyze data from an experiment about *honesty*. \n",
    "Oftentimes, we are asked to confirm our honest intentions by signing **at the end** of a document. \n",
    "For example, in tax returns or insurance policy forms, we are often asked to sign our names under a text that reads \n",
    "something like \"I hereby certify that the above statements are true and correct to the best of my knowledge.\"\n",
    "\n",
    "However, when individuals sign **after** lying in the form, they may not feel the need to correct the falsehoods they \n",
    "have reported. In that context, it could be that signing at **the beginning** rather than at the end of the document \n",
    "would decrease dishonesty, as those who are filling the form would be aware of the ethical requirements *before* they \n",
    "provide the information in the form.\n",
    "\n",
    "This intuition has led researchers to partner up with a motorcycle insurance company to run a randomized experiment. \n",
    "In this insurance company (as well as in many others), customers had to report the exact *odometer kilometrage*¹ in \n",
    "order for the company to adjust the insurance premiums. Note that motorcycles with lower kilometrage are less likely to \n",
    "have issues, and thus will result in a lower *insurance premium*². Therefore, customers have an incentive to lie, \n",
    "reporting a kilometrage lower than the real value, in order to save money.\n",
    "\n",
    "In the experiment, two different forms were created: one where the signing was done at the end, and another where the \n",
    "signing was done at the beginning. The insurance company then randomized these forms (i.e., each customer received\n",
    " exactly one form, each with probability 50%) and sent back the data that customers had provided. Some noteworthy \n",
    " details on the experiment are that:\n",
    "\n",
    "- All customers involved in the experiment already had a contract with the company and were simply renewing it. \n",
    "In the data that the company provided, they also report the odometer kilometrage for their previous contract.\n",
    "Each policy, therefore, contains two contracts: the \"updated\" contract —where the experiment was conducted— and \n",
    "the \"baseline\" contract, which was the previous contract customers had with the company.\n",
    "- A single insurance policy can insure up to 4 distinct motorcycles.\n",
    "\n",
    "In this assignment, you will take the role of the researcher and work analyzing this data!\n",
    "\n",
    "*Glossary:*\n",
    "1. **odometer kilometrage:** the total distance the motorcycle has traveled.\n",
    "2. **insurance premiums:** the amount of money one pays for an insurance policy.\n",
    "\n",
    "---\n",
    "\n",
    "## The data\n",
    "\n",
    "The company provided you with a compressed `.tsv` file containing one row per policy. \n",
    "The `.tsv` has the following fields:\n",
    "\n",
    "- `condition`: either `Sign Top` or `Sign Bottom`, depending on which form was sent.\n",
    "- `id`: unique identifier for each insurance policy.\n",
    "- `motorcycle_count`: number of motorcycles covered by the insurance policy.\n",
    "- `baseline_motorcycle[1-4]`: odometer kilometrage *reported by the customer* in the *previous (baseline)* contract. \n",
    "- `update_motorcycle[1-4]`: odometer kilometrage *reported by the customer* in the *current (updated)* contract.\n",
    "\n",
    "Some comments:\n",
    "\n",
    "- Recall that a single policy can ensure up to 4 motorcycles, and thus, the suffixes [1-4] indicate that there are 4 \n",
    "versions of these columns in the data (e.g., `baseline_motorcycle1`, `baseline_motorcycle2`, `baseline_motorcycle3`, \n",
    "`baseline_motorcycle4`). \n",
    "- When a policy has fewer than 4 motorcycles, only the columns with the smaller numerals are filled (e.g., if a policy \n",
    "insures one motorcycle,  only `baseline_motorcycle1` and `update_motorcycle1` will be filled).\n",
    "- Note that we only have access to the odometer kilometrage reported by the customers, \n",
    "which may be different from the real kilometrage of the motorcycles."
   ]
  },
  {
   "cell_type": "code",
   "execution_count": 1,
   "metadata": {},
   "outputs": [],
   "source": [
    "# Imports you may need\n",
    "import seaborn as sns\n",
    "from IPython.display import display, HTML\n",
    "import matplotlib.pyplot as plt\n",
    "import scipy.stats as stats\n",
    "import pandas as pd\n",
    "import numpy as np\n",
    "\n",
    "from sklearn.linear_model import LinearRegression"
   ]
  },
  {
   "cell_type": "markdown",
   "metadata": {},
   "source": [
    "### **Task 1** — 4pts\n",
    "\n",
    "Your first task is to load the dataset into memory using pandas. \n",
    "**You should load the data directly from the compressed files.**\n",
    "\n",
    "Here, the files at hand are rather small, and you could easily uncompress the files to disk and work with them as plain \n",
    "text. Why, then, are we asking you to load the files compressed? The reason is that, in your life as a data scientist, \n",
    "this will often not be the case. Then, working with compressed files is key so that you don't receive email from your \n",
    "(often more responsible) colleagues demanding to know how you have managed to fill the entire cluster with your \n",
    "datasets. Another big advantage of compressing files is to simply read files faster. You will often find that reading\n",
    "compressed data on the fly (uncompressing it as you go), is much faster than reading uncompressed data, since reading\n",
    "and writing to disk may be your [bottleneck](https://skipperkongen.dk/2012/02/28/uncompressed-versus-compressed-read/). \n",
    "\n",
    "---\n",
    "\n",
    "**Hint:** `pandas` can open compressed files.\n",
    "\n",
    "**Hint:** In the real world (and in ADA-homework), your file often comes with some weird lines! \n",
    "This time you can safely ignore them (but in the real world you must try to understand why they are there!). \n",
    "Check the `error_bad_lines` or the `on_bad_lines` (depending on your pandas version) parameter on `read_csv`."
   ]
  },
  {
   "cell_type": "code",
   "execution_count": 2,
   "metadata": {
    "scrolled": false
   },
   "outputs": [
    {
     "data": {
      "text/html": [
       "<div>\n",
       "<style scoped>\n",
       "    .dataframe tbody tr th:only-of-type {\n",
       "        vertical-align: middle;\n",
       "    }\n",
       "\n",
       "    .dataframe tbody tr th {\n",
       "        vertical-align: top;\n",
       "    }\n",
       "\n",
       "    .dataframe thead th {\n",
       "        text-align: right;\n",
       "    }\n",
       "</style>\n",
       "<table border=\"1\" class=\"dataframe\">\n",
       "  <thead>\n",
       "    <tr style=\"text-align: right;\">\n",
       "      <th></th>\n",
       "      <th>condition</th>\n",
       "      <th>id</th>\n",
       "      <th>baseline_motorcycle1</th>\n",
       "      <th>update_motorcycle1</th>\n",
       "      <th>baseline_motorcycle2</th>\n",
       "      <th>update_motorcycle2</th>\n",
       "      <th>baseline_motorcycle3</th>\n",
       "      <th>update_motorcycle3</th>\n",
       "      <th>baseline_motorcycle4</th>\n",
       "      <th>update_motorcycle4</th>\n",
       "      <th>motorcycle_count</th>\n",
       "    </tr>\n",
       "  </thead>\n",
       "  <tbody>\n",
       "    <tr>\n",
       "      <th>0</th>\n",
       "      <td>Sign Top</td>\n",
       "      <td>1</td>\n",
       "      <td>896</td>\n",
       "      <td>39198</td>\n",
       "      <td>NaN</td>\n",
       "      <td>NaN</td>\n",
       "      <td>NaN</td>\n",
       "      <td>NaN</td>\n",
       "      <td>NaN</td>\n",
       "      <td>NaN</td>\n",
       "      <td>1</td>\n",
       "    </tr>\n",
       "    <tr>\n",
       "      <th>1</th>\n",
       "      <td>Sign Bottom</td>\n",
       "      <td>2</td>\n",
       "      <td>21396</td>\n",
       "      <td>63511</td>\n",
       "      <td>32659.0</td>\n",
       "      <td>47605.0</td>\n",
       "      <td>NaN</td>\n",
       "      <td>NaN</td>\n",
       "      <td>NaN</td>\n",
       "      <td>NaN</td>\n",
       "      <td>2</td>\n",
       "    </tr>\n",
       "    <tr>\n",
       "      <th>2</th>\n",
       "      <td>Sign Bottom</td>\n",
       "      <td>3</td>\n",
       "      <td>21340</td>\n",
       "      <td>37460</td>\n",
       "      <td>44998.0</td>\n",
       "      <td>59002.0</td>\n",
       "      <td>NaN</td>\n",
       "      <td>NaN</td>\n",
       "      <td>NaN</td>\n",
       "      <td>NaN</td>\n",
       "      <td>2</td>\n",
       "    </tr>\n",
       "    <tr>\n",
       "      <th>3</th>\n",
       "      <td>Sign Bottom</td>\n",
       "      <td>4</td>\n",
       "      <td>23912</td>\n",
       "      <td>59136</td>\n",
       "      <td>NaN</td>\n",
       "      <td>NaN</td>\n",
       "      <td>NaN</td>\n",
       "      <td>NaN</td>\n",
       "      <td>NaN</td>\n",
       "      <td>NaN</td>\n",
       "      <td>1</td>\n",
       "    </tr>\n",
       "    <tr>\n",
       "      <th>4</th>\n",
       "      <td>Sign Bottom</td>\n",
       "      <td>5</td>\n",
       "      <td>16862</td>\n",
       "      <td>59292</td>\n",
       "      <td>NaN</td>\n",
       "      <td>NaN</td>\n",
       "      <td>NaN</td>\n",
       "      <td>NaN</td>\n",
       "      <td>NaN</td>\n",
       "      <td>NaN</td>\n",
       "      <td>1</td>\n",
       "    </tr>\n",
       "    <tr>\n",
       "      <th>...</th>\n",
       "      <td>...</td>\n",
       "      <td>...</td>\n",
       "      <td>...</td>\n",
       "      <td>...</td>\n",
       "      <td>...</td>\n",
       "      <td>...</td>\n",
       "      <td>...</td>\n",
       "      <td>...</td>\n",
       "      <td>...</td>\n",
       "      <td>...</td>\n",
       "      <td>...</td>\n",
       "    </tr>\n",
       "    <tr>\n",
       "      <th>13492</th>\n",
       "      <td>Sign Top</td>\n",
       "      <td>13484</td>\n",
       "      <td>20970</td>\n",
       "      <td>61552</td>\n",
       "      <td>42391.0</td>\n",
       "      <td>46815.0</td>\n",
       "      <td>NaN</td>\n",
       "      <td>NaN</td>\n",
       "      <td>NaN</td>\n",
       "      <td>NaN</td>\n",
       "      <td>2</td>\n",
       "    </tr>\n",
       "    <tr>\n",
       "      <th>13493</th>\n",
       "      <td>Sign Top</td>\n",
       "      <td>13485</td>\n",
       "      <td>22606</td>\n",
       "      <td>56382</td>\n",
       "      <td>NaN</td>\n",
       "      <td>NaN</td>\n",
       "      <td>NaN</td>\n",
       "      <td>NaN</td>\n",
       "      <td>467.0</td>\n",
       "      <td>27441.0</td>\n",
       "      <td>2</td>\n",
       "    </tr>\n",
       "    <tr>\n",
       "      <th>13494</th>\n",
       "      <td>Sign Bottom</td>\n",
       "      <td>13486</td>\n",
       "      <td>30700</td>\n",
       "      <td>32916</td>\n",
       "      <td>89680.0</td>\n",
       "      <td>139570.0</td>\n",
       "      <td>NaN</td>\n",
       "      <td>NaN</td>\n",
       "      <td>NaN</td>\n",
       "      <td>NaN</td>\n",
       "      <td>2</td>\n",
       "    </tr>\n",
       "    <tr>\n",
       "      <th>13495</th>\n",
       "      <td>Sign Top</td>\n",
       "      <td>13487</td>\n",
       "      <td>29884</td>\n",
       "      <td>35459</td>\n",
       "      <td>NaN</td>\n",
       "      <td>NaN</td>\n",
       "      <td>NaN</td>\n",
       "      <td>NaN</td>\n",
       "      <td>NaN</td>\n",
       "      <td>NaN</td>\n",
       "      <td>1</td>\n",
       "    </tr>\n",
       "    <tr>\n",
       "      <th>13496</th>\n",
       "      <td>Sign Top</td>\n",
       "      <td>13488</td>\n",
       "      <td>22930</td>\n",
       "      <td>37888</td>\n",
       "      <td>NaN</td>\n",
       "      <td>NaN</td>\n",
       "      <td>NaN</td>\n",
       "      <td>NaN</td>\n",
       "      <td>NaN</td>\n",
       "      <td>NaN</td>\n",
       "      <td>1</td>\n",
       "    </tr>\n",
       "  </tbody>\n",
       "</table>\n",
       "<p>13497 rows × 11 columns</p>\n",
       "</div>"
      ],
      "text/plain": [
       "         condition     id  baseline_motorcycle1  update_motorcycle1  \\\n",
       "0         Sign Top      1                   896               39198   \n",
       "1      Sign Bottom      2                 21396               63511   \n",
       "2      Sign Bottom      3                 21340               37460   \n",
       "3      Sign Bottom      4                 23912               59136   \n",
       "4      Sign Bottom      5                 16862               59292   \n",
       "...            ...    ...                   ...                 ...   \n",
       "13492     Sign Top  13484                 20970               61552   \n",
       "13493     Sign Top  13485                 22606               56382   \n",
       "13494  Sign Bottom  13486                 30700               32916   \n",
       "13495     Sign Top  13487                 29884               35459   \n",
       "13496     Sign Top  13488                 22930               37888   \n",
       "\n",
       "       baseline_motorcycle2  update_motorcycle2  baseline_motorcycle3  \\\n",
       "0                       NaN                 NaN                   NaN   \n",
       "1                   32659.0             47605.0                   NaN   \n",
       "2                   44998.0             59002.0                   NaN   \n",
       "3                       NaN                 NaN                   NaN   \n",
       "4                       NaN                 NaN                   NaN   \n",
       "...                     ...                 ...                   ...   \n",
       "13492               42391.0             46815.0                   NaN   \n",
       "13493                   NaN                 NaN                   NaN   \n",
       "13494               89680.0            139570.0                   NaN   \n",
       "13495                   NaN                 NaN                   NaN   \n",
       "13496                   NaN                 NaN                   NaN   \n",
       "\n",
       "       update_motorcycle3  baseline_motorcycle4  update_motorcycle4  \\\n",
       "0                     NaN                   NaN                 NaN   \n",
       "1                     NaN                   NaN                 NaN   \n",
       "2                     NaN                   NaN                 NaN   \n",
       "3                     NaN                   NaN                 NaN   \n",
       "4                     NaN                   NaN                 NaN   \n",
       "...                   ...                   ...                 ...   \n",
       "13492                 NaN                   NaN                 NaN   \n",
       "13493                 NaN                 467.0             27441.0   \n",
       "13494                 NaN                   NaN                 NaN   \n",
       "13495                 NaN                   NaN                 NaN   \n",
       "13496                 NaN                   NaN                 NaN   \n",
       "\n",
       "       motorcycle_count  \n",
       "0                     1  \n",
       "1                     2  \n",
       "2                     2  \n",
       "3                     1  \n",
       "4                     1  \n",
       "...                 ...  \n",
       "13492                 2  \n",
       "13493                 2  \n",
       "13494                 2  \n",
       "13495                 1  \n",
       "13496                 1  \n",
       "\n",
       "[13497 rows x 11 columns]"
      ]
     },
     "execution_count": 2,
     "metadata": {},
     "output_type": "execute_result"
    }
   ],
   "source": [
    "DATA_PATH = \"./data/data.tsv.gz\"\n",
    "\n",
    "df = pd.read_csv(DATA_PATH, compression='gzip', header=0, sep =\"\\t\", on_bad_lines='skip')\n",
    "df"
   ]
  },
  {
   "cell_type": "markdown",
   "metadata": {},
   "source": [
    "We load the data from the compressed file into a dataframe using read_csv. We set on_bad_lines to \"skip\" in order to ignore ill-formated lines as instructed."
   ]
  },
  {
   "cell_type": "code",
   "execution_count": 3,
   "metadata": {},
   "outputs": [
    {
     "data": {
      "text/plain": [
       "condition                   2\n",
       "id                      13488\n",
       "baseline_motorcycle1    11480\n",
       "update_motorcycle1      12965\n",
       "baseline_motorcycle2     4948\n",
       "update_motorcycle2       5544\n",
       "baseline_motorcycle3     1190\n",
       "update_motorcycle3       1265\n",
       "baseline_motorcycle4      316\n",
       "update_motorcycle4        325\n",
       "motorcycle_count            4\n",
       "dtype: int64"
      ]
     },
     "execution_count": 3,
     "metadata": {},
     "output_type": "execute_result"
    }
   ],
   "source": [
    "df.nunique()"
   ]
  },
  {
   "cell_type": "markdown",
   "metadata": {},
   "source": [
    "### Task 2 — 12pts\n",
    "\n",
    "As a good data scientist, the first thing you do is to clean up the data and perform some small sanity checks.\n",
    "\n",
    "1. The motorcycle insurance company mentioned that each policy has a unique identifier, but that there may be duplicate \n",
    "rows (i.e., multiple rows with the same policy identifier). Check if there are duplicate policies and, if so, filter \n",
    "these rows from the data (always keeping the first).\n",
    "\n",
    "2. According to the company, all policies should have kept the number of motorcycles from the previous contract (i.e., \n",
    "the number of motorcycles recorded in baseline contracts should equal the number of motorcycles in updated contracts). \n",
    "Also, the number of odometer readings for each contract should be the same as the number stated in the \n",
    "`motorcycle_count` variable. Check the data to see if these two things hold. If not, filter the anomalous rows.\n",
    "\n",
    "3. Calculate the mean and the median value of each column related to kilometrages. Are the values obtained plausible? \n",
    "Visualize the distribution of the data and remove any extreme outliers.\n",
    "\n",
    "4. **Discuss:** In cases where you cannot think of appropriate ways to remove outliers, would you prefer summarizing \n",
    "numerical data with outliers with the mean or the median? Why?\n",
    "\n",
    "---\n",
    "\n",
    "**Hint:** Here we are considering as outliers numbers that are not plausible in the context of motorcycle kilometrages."
   ]
  },
  {
   "cell_type": "markdown",
   "metadata": {},
   "source": [
    "##### 2.1 - Unique ID"
   ]
  },
  {
   "cell_type": "code",
   "execution_count": 4,
   "metadata": {
    "scrolled": true
   },
   "outputs": [
    {
     "name": "stdout",
     "output_type": "stream",
     "text": [
      "Before - ID are unique: False\n",
      "After  - ID are unique: True\n",
      "We dropped 9 row(s)\n"
     ]
    }
   ],
   "source": [
    "print(f'Before - ID are unique: {df[\"id\"].is_unique}')\n",
    "\n",
    "size_before = len(df)\n",
    "df = df.drop_duplicates(subset=['id'], keep='first',ignore_index=True)\n",
    "size_after = len(df)\n",
    "print(f'After  - ID are unique: {df[\"id\"].is_unique}')\n",
    "\n",
    "print(f'We dropped {size_before - size_after} row(s)')"
   ]
  },
  {
   "cell_type": "markdown",
   "metadata": {},
   "source": [
    "In order to drop duplicates we use the panda drop_duplicates function. \"subset\" allow us to specify in which column we want to search for duplicates, keep='first' specify that we want to keep the first of the duplicates as instructed. As we can see the IDs are not unique. We print the difference of size of the dataframe to know how much rows we dropped. We can see that after the process the IDs are indeed unique."
   ]
  },
  {
   "cell_type": "markdown",
   "metadata": {},
   "source": [
    "##### 2.2 - Number of vehicule sums up"
   ]
  },
  {
   "cell_type": "code",
   "execution_count": 5,
   "metadata": {
    "scrolled": false
   },
   "outputs": [
    {
     "name": "stdout",
     "output_type": "stream",
     "text": [
      "We dropped 0 row(s)\n"
     ]
    }
   ],
   "source": [
    "baseline = df.filter(regex='^baseline',axis=1) #All columns corresponding to baseline motorcycles\n",
    "update = df.filter(regex='^update',axis=1) #All columns corresponding to update motorcycles\n",
    "\n",
    "baseline_count =  baseline.shape[1] - baseline.isnull().sum(axis=1) # Number of baseline motorcycles for each row\n",
    "update_count =  update.shape[1] - update.isnull().sum(axis=1)\n",
    "\n",
    "size_before = len(df)\n",
    "df = df.drop(df[(update_count != baseline_count) | (df[\"motorcycle_count\"] != baseline_count)].index)\n",
    "size_after = len(df)\n",
    "\n",
    "print(f'We dropped {size_before - size_after} row(s)')"
   ]
  },
  {
   "cell_type": "markdown",
   "metadata": {},
   "source": [
    "We select the columns corresponding to the \"baseline\" and \"update\" contracts. We count the number of non-null fields. We drop any row that does not have the same number of vehicules between the baseline, update and total count. Apparently the conditions hold for every row, since we are not dropping any row."
   ]
  },
  {
   "cell_type": "markdown",
   "metadata": {},
   "source": [
    "##### 2.3 - Mean and median kilometrages"
   ]
  },
  {
   "cell_type": "code",
   "execution_count": 6,
   "metadata": {},
   "outputs": [
    {
     "data": {
      "text/html": [
       "<div>\n",
       "<style scoped>\n",
       "    .dataframe tbody tr th:only-of-type {\n",
       "        vertical-align: middle;\n",
       "    }\n",
       "\n",
       "    .dataframe tbody tr th {\n",
       "        vertical-align: top;\n",
       "    }\n",
       "\n",
       "    .dataframe thead th {\n",
       "        text-align: right;\n",
       "    }\n",
       "</style>\n",
       "<table border=\"1\" class=\"dataframe\">\n",
       "  <thead>\n",
       "    <tr style=\"text-align: right;\">\n",
       "      <th></th>\n",
       "      <th>baseline_motorcycle1</th>\n",
       "      <th>update_motorcycle1</th>\n",
       "      <th>baseline_motorcycle2</th>\n",
       "      <th>update_motorcycle2</th>\n",
       "      <th>baseline_motorcycle3</th>\n",
       "      <th>update_motorcycle3</th>\n",
       "      <th>baseline_motorcycle4</th>\n",
       "      <th>update_motorcycle4</th>\n",
       "    </tr>\n",
       "  </thead>\n",
       "  <tbody>\n",
       "    <tr>\n",
       "      <th>count</th>\n",
       "      <td>1.348800e+04</td>\n",
       "      <td>1.348800e+04</td>\n",
       "      <td>5.648000e+03</td>\n",
       "      <td>5.648000e+03</td>\n",
       "      <td>1277.000000</td>\n",
       "      <td>1277.000000</td>\n",
       "      <td>326.000000</td>\n",
       "      <td>326.000000</td>\n",
       "    </tr>\n",
       "    <tr>\n",
       "      <th>mean</th>\n",
       "      <td>7.413998e+14</td>\n",
       "      <td>7.413998e+14</td>\n",
       "      <td>6.732597e+04</td>\n",
       "      <td>9.227763e+04</td>\n",
       "      <td>67657.320282</td>\n",
       "      <td>92849.408771</td>\n",
       "      <td>67827.975460</td>\n",
       "      <td>93374.279141</td>\n",
       "    </tr>\n",
       "    <tr>\n",
       "      <th>std</th>\n",
       "      <td>8.610457e+16</td>\n",
       "      <td>8.610457e+16</td>\n",
       "      <td>6.022646e+04</td>\n",
       "      <td>6.188369e+04</td>\n",
       "      <td>64419.001860</td>\n",
       "      <td>66547.920222</td>\n",
       "      <td>54610.217241</td>\n",
       "      <td>56345.386070</td>\n",
       "    </tr>\n",
       "    <tr>\n",
       "      <th>min</th>\n",
       "      <td>0.000000e+00</td>\n",
       "      <td>4.200000e+01</td>\n",
       "      <td>0.000000e+00</td>\n",
       "      <td>1.160000e+02</td>\n",
       "      <td>0.000000</td>\n",
       "      <td>155.000000</td>\n",
       "      <td>0.000000</td>\n",
       "      <td>622.000000</td>\n",
       "    </tr>\n",
       "    <tr>\n",
       "      <th>50%</th>\n",
       "      <td>5.634150e+04</td>\n",
       "      <td>8.239750e+04</td>\n",
       "      <td>5.615750e+04</td>\n",
       "      <td>8.206100e+04</td>\n",
       "      <td>58821.000000</td>\n",
       "      <td>85645.000000</td>\n",
       "      <td>68181.000000</td>\n",
       "      <td>93387.500000</td>\n",
       "    </tr>\n",
       "    <tr>\n",
       "      <th>99%</th>\n",
       "      <td>2.326934e+05</td>\n",
       "      <td>2.609947e+05</td>\n",
       "      <td>2.271233e+05</td>\n",
       "      <td>2.543654e+05</td>\n",
       "      <td>225513.360000</td>\n",
       "      <td>258405.320000</td>\n",
       "      <td>184187.750000</td>\n",
       "      <td>220859.750000</td>\n",
       "    </tr>\n",
       "    <tr>\n",
       "      <th>max</th>\n",
       "      <td>1.000000e+19</td>\n",
       "      <td>1.000000e+19</td>\n",
       "      <td>1.000581e+06</td>\n",
       "      <td>1.030915e+06</td>\n",
       "      <td>884594.000000</td>\n",
       "      <td>931105.000000</td>\n",
       "      <td>217715.000000</td>\n",
       "      <td>244658.000000</td>\n",
       "    </tr>\n",
       "  </tbody>\n",
       "</table>\n",
       "</div>"
      ],
      "text/plain": [
       "       baseline_motorcycle1  update_motorcycle1  baseline_motorcycle2  \\\n",
       "count          1.348800e+04        1.348800e+04          5.648000e+03   \n",
       "mean           7.413998e+14        7.413998e+14          6.732597e+04   \n",
       "std            8.610457e+16        8.610457e+16          6.022646e+04   \n",
       "min            0.000000e+00        4.200000e+01          0.000000e+00   \n",
       "50%            5.634150e+04        8.239750e+04          5.615750e+04   \n",
       "99%            2.326934e+05        2.609947e+05          2.271233e+05   \n",
       "max            1.000000e+19        1.000000e+19          1.000581e+06   \n",
       "\n",
       "       update_motorcycle2  baseline_motorcycle3  update_motorcycle3  \\\n",
       "count        5.648000e+03           1277.000000         1277.000000   \n",
       "mean         9.227763e+04          67657.320282        92849.408771   \n",
       "std          6.188369e+04          64419.001860        66547.920222   \n",
       "min          1.160000e+02              0.000000          155.000000   \n",
       "50%          8.206100e+04          58821.000000        85645.000000   \n",
       "99%          2.543654e+05         225513.360000       258405.320000   \n",
       "max          1.030915e+06         884594.000000       931105.000000   \n",
       "\n",
       "       baseline_motorcycle4  update_motorcycle4  \n",
       "count            326.000000          326.000000  \n",
       "mean           67827.975460        93374.279141  \n",
       "std            54610.217241        56345.386070  \n",
       "min                0.000000          622.000000  \n",
       "50%            68181.000000        93387.500000  \n",
       "99%           184187.750000       220859.750000  \n",
       "max           217715.000000       244658.000000  "
      ]
     },
     "execution_count": 6,
     "metadata": {},
     "output_type": "execute_result"
    }
   ],
   "source": [
    "df.filter(regex='_motorcycle[1-4]$',axis=1).describe(percentiles=[0.5, 0.99])"
   ]
  },
  {
   "cell_type": "markdown",
   "metadata": {},
   "source": [
    "The maximums for the first 2 columns are clearly not plausible. After some online researchs we learn that a motorcycle with more than 100'000 kms are rarely found on second-hand website and so we can estimate that someone very conscientious, with help of some spare parts etc, could make his/her motorcycle last for 500'000 kms. Looking at the 99% percentiles we can confirm our guess. Indeed 99% of the motorcycle have below 300'000 kms. So removing all motorcycle above 500'000 kms seems quite appropriate."
   ]
  },
  {
   "cell_type": "code",
   "execution_count": 7,
   "metadata": {},
   "outputs": [
    {
     "name": "stdout",
     "output_type": "stream",
     "text": [
      "We dropped 17 row(s) ie 0.12603795966785292% of the data\n"
     ]
    }
   ],
   "source": [
    "size_before = len(df)\n",
    "df = df.drop(df[(df[\"baseline_motorcycle1\"] > 500_000) | (df[\"update_motorcycle1\"] > 500_000)].index)\n",
    "df = df.drop(df[(df[\"baseline_motorcycle2\"] > 500_000) | (df[\"update_motorcycle2\"] > 500_000)].index)\n",
    "df = df.drop(df[(df[\"baseline_motorcycle3\"] > 500_000) | (df[\"update_motorcycle3\"] > 500_000)].index)\n",
    "df = df.drop(df[(df[\"baseline_motorcycle4\"] > 500_000) | (df[\"update_motorcycle4\"] > 500_000)].index)\n",
    "size_after = len(df)\n",
    "\n",
    "print(f'We dropped {size_before - size_after} row(s) ie {(size_before - size_after) / size_before * 100}% of the data')\n"
   ]
  },
  {
   "cell_type": "code",
   "execution_count": 8,
   "metadata": {},
   "outputs": [
    {
     "name": "stdout",
     "output_type": "stream",
     "text": [
      "Std: \n",
      "\n",
      "Mean:\n",
      "baseline_motorcycle1    66971.449855\n",
      "update_motorcycle1      91902.370351\n",
      "baseline_motorcycle2    66375.933984\n",
      "update_motorcycle2      91337.725998\n",
      "baseline_motorcycle3    66122.384736\n",
      "update_motorcycle3      91306.289536\n",
      "baseline_motorcycle4    67302.672840\n",
      "update_motorcycle4      92752.799383\n",
      "dtype: float64\n",
      "\n",
      "Median:\n",
      "baseline_motorcycle1    56229.0\n",
      "update_motorcycle1      82345.0\n",
      "baseline_motorcycle2    56083.0\n",
      "update_motorcycle2      81941.0\n",
      "baseline_motorcycle3    58141.0\n",
      "update_motorcycle3      85299.0\n",
      "baseline_motorcycle4    66747.0\n",
      "update_motorcycle4      93165.5\n",
      "dtype: float64\n"
     ]
    }
   ],
   "source": [
    "print(\"Std: \")\n",
    "df.filter(regex='_motorcycle[1-4]$',axis=1).std()\n",
    "print(\"\\nMean:\")\n",
    "print(df.filter(regex='motorcycle[1-4]$',axis=1).mean())\n",
    "print(\"\\nMedian:\")\n",
    "print(df.filter(regex='motorcycle[1-4]$',axis=1).median())"
   ]
  },
  {
   "cell_type": "markdown",
   "metadata": {},
   "source": [
    "As we can see the means and medians are consistent between columns. The medians are generally lower than the means meaning that there are more motorcycles under the mean than above."
   ]
  },
  {
   "cell_type": "markdown",
   "metadata": {},
   "source": [
    "##### 2.4 - Using  median or mean to summarize numerical data with outliers?"
   ]
  },
  {
   "cell_type": "markdown",
   "metadata": {},
   "source": [
    "In cases where the data must be summarized with its ouliers, we would prefer using the median as it is not sensitive to a small number of outliers. Having an abnormally large value in the data can significantly shift the mean whereas it can only shift the median by at most one place which would usually corresponds to a very small difference with enough data points. "
   ]
  },
  {
   "cell_type": "markdown",
   "metadata": {},
   "source": [
    "### Task 3 — 12pts\n",
    "\n",
    "One of the challenges with the current data is that it is not clear how to handle policies with multiple motorcycles.\n",
    "\n",
    "1. Create three additional columns in the dataframe, `baseline_average`, `update_average`, and `diff_average`. These \n",
    "should contain, respectively, the average value for `baseline_motorcycle[1-4]` for all motorcycles insured; the average\n",
    " value for `update_motorcycle[1-4]`; and the difference between the average updated value and the average baseline \n",
    " value.\n",
    "2. **Discuss:** Propose another way of aggregating distinct motorcycles from a single policy. Point out a way in which \n",
    "this aggregation may be either better or worse than taking the average for the purpose of comparing the two scenarios in\n",
    " the study (sign at the top vs. sign at the bottom).\n",
    "3. To get a sense of the impact that policies with multiple motorcycles may have in the study, let's perform some \n",
    "additional analyses. Plot the distribution of motorcycles per policy in the data. Your plot should allow for the \n",
    "meaningful comparison of the values shown.\n",
    "4. In 3.1, you calculated the average kilometrage for each policy for the updated contract. Calculate the mean and the \n",
    "standard deviation of these values (which should be in the column `update_average`).\n",
    "5. Another meaningful metric is the average kilometrage **per motorcycle**, not distinguishing motorcycles in different \n",
    "policies (i.e., pooled across policies). **Considering only policies with 4 motorcycles insured,** calculate the mean \n",
    "and the standard deviation of the kilometrage per motorcycle in the updated contract.\n",
    "6. **Discuss:** To analyze whether signing at the top decreases dishonesty, we could consider the data in different \n",
    "way: \n",
    "   - We could first calculate the average value per motorcycle within each policy and have one data point per policy \n",
    "   - Or we could analyze the data at the motorcycle level and have one data point per motorcycle in the dataset.   \n",
    "According to questions 3.4 and 3.5, how may this decision influence the results of the study?\n",
    "---"
   ]
  },
  {
   "cell_type": "markdown",
   "metadata": {},
   "source": [
    "##### 3.1 - New columns"
   ]
  },
  {
   "cell_type": "code",
   "execution_count": 9,
   "metadata": {
    "scrolled": false
   },
   "outputs": [
    {
     "data": {
      "text/html": [
       "<div>\n",
       "<style scoped>\n",
       "    .dataframe tbody tr th:only-of-type {\n",
       "        vertical-align: middle;\n",
       "    }\n",
       "\n",
       "    .dataframe tbody tr th {\n",
       "        vertical-align: top;\n",
       "    }\n",
       "\n",
       "    .dataframe thead th {\n",
       "        text-align: right;\n",
       "    }\n",
       "</style>\n",
       "<table border=\"1\" class=\"dataframe\">\n",
       "  <thead>\n",
       "    <tr style=\"text-align: right;\">\n",
       "      <th></th>\n",
       "      <th>baseline_average</th>\n",
       "      <th>update_average</th>\n",
       "      <th>diff_average</th>\n",
       "    </tr>\n",
       "  </thead>\n",
       "  <tbody>\n",
       "    <tr>\n",
       "      <th>0</th>\n",
       "      <td>896.0</td>\n",
       "      <td>39198.0</td>\n",
       "      <td>38302.0</td>\n",
       "    </tr>\n",
       "    <tr>\n",
       "      <th>1</th>\n",
       "      <td>27027.5</td>\n",
       "      <td>55558.0</td>\n",
       "      <td>28530.5</td>\n",
       "    </tr>\n",
       "    <tr>\n",
       "      <th>2</th>\n",
       "      <td>33169.0</td>\n",
       "      <td>48231.0</td>\n",
       "      <td>15062.0</td>\n",
       "    </tr>\n",
       "    <tr>\n",
       "      <th>3</th>\n",
       "      <td>23912.0</td>\n",
       "      <td>59136.0</td>\n",
       "      <td>35224.0</td>\n",
       "    </tr>\n",
       "    <tr>\n",
       "      <th>4</th>\n",
       "      <td>16862.0</td>\n",
       "      <td>59292.0</td>\n",
       "      <td>42430.0</td>\n",
       "    </tr>\n",
       "    <tr>\n",
       "      <th>...</th>\n",
       "      <td>...</td>\n",
       "      <td>...</td>\n",
       "      <td>...</td>\n",
       "    </tr>\n",
       "    <tr>\n",
       "      <th>13483</th>\n",
       "      <td>31680.5</td>\n",
       "      <td>54183.5</td>\n",
       "      <td>22503.0</td>\n",
       "    </tr>\n",
       "    <tr>\n",
       "      <th>13484</th>\n",
       "      <td>11536.5</td>\n",
       "      <td>41911.5</td>\n",
       "      <td>30375.0</td>\n",
       "    </tr>\n",
       "    <tr>\n",
       "      <th>13485</th>\n",
       "      <td>60190.0</td>\n",
       "      <td>86243.0</td>\n",
       "      <td>26053.0</td>\n",
       "    </tr>\n",
       "    <tr>\n",
       "      <th>13486</th>\n",
       "      <td>29884.0</td>\n",
       "      <td>35459.0</td>\n",
       "      <td>5575.0</td>\n",
       "    </tr>\n",
       "    <tr>\n",
       "      <th>13487</th>\n",
       "      <td>22930.0</td>\n",
       "      <td>37888.0</td>\n",
       "      <td>14958.0</td>\n",
       "    </tr>\n",
       "  </tbody>\n",
       "</table>\n",
       "<p>13471 rows × 3 columns</p>\n",
       "</div>"
      ],
      "text/plain": [
       "       baseline_average  update_average  diff_average\n",
       "0                 896.0         39198.0       38302.0\n",
       "1               27027.5         55558.0       28530.5\n",
       "2               33169.0         48231.0       15062.0\n",
       "3               23912.0         59136.0       35224.0\n",
       "4               16862.0         59292.0       42430.0\n",
       "...                 ...             ...           ...\n",
       "13483           31680.5         54183.5       22503.0\n",
       "13484           11536.5         41911.5       30375.0\n",
       "13485           60190.0         86243.0       26053.0\n",
       "13486           29884.0         35459.0        5575.0\n",
       "13487           22930.0         37888.0       14958.0\n",
       "\n",
       "[13471 rows x 3 columns]"
      ]
     },
     "execution_count": 9,
     "metadata": {},
     "output_type": "execute_result"
    }
   ],
   "source": [
    "df[\"baseline_average\"]= df.filter(regex='baseline_motorcycle[1-4]$',axis=1).mean(axis =1)\n",
    "df[\"update_average\"]= df.filter(regex='update_motorcycle[1-4]$',axis=1).mean(axis =1)\n",
    "df[\"diff_average\"]= df[\"update_average\"] - df[\"baseline_average\"]\n",
    "df[[\"baseline_average\", \"update_average\", \"diff_average\"]]"
   ]
  },
  {
   "cell_type": "markdown",
   "metadata": {},
   "source": [
    "We first create the baseline_average/update_average by averaging each baseline/update values for each row. Then diff_average column by taking the difference of the 2 previously created fields. Here is a sample of the three new columns.\n"
   ]
  },
  {
   "cell_type": "markdown",
   "metadata": {},
   "source": [
    "##### 3.2 - Discussion aggregation"
   ]
  },
  {
   "cell_type": "markdown",
   "metadata": {},
   "source": [
    "Instead of using the mean of each motorcycle kilometrage, we could decide to compute the minimum over all motorcycles of the augmentation (eg:+10%) from the baseline kilometrage to the update kilometrage. This idea comes from the fact that we know that individuals will lower the kilometrage of their motorcycles when lying to decrease their *insurance premium*. Assuming that the individual would not be tempted to lie on all his motorcycles but only on one of them, this could help us see a statistic that would otherwise be hidden in the average.  \n",
    "Another interesting aggregating statistic would be to store the frequency of appearance of each digit in the update policy to see if their overall distribution over a *'sign at the top' / 'sign at the bottom'* experiment follows [Benford's law](https://en.wikipedia.org/wiki/Benford%27s_law) which is often used to detect fraud."
   ]
  },
  {
   "cell_type": "markdown",
   "metadata": {},
   "source": [
    "##### 3.3 - Motorcycle per policy"
   ]
  },
  {
   "cell_type": "code",
   "execution_count": 10,
   "metadata": {},
   "outputs": [
    {
     "data": {
      "image/png": "[encoded data removed]",
      "text/plain": [
       "<Figure size 432x288 with 1 Axes>"
      ]
     },
     "metadata": {
      "needs_background": "light"
     },
     "output_type": "display_data"
    }
   ],
   "source": [
    "df.groupby(\"motorcycle_count\")[\"motorcycle_count\"].sum().plot(kind='bar', log=False, xlabel=\"Number of motorcycle covered by the policy\", ylabel=\"Number of motorcycle\")\n",
    "plt.title(\"Distribution of motorcycles per policy\")\n",
    "plt.show()"
   ]
  },
  {
   "cell_type": "code",
   "execution_count": 11,
   "metadata": {},
   "outputs": [
    {
     "data": {
      "image/png": "[encoded data removed]",
      "text/plain": [
       "<Figure size 432x288 with 1 Axes>"
      ]
     },
     "metadata": {
      "needs_background": "light"
     },
     "output_type": "display_data"
    }
   ],
   "source": [
    "df.groupby(\"motorcycle_count\")['id'].count().plot(kind='bar', log=False, xlabel=\"Number of motorcycle covered by the policy\", ylabel=\"Number of policy\")\n",
    "plt.title(\"Distribution of k-motorcycle policy\")\n",
    "plt.show()"
   ]
  },
  {
   "cell_type": "markdown",
   "metadata": {},
   "source": [
    "We display the number of policy per number of motorcycle in it. As we can see the majority of policy have only one motorcycle. But a majority of motorcycle are in a policy with two motorcycles.\n"
   ]
  },
  {
   "cell_type": "markdown",
   "metadata": {},
   "source": [
    "##### 3.4 - Mean and std of update_average"
   ]
  },
  {
   "cell_type": "code",
   "execution_count": 12,
   "metadata": {
    "scrolled": true
   },
   "outputs": [
    {
     "name": "stdout",
     "output_type": "stream",
     "text": [
      "Mean of update_average: 91689.940\n",
      "Standard deviation of update_average: 49730.561\n"
     ]
    }
   ],
   "source": [
    "print(f'Mean of update_average: {df[\"update_average\"].mean():.3f}')\n",
    "print(f'Standard deviation of update_average: {df[\"update_average\"].std():.3f}')"
   ]
  },
  {
   "cell_type": "markdown",
   "metadata": {},
   "source": [
    "We computed the mean of the update average which is not the global update_mean since motorcycles that are alone in a policy have a greater weight in the average than the ones in multiple motorcycles policy."
   ]
  },
  {
   "cell_type": "markdown",
   "metadata": {},
   "source": [
    "##### 3.5 - Mean and std for 4 motorcycles policies"
   ]
  },
  {
   "cell_type": "code",
   "execution_count": 13,
   "metadata": {},
   "outputs": [
    {
     "name": "stdout",
     "output_type": "stream",
     "text": [
      "Mean of update_kilometrage per motorcycle for policy with 4 motorcycles: 105366.220km\n",
      "Standard deviation of update_kilometrage per motorcycle for policy with 4 motorcycles: 38197.343km\n"
     ]
    }
   ],
   "source": [
    "mean_per_motorcycle = df[df[\"motorcycle_count\"] == 4][\"update_average\"].mean()\n",
    "print(f'Mean of update_kilometrage per motorcycle for policy with 4 motorcycles: {mean_per_motorcycle:.3f}km')\n",
    "\n",
    "std_per_motorcycle = df[df[\"motorcycle_count\"] == 4][\"update_average\"].std()\n",
    "print(f'Standard deviation of update_kilometrage per motorcycle for policy with 4 motorcycles: {std_per_motorcycle:.3f}km')"
   ]
  },
  {
   "cell_type": "markdown",
   "metadata": {},
   "source": [
    "We keep all policies with 4 motorcycles then we compute the mean/std deviation of the update_average. Since we select all the policies with 4 motorcycle the mean is not weighted.\n"
   ]
  },
  {
   "cell_type": "markdown",
   "metadata": {},
   "source": [
    "##### 3.6 - Discussion: aggregate the data per motorcycles or per policies"
   ]
  },
  {
   "cell_type": "code",
   "execution_count": 14,
   "metadata": {},
   "outputs": [
    {
     "name": "stdout",
     "output_type": "stream",
     "text": [
      "Mean of update_kilometrage per motorcycle for policy with 1 motorcycles 91750.71768707484\n",
      "Std of update_kilometrage per motorcycle for policy with 1 motorcycles 56346.708221136076\n",
      "\n",
      "Mean of update_kilometrage per motorcycle for policy with 2 motorcycles 91509.6892945764\n",
      "Std of update_kilometrage per motorcycle for policy with 2 motorcycles 41496.47416801956\n",
      "\n",
      "Mean of update_kilometrage per motorcycle for policy with 3 motorcycles 91708.70725034196\n",
      "Std of update_kilometrage per motorcycle for policy with 3 motorcycles 39384.17723651962\n",
      "\n",
      "Mean of update_kilometrage per motorcycle for policy with 4 motorcycles 105366.22023809524\n",
      "Std of update_kilometrage per motorcycle for policy with 4 motorcycles 38197.34272986235\n"
     ]
    }
   ],
   "source": [
    "print(f'Mean of update_kilometrage per motorcycle for policy with 1 motorcycles {df[df[\"motorcycle_count\"] == 1][\"update_average\"].mean()}')\n",
    "print(f'Std of update_kilometrage per motorcycle for policy with 1 motorcycles {df[df[\"motorcycle_count\"] == 1][\"update_average\"].std()}\\n')\n",
    "print(f'Mean of update_kilometrage per motorcycle for policy with 2 motorcycles {df[df[\"motorcycle_count\"] == 2][\"update_average\"].mean()}')\n",
    "print(f'Std of update_kilometrage per motorcycle for policy with 2 motorcycles {df[df[\"motorcycle_count\"] == 2][\"update_average\"].std()}\\n')\n",
    "print(f'Mean of update_kilometrage per motorcycle for policy with 3 motorcycles {df[df[\"motorcycle_count\"] == 3][\"update_average\"].mean()}')\n",
    "print(f'Std of update_kilometrage per motorcycle for policy with 3 motorcycles {df[df[\"motorcycle_count\"] == 3][\"update_average\"].std()}\\n')\n",
    "print(f'Mean of update_kilometrage per motorcycle for policy with 4 motorcycles {df[df[\"motorcycle_count\"] == 4][\"update_average\"].mean()}')\n",
    "print(f'Std of update_kilometrage per motorcycle for policy with 4 motorcycles {df[df[\"motorcycle_count\"] == 4][\"update_average\"].std()}')"
   ]
  },
  {
   "cell_type": "markdown",
   "metadata": {},
   "source": [
    "As we can see from those means, the behaviour of motorcyclisthaving a different number of motorcyles in their contracts is not uniform. Motorcyclist with 4 motorcycles in their policy tend to have a longer kilometrage than the other motorcyclists. Calculating the average value per motorcycle within each policy and having one data point per policy would remove this information and lead to biases in the distribution of kilometrage. Furhermore, the standard-deviation of policies with a different number of motorcycles greatly vary which would emphasize the previously discussed issue. \n",
    "As a conclusion, we would suggest analyzing the data at the motorcycle level and having one data point per motorcycle in the dataset to lose as little information as possible."
   ]
  },
  {
   "cell_type": "markdown",
   "metadata": {},
   "source": [
    "### Task 4 — 18pts\n",
    "\n",
    "Now that we have compressed the kilometrage reported in each contract into a single number, it is time to analyze the \n",
    "million-dollar question: *does signing at the top decrease dishonesty?*\n",
    "\n",
    "1. Considering the updated contracts, calculate the mean and the standard deviation of the average kilometrage in a) \n",
    "policies where the signing was done at the bottom; and b) policies where the signing was done at the top. Additionally,\n",
    "plot the two kilometrage distributions.\n",
    "2. Determine whether the difference between the two scenarios mentioned in 1. is statistically significant.\n",
    "3. **Discuss:** Recall that the assignment of the different contracts (*sign at the top* vs. *sign at the bottom*) was \n",
    "done at random. According to the results in 1. and 2., does signing at the top decrease dishonesty? \n",
    "4.  **Discuss:** Given that no intervention was performed in the baseline contract (i.e., everyone signed at the \n",
    "bottom). Would you expect any differences between the average values between *sign at the top* vs. *sign at the bottom*\n",
    " conditions for the baseline contract? Note that this is related to columns `baseline_motorcycle[1-4]`.\n",
    "5. Calculate the mean and the standard deviation for the baseline contracts of the two groups (sign at the top vs. sign \n",
    "at the bottom). Additionally, plot the two kilometrage distributions.\n",
    "6. Determine whether the difference between the two scenarios mentioned in 5. is statistically significant.\n",
    "\n",
    "---\n",
    "\n",
    "**Hint:** Recall that the column `condition` encodes the experimental condition in which the customer fell when \n",
    "reporting the values shown in columns `update_motorcycle[1-4]`!\n",
    "\n",
    "**Hint:** To determine if the means of two sets of data are significantly different from each other, you may want to use\n",
    " the `ttest_ind` function implemented in the \n",
    " [scipy library](https://docs.scipy.org/doc/scipy/reference/generated/scipy.stats.ttest_ind.html). To learn more about \n",
    " Student's t-test, check out this [Wikipedia page](https://en.wikipedia.org/wiki/Student%27s_t-test)."
   ]
  },
  {
   "cell_type": "markdown",
   "metadata": {},
   "source": [
    "##### 4.1 - Mean and std of different signature locations in update"
   ]
  },
  {
   "cell_type": "code",
   "execution_count": 15,
   "metadata": {
    "scrolled": true
   },
   "outputs": [
    {
     "name": "stdout",
     "output_type": "stream",
     "text": [
      "Average of sign top policies: 85439.578\n",
      "Average of sign bottom policies: 98097.218\n",
      "Standard deviation of sign top policies: 49014.992\n",
      "Standard deviation of sign bottom policies: 49646.961\n"
     ]
    }
   ],
   "source": [
    "update_average_top_mean =  df[df['condition']=='Sign Top']['update_average'].mean()\n",
    "update_average_bottom_mean =  df[df['condition']=='Sign Bottom']['update_average'].mean()\n",
    "update_average_top_std =  df[df['condition']=='Sign Top']['update_average'].std()\n",
    "update_average_bottom_std =  df[df['condition']=='Sign Bottom']['update_average'].std()\n",
    "print(f'Average of sign top policies: {update_average_top_mean:.3f}')\n",
    "print(f'Average of sign bottom policies: {update_average_bottom_mean:.3f}')\n",
    "print(f'Standard deviation of sign top policies: {update_average_top_std:.3f}')\n",
    "print(f'Standard deviation of sign bottom policies: {update_average_bottom_std:.3f}')"
   ]
  },
  {
   "cell_type": "markdown",
   "metadata": {},
   "source": [
    "We first compute the mean and standard deviation of update_average for contract that were signed at the top / signed at the bottom. We see see that the average kilometrage for people who signed at the top of the contract is lower than the one's who signed at the bottom. Our hypothesis was contrary to this fact but we have not yet computed the statistical significance of this difference"
   ]
  },
  {
   "cell_type": "code",
   "execution_count": 16,
   "metadata": {},
   "outputs": [
    {
     "data": {
      "image/png": "[encoded data removed]",
      "text/plain": [
       "<Figure size 432x288 with 1 Axes>"
      ]
     },
     "metadata": {
      "needs_background": "light"
     },
     "output_type": "display_data"
    }
   ],
   "source": [
    "df[df['condition']=='Sign Top']['update_average'].plot.kde(label='Sign Top')\n",
    "df[df['condition']=='Sign Bottom']['update_average'].plot.kde(label='Sign Bottom')\n",
    "plt.semilogx()\n",
    "plt.xlabel('Kilometrage')\n",
    "plt.title('       Distribution of update_average policy kilometrage')\n",
    "plt.legend()\n",
    "plt.show()"
   ]
  },
  {
   "cell_type": "markdown",
   "metadata": {},
   "source": [
    "We used a log-scale on the x-axis to emphasize the difference in distribution between the probabilities which could not be see on a linear scale due to the large difference in average kilometrage. At first sight, the distribution functions between the two signing types seem very similar but intuitions are not enough and a statistical test is necessary to quantify this difference.\n"
   ]
  },
  {
   "cell_type": "markdown",
   "metadata": {},
   "source": [
    "##### 4.2 Determine difference significance between signature locations"
   ]
  },
  {
   "cell_type": "markdown",
   "metadata": {},
   "source": [
    "To determine the difference significance, we use a one-sided t-test where the null hypothesis is that the average of the sign bottom kilometrage is lower than the average of the sign top kilometrage. We will also specify to the model that the variance of the two distributions may not be equal. Since statsmodel does not provide a one-sided hypothesis test, we can interpret the p-value as a one sided test by reject the null hypothesis of a greater-than test when p/2 < alpha. We will reject the null hypothesis with a confidence of 95% (if the p-value is below 0.10 due to having a one-sided test). It is to be noted that in our case, both one-sided and two-sided test lead to the same conclusion."
   ]
  },
  {
   "cell_type": "code",
   "execution_count": 17,
   "metadata": {},
   "outputs": [
    {
     "name": "stdout",
     "output_type": "stream",
     "text": [
      "The difference is significant with a p-value of 9.862715086781334e-50\n"
     ]
    }
   ],
   "source": [
    "statistic, p_value = stats.ttest_ind(df[df['condition']=='Sign Bottom']['update_average'],df[df['condition']=='Sign Top']['update_average'],equal_var=False)\n",
    "print(f'The difference is significant with a p-value of {p_value}' if(p_value/2<0.05) else 'The difference is not significant')"
   ]
  },
  {
   "cell_type": "markdown",
   "metadata": {},
   "source": [
    "##### 4.3 - Does signing at the top decrease dishonesty?"
   ]
  },
  {
   "cell_type": "markdown",
   "metadata": {},
   "source": [
    "Assuming the location where the person had to sign in the contract is the only variable varying between both studies, we can, with a confidence above 95%, state that signing at the top does not lead to a kilometrage distribution with a smaller mean than the one produced by signing at the bottom."
   ]
  },
  {
   "cell_type": "markdown",
   "metadata": {},
   "source": [
    "##### 4.4 - Difference the average values between sign at the top vs. sign at the bottom?"
   ]
  },
  {
   "cell_type": "markdown",
   "metadata": {},
   "source": [
    "Given that no intervention was performed in the baseline contract, and that policies were randomly split into the two groups, we would expected both samples to come from the same distribution. As a consequence, we would not expect any significant differences between the average values between *sign at the top* vs. *sign at the bottom* conditions for the baseline contract."
   ]
  },
  {
   "cell_type": "markdown",
   "metadata": {},
   "source": [
    "##### 4.5 - Mean and std of different signature locations in baseline"
   ]
  },
  {
   "cell_type": "code",
   "execution_count": 18,
   "metadata": {},
   "outputs": [
    {
     "name": "stdout",
     "output_type": "stream",
     "text": [
      "Average of sign top policies: 59339.012\n",
      "Average of sign bottom policies: 74427.842\n",
      "Standard deviation of sign top policies: 47132.613\n",
      "Standard deviation of sign bottom policies: 47909.077\n"
     ]
    }
   ],
   "source": [
    "baseline_average_top_mean =  df[df['condition']=='Sign Top']['baseline_average'].mean()\n",
    "baseline_average_bottom_mean =  df[df['condition']=='Sign Bottom']['baseline_average'].mean()\n",
    "baseline_average_top_std =  df[df['condition']=='Sign Top']['baseline_average'].std()\n",
    "baseline_average_bottom_std =  df[df['condition']=='Sign Bottom']['baseline_average'].std()\n",
    "print(f'Average of sign top policies: {baseline_average_top_mean:.3f}')\n",
    "print(f'Average of sign bottom policies: {baseline_average_bottom_mean:.3f}')\n",
    "print(f'Standard deviation of sign top policies: {baseline_average_top_std:.3f}')\n",
    "print(f'Standard deviation of sign bottom policies: {baseline_average_bottom_std:.3f}')"
   ]
  },
  {
   "cell_type": "markdown",
   "metadata": {},
   "source": [
    "We first compute the mean and standard deviation of baseline_average for contract that were signed at the top / signed at the bottom. We see see that the average kilometrage for people who signed at the top of the contract is quite lower than the one of those who signed at the bottom which contradicts our assumptions (signing at the top decreases dishonesty)."
   ]
  },
  {
   "cell_type": "code",
   "execution_count": 19,
   "metadata": {},
   "outputs": [
    {
     "data": {
      "image/png": "[encoded data removed]",
      "text/plain": [
       "<Figure size 432x288 with 1 Axes>"
      ]
     },
     "metadata": {
      "needs_background": "light"
     },
     "output_type": "display_data"
    }
   ],
   "source": [
    "df[df['condition']=='Sign Top']['baseline_average'].plot.kde(label='Sign Top')\n",
    "df[df['condition']=='Sign Bottom']['baseline_average'].plot.kde(label='Sign Bottom')\n",
    "plt.semilogx()\n",
    "plt.xlabel('Kilometrage')\n",
    "plt.title('           Distribution of baseline_average policy kilometrage')\n",
    "plt.legend()\n",
    "plt.show()"
   ]
  },
  {
   "cell_type": "markdown",
   "metadata": {},
   "source": [
    "As we can see from this plot, contrary to what would be expected, the distributions of both baseline_average policy is very different depending on the signature location. This is a first indication that the data has been tampered with."
   ]
  },
  {
   "cell_type": "markdown",
   "metadata": {},
   "source": [
    "##### 4.6 -Determine difference significance between signature locations"
   ]
  },
  {
   "cell_type": "markdown",
   "metadata": {},
   "source": [
    "To investigate the significance of this difference, we will use a [Kolmogorov–Smirnov test](https://en.wikipedia.org/wiki/Kolmogorov–Smirnov_test) which is a nonparametric test of the equality of probability distributions of two samples. Therefore, in this test, the null-hypothesis is that the baseline_average kilometrage come from the same distribution."
   ]
  },
  {
   "cell_type": "code",
   "execution_count": 20,
   "metadata": {},
   "outputs": [
    {
     "name": "stdout",
     "output_type": "stream",
     "text": [
      "The difference is significant with a p_value of 1.8056945654173075e-70\n"
     ]
    }
   ],
   "source": [
    "statistic, p_value = stats.ks_2samp(df[df['condition']=='Sign Top']['baseline_average'],df[df['condition']=='Sign Bottom']['baseline_average'])\n",
    "print(f'The difference is significant with a p_value of {p_value}' if(p_value<0.05) else 'The difference is not significant')"
   ]
  },
  {
   "cell_type": "markdown",
   "metadata": {},
   "source": [
    "We can therefore with high confidence reject the hypothesis that the signed-at-top and signed-at-bottom samples come from the same distribution and conclude that the data was not generated as indicated."
   ]
  },
  {
   "cell_type": "markdown",
   "metadata": {},
   "source": [
    "## Interlude: Something is dodgy about this data...\n",
    "\n",
    "---\n",
    "\n",
    "Noticing the oddities in the data, you send an email to your contact at the insurance company asking about the integrity\n",
    " of the data. Their reply seems like something out of a detective movie:\n",
    "\n",
    "> Dear researcher, I believe that this data is not to be trusted. I can't talk right now but will send further hints \n",
    ">throughout the week.\n",
    "\n",
    "As a researcher, you know that [data integrity](https://en.wikipedia.org/wiki/Data_integrity) is a big deal, and decide\n",
    " to investigate."
   ]
  },
  {
   "cell_type": "markdown",
   "metadata": {},
   "source": [
    "### Task 5 — 9pts\n",
    "\n",
    "The first hint you receive is: *there is something off about the kilometrage values in the data.*\n",
    "\n",
    "1. For the baseline contract and for the updated contract, plot the distribution of odometer kilometrage reported for \n",
    "the first motorcycle insured in each policy. \n",
    "2. For the first motorcycle insured by the company in each policy, plot the difference between the number of kilometers\n",
    " reported in the baseline and in the updated contract.\n",
    "3. **Discuss:** why is this data unlikely to have originated from real odometer readings?\n",
    "\n",
    "---"
   ]
  },
  {
   "cell_type": "markdown",
   "metadata": {},
   "source": [
    "##### 5.1 Distribution"
   ]
  },
  {
   "cell_type": "code",
   "execution_count": 21,
   "metadata": {},
   "outputs": [],
   "source": [
    "baseline = df.filter(regex='^baseline',axis=1) #All columns corresponding to baseline motorcycles\n",
    "update   = df.filter(regex='^update'  ,axis=1) #All columns corresponding to update motorcycles\n",
    "\n",
    "bs1 = baseline[\"baseline_motorcycle1\"]\n",
    "mc1 = update[\"update_motorcycle1\"]"
   ]
  },
  {
   "cell_type": "code",
   "execution_count": 22,
   "metadata": {},
   "outputs": [
    {
     "name": "stdout",
     "output_type": "stream",
     "text": [
      "count     13471.000000\n",
      "mean      66971.449855\n",
      "std       54548.512879\n",
      "min           0.000000\n",
      "10%        5610.000000\n",
      "25%       25248.500000\n",
      "50%       56229.000000\n",
      "75%       96089.000000\n",
      "max      463090.000000\n",
      "Name: baseline_motorcycle1, dtype: float64\n",
      "\n",
      "count     13471.000000\n",
      "mean      91902.370351\n",
      "std       56443.828536\n",
      "min          42.000000\n",
      "10%       29549.000000\n",
      "25%       50077.000000\n",
      "50%       82345.000000\n",
      "75%      123184.000000\n",
      "max      477843.000000\n",
      "Name: update_motorcycle1, dtype: float64\n"
     ]
    }
   ],
   "source": [
    "print(bs1.describe(percentiles=[0.1, 0.25, 0.5, 0.75]))\n",
    "print()\n",
    "print(mc1.describe(percentiles=[0.1, 0.25, 0.5, 0.75]))"
   ]
  },
  {
   "cell_type": "code",
   "execution_count": 23,
   "metadata": {
    "scrolled": true
   },
   "outputs": [
    {
     "name": "stdout",
     "output_type": "stream",
     "text": [
      "There are 117 0-values for baseline1\n",
      "these are not in the histogram.\n"
     ]
    }
   ],
   "source": [
    "print(\"There are \" + str(len(baseline[bs1 == 0])) + \" 0-values for baseline1\")\n",
    "print(\"these are not in the histogram.\")"
   ]
  },
  {
   "cell_type": "markdown",
   "metadata": {},
   "source": [
    "There are 117 0-values for baseline1, which are not plottable in this log-scale histogram.\\\n",
    "This must not be forgotten, but does not change the general shape of the histogram."
   ]
  },
  {
   "cell_type": "code",
   "execution_count": 24,
   "metadata": {},
   "outputs": [
    {
     "data": {
      "image/png": "[encoded data removed]",
      "text/plain": [
       "<Figure size 1008x360 with 1 Axes>"
      ]
     },
     "metadata": {
      "needs_background": "light"
     },
     "output_type": "display_data"
    }
   ],
   "source": [
    "fig, ax = plt.subplots(1,1, figsize=(14,5))\n",
    "\n",
    "bin_length_5_1 = 60\n",
    "logbins5_1 = np.logspace(0, np.log10(max(bs1.max(), mc1.max())), bin_length_5_1)\n",
    "plt.hist(bs1, color = 'turquoise', edgecolor = 'black', bins = logbins5_1, alpha = 0.6, label='baseline')\n",
    "plt.hist(mc1, color = 'r', edgecolor='black', bins=logbins5_1, alpha=0.4, label='update')\n",
    "\n",
    "plt.xscale('log')\n",
    "plt.xlabel('odometer (km) (logscale)')\n",
    "\n",
    "plt.yscale('log')\n",
    "plt.ylabel('count (logscale)')\n",
    "\n",
    "plt.title('Log-log histogram of the odometers for the baseline and the updated contract, bins='\\\n",
    "          +str(bin_length_5_1)+\"(log).\")\n",
    "\n",
    "_ = plt.legend()"
   ]
  },
  {
   "cell_type": "markdown",
   "metadata": {},
   "source": [
    "The distribution of values for the updated contract is way tighter, on a log scale, with almost no small values, i.e. the graph is shifted twoards the right —note it could be expected from the quantiles.\n",
    "\n",
    "If we took the data at face value (i.e. no liars or tampering), this would mean that after  signing the baseline contract, people who had low mileage started driving way more."
   ]
  },
  {
   "cell_type": "markdown",
   "metadata": {},
   "source": [
    "##### 5.2 Differences"
   ]
  },
  {
   "cell_type": "code",
   "execution_count": 25,
   "metadata": {},
   "outputs": [],
   "source": [
    "differences = (update[\"update_motorcycle1\"] - baseline[\"baseline_motorcycle1\"])"
   ]
  },
  {
   "cell_type": "code",
   "execution_count": 26,
   "metadata": {
    "scrolled": false
   },
   "outputs": [
    {
     "data": {
      "image/png": "[encoded data removed]",
      "text/plain": [
       "<Figure size 720x360 with 1 Axes>"
      ]
     },
     "metadata": {
      "needs_background": "light"
     },
     "output_type": "display_data"
    }
   ],
   "source": [
    "fig, ax = plt.subplots(1,1, figsize=(10,5))\n",
    "\n",
    "bins5_2 = 30\n",
    "hist = plt.hist(differences, color='violet', edgecolor='black', bins=bins5_2)\n",
    "\n",
    "plt.xlabel('odometer (km)')\n",
    "plt.ylabel('count')\n",
    "\n",
    "\n",
    "plt.hlines(hist[0].mean(), xmin=0, xmax=50000, colors='black', linestyles='dotted', label='histogram mean')\n",
    "\n",
    "plt.legend()\n",
    "_ = plt.title('Histogram of the differences between the update and the baseline, bins='+str(bins5_2))"
   ]
  },
  {
   "cell_type": "code",
   "execution_count": 27,
   "metadata": {
    "scrolled": true
   },
   "outputs": [
    {
     "name": "stdout",
     "output_type": "stream",
     "text": [
      "8        1\n",
      "10       1\n",
      "15       1\n",
      "18       1\n",
      "24       1\n",
      "        ..\n",
      "49970    1\n",
      "49975    1\n",
      "49982    1\n",
      "49986    1\n",
      "49997    1\n",
      "Length: 11874, dtype: int64\n",
      "\n",
      "There are 13471 differences in total.\n"
     ]
    }
   ],
   "source": [
    "tmp = differences.groupby(differences)\n",
    "print(tmp.count())\n",
    "print(\"\\nThere are \"+ str(differences.count())+ \" differences in total.\")"
   ]
  },
  {
   "cell_type": "code",
   "execution_count": 28,
   "metadata": {},
   "outputs": [
    {
     "data": {
      "text/plain": [
       "count    13471.000000\n",
       "mean     24930.920496\n",
       "std      14422.649619\n",
       "min          8.000000\n",
       "25%      12278.000000\n",
       "50%      25043.000000\n",
       "75%      37388.000000\n",
       "max      49997.000000\n",
       "dtype: float64"
      ]
     },
     "execution_count": 28,
     "metadata": {},
     "output_type": "execute_result"
    }
   ],
   "source": [
    "differences.describe()"
   ]
  },
  {
   "cell_type": "code",
   "execution_count": 29,
   "metadata": {},
   "outputs": [
    {
     "name": "stdout",
     "output_type": "stream",
     "text": [
      "The minimum difference is 8 which has 1 occurence(s). \n",
      "The maximum difference is 49997 which has 1 occurence(s).\n",
      "The smallest and highest difference are only situated to 2 standard deviations from the mean\n"
     ]
    }
   ],
   "source": [
    "print(\"The minimum difference is \" + str(differences.min()) \\\n",
    "      + \" which has \" + str(tmp.get_group(differences.min()).count()) + \" occurence(s). \")\n",
    "\n",
    "print(\"The maximum difference is \"+ str(differences.max()) + \\\n",
    "      \" which has \" + str(tmp.get_group(differences.max()).count()) + \" occurence(s).\")\n",
    "      \n",
    "print(\"The smallest and highest difference are only situated to 2 standard deviations from the mean\")"
   ]
  },
  {
   "cell_type": "markdown",
   "metadata": {},
   "source": [
    "##### 5.3 Origin of data"
   ]
  },
  {
   "cell_type": "markdown",
   "metadata": {},
   "source": [
    "We expect the distance distribution to be a bell curve cf [this article, page 382](https://www.researchgate.net/publication/325085735_Impact_of_Battery_Size_and_Energy_Cost_on_the_Market_Acceptance_of_Blended_Plug-in_Hybrid_Electric_Vehicles), which the violet plot(see cell 26) is clearly not."
   ]
  },
  {
   "cell_type": "markdown",
   "metadata": {},
   "source": [
    "### Task 6 — 15pts\n",
    "\n",
    "The second hint you receive is: *there is something off with the last digits of the reported kilometrages.*\n",
    "\n",
    "1. Considering the baseline kilometrage of the first motorcycle in each contract (`baseline_motorcycle1`), plot the \n",
    "distribution of occurrences of the last three digits. Repeat the same for the updated kilometrage of the first \n",
    "motorcycle in each contract (`update_motorcycle1`).\n",
    "\n",
    "3. **Discuss:** What are the differences between the two distributions?\n",
    "\n",
    "4. **Discuss:** Hypothesize a **plausible** cause for the patterns observed in the digit distribution of the baseline\n",
    " kilometrage of the first motorcycle.\n",
    "    \n",
    "---\n",
    "\n",
    "**Hint:** The last two digits of the number 12314 are 314. Note that you should consider the three last digits together,\n",
    " not separately!"
   ]
  },
  {
   "cell_type": "markdown",
   "metadata": {},
   "source": [
    "##### 6.1 Distribution of last 3 digits"
   ]
  },
  {
   "cell_type": "code",
   "execution_count": 30,
   "metadata": {},
   "outputs": [],
   "source": [
    "# Computations\n",
    "\n",
    "# baseline\n",
    "bs_3digits = baseline.loc[:, \"baseline_motorcycle1\"].copy()\n",
    "bs_3digits = bs_3digits.apply(lambda x: x%1000)\n",
    "\n",
    "# update\n",
    "update_3digits = update.loc[:, \"update_motorcycle1\"].copy()\n",
    "update_3digits = update_3digits.apply(lambda x: x% 1000)"
   ]
  },
  {
   "cell_type": "code",
   "execution_count": 31,
   "metadata": {
    "scrolled": false
   },
   "outputs": [
    {
     "data": {
      "image/png": "[encoded data removed]",
      "text/plain": [
       "<Figure size 1152x360 with 2 Axes>"
      ]
     },
     "metadata": {
      "needs_background": "light"
     },
     "output_type": "display_data"
    }
   ],
   "source": [
    "fig, (ax1, ax2) = plt.subplots(1,2, figsize=(16,5))\n",
    "fig.suptitle('Histogram of the last 3 digits of the odometer for the baseline.')\n",
    "\n",
    "# plot 1\n",
    "bins6_1b = 30\n",
    "ax1.hist(bs_3digits, color = 'skyblue', edgecolor = 'black', bins = bins6_1b)\n",
    "\n",
    "ax1.set_xlabel('odometer mod 1000 (km)')\n",
    "ax1.set_ylabel('count')\n",
    "\n",
    "ax1.set_title('bins='+str(bins6_1b))\n",
    "\n",
    "\n",
    "#plot 2\n",
    "\n",
    "bins6_1b2 = 1000\n",
    "ax2.hist(bs_3digits, color = 'skyblue', edgecolor = 'black', bins = bins6_1b2)\n",
    "\n",
    "ax2.set_xlabel('odometer mod 1000 (km)')\n",
    "ax2.set_yscale('log')\n",
    "ax2.set_ylabel('count (logscale)')\n",
    "\n",
    "ax2.set_xlim(0, 25)\n",
    "_ = ax2.set_title('bins=' + str(bins6_1b2) + ' zoomed in around the 0 part, using a log scale on the y-axis')"
   ]
  },
  {
   "cell_type": "code",
   "execution_count": 32,
   "metadata": {},
   "outputs": [
    {
     "data": {
      "image/png": "[encoded data removed]",
      "text/plain": [
       "<Figure size 1152x360 with 1 Axes>"
      ]
     },
     "metadata": {
      "needs_background": "light"
     },
     "output_type": "display_data"
    }
   ],
   "source": [
    "fig, ax = plt.subplots(1,1, figsize=(16,5))\n",
    "\n",
    "bins6_1b2 = 1000\n",
    "plt.hist(bs_3digits, color = 'skyblue', edgecolor = 'black', bins = bins6_1b2)\n",
    "\n",
    "plt.xlabel('odometer mod 1000 (km)')\n",
    "plt.yscale('log')\n",
    "plt.ylabel('count (logscale)')\n",
    "\n",
    "plt.xlim(0, 1000)\n",
    "_ = plt.title('y-log histogram of the last 3 digits of the odometer for the baseline, bins=1000.')"
   ]
  },
  {
   "cell_type": "code",
   "execution_count": 33,
   "metadata": {},
   "outputs": [
    {
     "name": "stdout",
     "output_type": "stream",
     "text": [
      "1397\n",
      "25\n",
      "10.370425358176824%\n"
     ]
    }
   ],
   "source": [
    "print(len(bs1[bs_3digits == 0]))\n",
    "print(len(bs1[bs_3digits == 1]))\n",
    "print(str(len(bs1[bs_3digits == 0]) / len(bs1) * 100) + '%')"
   ]
  },
  {
   "cell_type": "markdown",
   "metadata": {},
   "source": [
    "There is quite a peak at 0, while the rest of the odometer distribution seems uniform. About 10% of the baseline contract odometer values are congruent to $0 \\bmod 1000$."
   ]
  },
  {
   "cell_type": "code",
   "execution_count": 34,
   "metadata": {},
   "outputs": [
    {
     "data": {
      "image/png": "[encoded data removed]",
      "text/plain": [
       "<Figure size 720x360 with 1 Axes>"
      ]
     },
     "metadata": {
      "needs_background": "light"
     },
     "output_type": "display_data"
    }
   ],
   "source": [
    "# plot update\n",
    "fig, ax = plt.subplots(1,1, figsize=(10,5))\n",
    "\n",
    "bins6_1u = 30\n",
    "plt.hist(update_3digits, color='coral', edgecolor='black', bins=bins6_1u, alpha=0.9)\n",
    "\n",
    "plt.xlabel('odometer mod 1000 (km)')\n",
    "plt.ylabel('count')\n",
    "\n",
    "_ = plt.title('Histogram of the last 3 digits of the odometer for the updated contract, bins='+str(bins6_1u))"
   ]
  },
  {
   "cell_type": "markdown",
   "metadata": {},
   "source": [
    "##### 6.2 Differences between distributions"
   ]
  },
  {
   "cell_type": "code",
   "execution_count": 35,
   "metadata": {},
   "outputs": [
    {
     "name": "stdout",
     "output_type": "stream",
     "text": [
      "12627\n",
      "844\n",
      "6.6840896491644886 %\n"
     ]
    }
   ],
   "source": [
    "tmp1 = len(baseline[bs1 > 999])\n",
    "tmp2 = len(baseline[bs1 <= 999])\n",
    "print(tmp1) \n",
    "print(tmp2) \n",
    "print(str(tmp2 / tmp1 * 100) + \" %\")"
   ]
  },
  {
   "cell_type": "markdown",
   "metadata": {},
   "source": [
    "We can see that the two distribution are not the same.\n",
    "* The last 3 digits of the updated data are distributed rather evenly among the span 0-999, which is not unexpected: for the data which is above 999, i.e. most of it, we don't have an a priori distribution on the last digits.\n",
    "* The last 3 digits of the baseline contract odometer values are also evenly distributed, *except* for a huge peak at $000$, where 10% of the weight (instead of the expected 0.1% on average) is based, and some smaller peaks at 100, 200, ..., 900.\n",
    "* In summary, both distribution are similar, *except* for the very big difference at $000$, and some smaller differences on \"round numbers\". But then there is something surprising: the updated distribution, for signed-bottom contracts, should be the same as the baseline distribution, and therefore show the same peak. Since it doesn't, this would mean that it was compensated by updated-signed-top contracts. By plotting histograms of the updated contract mod 1000, separated based on the signature position, we see that is not the case."
   ]
  },
  {
   "cell_type": "code",
   "execution_count": 36,
   "metadata": {},
   "outputs": [
    {
     "data": {
      "image/png": "[encoded data removed]",
      "text/plain": [
       "<Figure size 1152x360 with 2 Axes>"
      ]
     },
     "metadata": {
      "needs_background": "light"
     },
     "output_type": "display_data"
    }
   ],
   "source": [
    "tmp = df.filter(regex='^update|^condition', axis=1)\n",
    "tmp[tmp[\"condition\"]==\"Sign Top\"][\"update_motorcycle1\"]\n",
    "\n",
    "\n",
    "fig, (ax1, ax2) = plt.subplots(1,2, figsize=(16,5))\n",
    "fig.suptitle('Histogram of the last 3 digits of the odometer for the updated contract.')\n",
    "\n",
    "# left plot, signe top\n",
    "bins6_1u = 50\n",
    "ax1.hist(tmp[tmp[\"condition\"]==\"Sign Top\"][\"update_motorcycle1\"] % 1000, color='coral', edgecolor='black', bins=bins6_1u, alpha=0.9)\n",
    "\n",
    "ax1.set_xlabel('odometer mod 1000 (km)')\n",
    "ax1.set_ylabel('count')\n",
    "\n",
    "_ = ax1.set_title('Sign top, bins='+str(bins6_1u))\n",
    "\n",
    "# right plot, sign bottom\n",
    "ax2.hist(tmp[tmp[\"condition\"]==\"Sign Bottom\"][\"update_motorcycle1\"] % 1000, color='coral', edgecolor='black', bins=bins6_1u, alpha=0.9)\n",
    "\n",
    "ax2.set_xlabel('odometer mod 1000 (km)')\n",
    "ax2.set_ylabel('count')\n",
    "\n",
    "_ = ax2.set_title('Sign bottom, bins='+str(bins6_1u))"
   ]
  },
  {
   "cell_type": "markdown",
   "metadata": {},
   "source": [
    "##### 6.3 Origin of differences"
   ]
  },
  {
   "cell_type": "markdown",
   "metadata": {},
   "source": [
    "A plausible explanations for the peak at $000$ mod $1000$ in the baseline distribution, is that people would tend to round their odometer kilometrage. This hypothesis is supported by the multiple peaks we see on the black graph (cell 32) every hundred, and in particular at $500$ and $1000$, which are common numbers for people to round to."
   ]
  },
  {
   "cell_type": "markdown",
   "metadata": {},
   "source": [
    "### Task 7 — 15pts\n",
    "\n",
    "The third (and last) hint you receive is: *there is something wrong with the fonts.*\n",
    "\n",
    "Your anonymous source explains that the `.tsv` file sent to you was derived from an Excel sheet. There, some of the rows\n",
    " were written in the font *Helvetica* while others were written in the font *Arial*. Your anonymous source sends you a \n",
    " file with the relation between policy id and the font used in the respective row (`fonts.csv`), and tells you that the\n",
    "  rows with *Helvetica* font were fabricated.\n",
    "\n",
    "1. Load `fonts.csv` and merge the `font` column into your pandas dataframe.\n",
    "2. Considering only the kilometrage of the first motorcycle in each policy, calculate the number of rows with the Arial \n",
    "and the Helvetica font, respectively. Also, plot the distribution of baseline kilometers for rows with the Arial font \n",
    "and for rows with the Helvetica font.\n",
    "3. Similar to what was done in task 6. Plot the distribution of the last three digits for 1) the first motorcycle in \n",
    "each baseline contract (`baseline_motorcycle1`); and 2) the first motorcycle in each updated contract\n",
    " (`update_motorcycle1`).\n",
    "4. **Discuss:** Why do these analyses provide evidence that the rows with Helvetica font were fabricated?\n",
    "\n",
    "---"
   ]
  },
  {
   "cell_type": "markdown",
   "metadata": {},
   "source": [
    "##### 7.1 Load the data"
   ]
  },
  {
   "cell_type": "code",
   "execution_count": 37,
   "metadata": {},
   "outputs": [
    {
     "data": {
      "text/html": [
       "<div>\n",
       "<style scoped>\n",
       "    .dataframe tbody tr th:only-of-type {\n",
       "        vertical-align: middle;\n",
       "    }\n",
       "\n",
       "    .dataframe tbody tr th {\n",
       "        vertical-align: top;\n",
       "    }\n",
       "\n",
       "    .dataframe thead th {\n",
       "        text-align: right;\n",
       "    }\n",
       "</style>\n",
       "<table border=\"1\" class=\"dataframe\">\n",
       "  <thead>\n",
       "    <tr style=\"text-align: right;\">\n",
       "      <th></th>\n",
       "      <th>id</th>\n",
       "      <th>font</th>\n",
       "    </tr>\n",
       "  </thead>\n",
       "  <tbody>\n",
       "    <tr>\n",
       "      <th>0</th>\n",
       "      <td>1</td>\n",
       "      <td>Helvetica</td>\n",
       "    </tr>\n",
       "    <tr>\n",
       "      <th>1</th>\n",
       "      <td>2</td>\n",
       "      <td>Helvetica</td>\n",
       "    </tr>\n",
       "    <tr>\n",
       "      <th>2</th>\n",
       "      <td>3</td>\n",
       "      <td>Helvetica</td>\n",
       "    </tr>\n",
       "    <tr>\n",
       "      <th>3</th>\n",
       "      <td>4</td>\n",
       "      <td>Helvetica</td>\n",
       "    </tr>\n",
       "    <tr>\n",
       "      <th>4</th>\n",
       "      <td>5</td>\n",
       "      <td>Arial</td>\n",
       "    </tr>\n",
       "    <tr>\n",
       "      <th>...</th>\n",
       "      <td>...</td>\n",
       "      <td>...</td>\n",
       "    </tr>\n",
       "    <tr>\n",
       "      <th>13482</th>\n",
       "      <td>13484</td>\n",
       "      <td>Arial</td>\n",
       "    </tr>\n",
       "    <tr>\n",
       "      <th>13483</th>\n",
       "      <td>13485</td>\n",
       "      <td>Helvetica</td>\n",
       "    </tr>\n",
       "    <tr>\n",
       "      <th>13484</th>\n",
       "      <td>13486</td>\n",
       "      <td>Helvetica</td>\n",
       "    </tr>\n",
       "    <tr>\n",
       "      <th>13485</th>\n",
       "      <td>13487</td>\n",
       "      <td>Helvetica</td>\n",
       "    </tr>\n",
       "    <tr>\n",
       "      <th>13486</th>\n",
       "      <td>13488</td>\n",
       "      <td>Helvetica</td>\n",
       "    </tr>\n",
       "  </tbody>\n",
       "</table>\n",
       "<p>13487 rows × 2 columns</p>\n",
       "</div>"
      ],
      "text/plain": [
       "          id       font\n",
       "0          1  Helvetica\n",
       "1          2  Helvetica\n",
       "2          3  Helvetica\n",
       "3          4  Helvetica\n",
       "4          5      Arial\n",
       "...      ...        ...\n",
       "13482  13484      Arial\n",
       "13483  13485  Helvetica\n",
       "13484  13486  Helvetica\n",
       "13485  13487  Helvetica\n",
       "13486  13488  Helvetica\n",
       "\n",
       "[13487 rows x 2 columns]"
      ]
     },
     "execution_count": 37,
     "metadata": {},
     "output_type": "execute_result"
    }
   ],
   "source": [
    "fonts = pd.read_csv(\"./data/fonts.csv\")\n",
    "fonts"
   ]
  },
  {
   "cell_type": "code",
   "execution_count": 38,
   "metadata": {},
   "outputs": [
    {
     "name": "stdout",
     "output_type": "stream",
     "text": [
      "id      13487\n",
      "font        2\n",
      "dtype: int64\n"
     ]
    }
   ],
   "source": [
    "# check there are really only 2 fonts.\n",
    "print((fonts.nunique()))"
   ]
  },
  {
   "cell_type": "markdown",
   "metadata": {},
   "source": [
    "##### 7.2 Kilometers"
   ]
  },
  {
   "cell_type": "code",
   "execution_count": 39,
   "metadata": {
    "scrolled": false
   },
   "outputs": [
    {
     "name": "stdout",
     "output_type": "stream",
     "text": [
      "The number of rows with arial font is 6737\n",
      "The number of rows with helvetica font is 6734\n"
     ]
    }
   ],
   "source": [
    "#filter rows by font\n",
    "#filter rows by font\n",
    "df_merge_fonts = df.merge(fonts,on=\"id\")\n",
    "\n",
    "arial_rows = df_merge_fonts[df_merge_fonts[\"font\"] == \"Arial\"]\n",
    "helvetica_rows = df_merge_fonts[df_merge_fonts[\"font\"] == \"Helvetica\"]\n",
    "\n",
    "print(\"The number of rows with arial font is \" + str(len(arial_rows)))\n",
    "print(\"The number of rows with helvetica font is \" + str(len(helvetica_rows)))"
   ]
  },
  {
   "cell_type": "markdown",
   "metadata": {},
   "source": [
    "The number of rows with arial font is 6737\\\n",
    "The number of rows with helvetica font is 6734\n"
   ]
  },
  {
   "cell_type": "code",
   "execution_count": 40,
   "metadata": {},
   "outputs": [
    {
     "data": {
      "text/html": [
       "<div>\n",
       "<style scoped>\n",
       "    .dataframe tbody tr th:only-of-type {\n",
       "        vertical-align: middle;\n",
       "    }\n",
       "\n",
       "    .dataframe tbody tr th {\n",
       "        vertical-align: top;\n",
       "    }\n",
       "\n",
       "    .dataframe thead th {\n",
       "        text-align: right;\n",
       "    }\n",
       "</style>\n",
       "<table border=\"1\" class=\"dataframe\">\n",
       "  <thead>\n",
       "    <tr style=\"text-align: right;\">\n",
       "      <th></th>\n",
       "      <th>condition</th>\n",
       "      <th>id</th>\n",
       "      <th>baseline_motorcycle1</th>\n",
       "      <th>update_motorcycle1</th>\n",
       "      <th>baseline_motorcycle2</th>\n",
       "      <th>update_motorcycle2</th>\n",
       "      <th>baseline_motorcycle3</th>\n",
       "      <th>update_motorcycle3</th>\n",
       "      <th>baseline_motorcycle4</th>\n",
       "      <th>update_motorcycle4</th>\n",
       "      <th>motorcycle_count</th>\n",
       "      <th>baseline_average</th>\n",
       "      <th>update_average</th>\n",
       "      <th>diff_average</th>\n",
       "      <th>font</th>\n",
       "    </tr>\n",
       "  </thead>\n",
       "  <tbody>\n",
       "    <tr>\n",
       "      <th>4</th>\n",
       "      <td>Sign Bottom</td>\n",
       "      <td>5</td>\n",
       "      <td>16862</td>\n",
       "      <td>59292</td>\n",
       "      <td>NaN</td>\n",
       "      <td>NaN</td>\n",
       "      <td>NaN</td>\n",
       "      <td>NaN</td>\n",
       "      <td>NaN</td>\n",
       "      <td>NaN</td>\n",
       "      <td>1</td>\n",
       "      <td>16862.0</td>\n",
       "      <td>59292.0</td>\n",
       "      <td>42430.0</td>\n",
       "      <td>Arial</td>\n",
       "    </tr>\n",
       "    <tr>\n",
       "      <th>5</th>\n",
       "      <td>Sign Top</td>\n",
       "      <td>6</td>\n",
       "      <td>147738</td>\n",
       "      <td>167895</td>\n",
       "      <td>125820.0</td>\n",
       "      <td>164688.0</td>\n",
       "      <td>NaN</td>\n",
       "      <td>NaN</td>\n",
       "      <td>NaN</td>\n",
       "      <td>NaN</td>\n",
       "      <td>2</td>\n",
       "      <td>136779.0</td>\n",
       "      <td>166291.5</td>\n",
       "      <td>29512.5</td>\n",
       "      <td>Arial</td>\n",
       "    </tr>\n",
       "    <tr>\n",
       "      <th>6</th>\n",
       "      <td>Sign Bottom</td>\n",
       "      <td>7</td>\n",
       "      <td>18780</td>\n",
       "      <td>49811</td>\n",
       "      <td>45402.0</td>\n",
       "      <td>54824.0</td>\n",
       "      <td>NaN</td>\n",
       "      <td>NaN</td>\n",
       "      <td>NaN</td>\n",
       "      <td>NaN</td>\n",
       "      <td>2</td>\n",
       "      <td>32091.0</td>\n",
       "      <td>52317.5</td>\n",
       "      <td>20226.5</td>\n",
       "      <td>Arial</td>\n",
       "    </tr>\n",
       "    <tr>\n",
       "      <th>7</th>\n",
       "      <td>Sign Top</td>\n",
       "      <td>8</td>\n",
       "      <td>41930</td>\n",
       "      <td>80323</td>\n",
       "      <td>181416.0</td>\n",
       "      <td>229852.0</td>\n",
       "      <td>NaN</td>\n",
       "      <td>NaN</td>\n",
       "      <td>NaN</td>\n",
       "      <td>NaN</td>\n",
       "      <td>2</td>\n",
       "      <td>111673.0</td>\n",
       "      <td>155087.5</td>\n",
       "      <td>43414.5</td>\n",
       "      <td>Arial</td>\n",
       "    </tr>\n",
       "    <tr>\n",
       "      <th>9</th>\n",
       "      <td>Sign Bottom</td>\n",
       "      <td>10</td>\n",
       "      <td>78382</td>\n",
       "      <td>127817</td>\n",
       "      <td>NaN</td>\n",
       "      <td>NaN</td>\n",
       "      <td>NaN</td>\n",
       "      <td>NaN</td>\n",
       "      <td>NaN</td>\n",
       "      <td>NaN</td>\n",
       "      <td>1</td>\n",
       "      <td>78382.0</td>\n",
       "      <td>127817.0</td>\n",
       "      <td>49435.0</td>\n",
       "      <td>Arial</td>\n",
       "    </tr>\n",
       "    <tr>\n",
       "      <th>...</th>\n",
       "      <td>...</td>\n",
       "      <td>...</td>\n",
       "      <td>...</td>\n",
       "      <td>...</td>\n",
       "      <td>...</td>\n",
       "      <td>...</td>\n",
       "      <td>...</td>\n",
       "      <td>...</td>\n",
       "      <td>...</td>\n",
       "      <td>...</td>\n",
       "      <td>...</td>\n",
       "      <td>...</td>\n",
       "      <td>...</td>\n",
       "      <td>...</td>\n",
       "      <td>...</td>\n",
       "    </tr>\n",
       "    <tr>\n",
       "      <th>13459</th>\n",
       "      <td>Sign Top</td>\n",
       "      <td>13477</td>\n",
       "      <td>0</td>\n",
       "      <td>3630</td>\n",
       "      <td>NaN</td>\n",
       "      <td>NaN</td>\n",
       "      <td>NaN</td>\n",
       "      <td>NaN</td>\n",
       "      <td>NaN</td>\n",
       "      <td>NaN</td>\n",
       "      <td>1</td>\n",
       "      <td>0.0</td>\n",
       "      <td>3630.0</td>\n",
       "      <td>3630.0</td>\n",
       "      <td>Arial</td>\n",
       "    </tr>\n",
       "    <tr>\n",
       "      <th>13460</th>\n",
       "      <td>Sign Bottom</td>\n",
       "      <td>13478</td>\n",
       "      <td>100467</td>\n",
       "      <td>117836</td>\n",
       "      <td>NaN</td>\n",
       "      <td>NaN</td>\n",
       "      <td>20.0</td>\n",
       "      <td>32650.0</td>\n",
       "      <td>NaN</td>\n",
       "      <td>NaN</td>\n",
       "      <td>2</td>\n",
       "      <td>50243.5</td>\n",
       "      <td>75243.0</td>\n",
       "      <td>24999.5</td>\n",
       "      <td>Arial</td>\n",
       "    </tr>\n",
       "    <tr>\n",
       "      <th>13461</th>\n",
       "      <td>Sign Top</td>\n",
       "      <td>13479</td>\n",
       "      <td>250</td>\n",
       "      <td>10476</td>\n",
       "      <td>NaN</td>\n",
       "      <td>NaN</td>\n",
       "      <td>NaN</td>\n",
       "      <td>NaN</td>\n",
       "      <td>NaN</td>\n",
       "      <td>NaN</td>\n",
       "      <td>1</td>\n",
       "      <td>250.0</td>\n",
       "      <td>10476.0</td>\n",
       "      <td>10226.0</td>\n",
       "      <td>Arial</td>\n",
       "    </tr>\n",
       "    <tr>\n",
       "      <th>13463</th>\n",
       "      <td>Sign Bottom</td>\n",
       "      <td>13481</td>\n",
       "      <td>59624</td>\n",
       "      <td>71545</td>\n",
       "      <td>NaN</td>\n",
       "      <td>NaN</td>\n",
       "      <td>NaN</td>\n",
       "      <td>NaN</td>\n",
       "      <td>140198.0</td>\n",
       "      <td>151643.0</td>\n",
       "      <td>2</td>\n",
       "      <td>99911.0</td>\n",
       "      <td>111594.0</td>\n",
       "      <td>11683.0</td>\n",
       "      <td>Arial</td>\n",
       "    </tr>\n",
       "    <tr>\n",
       "      <th>13466</th>\n",
       "      <td>Sign Top</td>\n",
       "      <td>13484</td>\n",
       "      <td>20970</td>\n",
       "      <td>61552</td>\n",
       "      <td>42391.0</td>\n",
       "      <td>46815.0</td>\n",
       "      <td>NaN</td>\n",
       "      <td>NaN</td>\n",
       "      <td>NaN</td>\n",
       "      <td>NaN</td>\n",
       "      <td>2</td>\n",
       "      <td>31680.5</td>\n",
       "      <td>54183.5</td>\n",
       "      <td>22503.0</td>\n",
       "      <td>Arial</td>\n",
       "    </tr>\n",
       "  </tbody>\n",
       "</table>\n",
       "<p>6737 rows × 15 columns</p>\n",
       "</div>"
      ],
      "text/plain": [
       "         condition     id  baseline_motorcycle1  update_motorcycle1  \\\n",
       "4      Sign Bottom      5                 16862               59292   \n",
       "5         Sign Top      6                147738              167895   \n",
       "6      Sign Bottom      7                 18780               49811   \n",
       "7         Sign Top      8                 41930               80323   \n",
       "9      Sign Bottom     10                 78382              127817   \n",
       "...            ...    ...                   ...                 ...   \n",
       "13459     Sign Top  13477                     0                3630   \n",
       "13460  Sign Bottom  13478                100467              117836   \n",
       "13461     Sign Top  13479                   250               10476   \n",
       "13463  Sign Bottom  13481                 59624               71545   \n",
       "13466     Sign Top  13484                 20970               61552   \n",
       "\n",
       "       baseline_motorcycle2  update_motorcycle2  baseline_motorcycle3  \\\n",
       "4                       NaN                 NaN                   NaN   \n",
       "5                  125820.0            164688.0                   NaN   \n",
       "6                   45402.0             54824.0                   NaN   \n",
       "7                  181416.0            229852.0                   NaN   \n",
       "9                       NaN                 NaN                   NaN   \n",
       "...                     ...                 ...                   ...   \n",
       "13459                   NaN                 NaN                   NaN   \n",
       "13460                   NaN                 NaN                  20.0   \n",
       "13461                   NaN                 NaN                   NaN   \n",
       "13463                   NaN                 NaN                   NaN   \n",
       "13466               42391.0             46815.0                   NaN   \n",
       "\n",
       "       update_motorcycle3  baseline_motorcycle4  update_motorcycle4  \\\n",
       "4                     NaN                   NaN                 NaN   \n",
       "5                     NaN                   NaN                 NaN   \n",
       "6                     NaN                   NaN                 NaN   \n",
       "7                     NaN                   NaN                 NaN   \n",
       "9                     NaN                   NaN                 NaN   \n",
       "...                   ...                   ...                 ...   \n",
       "13459                 NaN                   NaN                 NaN   \n",
       "13460             32650.0                   NaN                 NaN   \n",
       "13461                 NaN                   NaN                 NaN   \n",
       "13463                 NaN              140198.0            151643.0   \n",
       "13466                 NaN                   NaN                 NaN   \n",
       "\n",
       "       motorcycle_count  baseline_average  update_average  diff_average   font  \n",
       "4                     1           16862.0         59292.0       42430.0  Arial  \n",
       "5                     2          136779.0        166291.5       29512.5  Arial  \n",
       "6                     2           32091.0         52317.5       20226.5  Arial  \n",
       "7                     2          111673.0        155087.5       43414.5  Arial  \n",
       "9                     1           78382.0        127817.0       49435.0  Arial  \n",
       "...                 ...               ...             ...           ...    ...  \n",
       "13459                 1               0.0          3630.0        3630.0  Arial  \n",
       "13460                 2           50243.5         75243.0       24999.5  Arial  \n",
       "13461                 1             250.0         10476.0       10226.0  Arial  \n",
       "13463                 2           99911.0        111594.0       11683.0  Arial  \n",
       "13466                 2           31680.5         54183.5       22503.0  Arial  \n",
       "\n",
       "[6737 rows x 15 columns]"
      ]
     },
     "execution_count": 40,
     "metadata": {},
     "output_type": "execute_result"
    }
   ],
   "source": [
    "arial_rows"
   ]
  },
  {
   "cell_type": "code",
   "execution_count": 41,
   "metadata": {},
   "outputs": [],
   "source": [
    "arial_baseline = arial_rows.filter(regex='^baseline|id' ,axis=1)\n",
    "helvetica_baseline = helvetica_rows.filter(regex='^baseline|id' ,axis=1)"
   ]
  },
  {
   "cell_type": "code",
   "execution_count": 42,
   "metadata": {},
   "outputs": [
    {
     "data": {
      "text/html": [
       "<div>\n",
       "<style scoped>\n",
       "    .dataframe tbody tr th:only-of-type {\n",
       "        vertical-align: middle;\n",
       "    }\n",
       "\n",
       "    .dataframe tbody tr th {\n",
       "        vertical-align: top;\n",
       "    }\n",
       "\n",
       "    .dataframe thead th {\n",
       "        text-align: right;\n",
       "    }\n",
       "</style>\n",
       "<table border=\"1\" class=\"dataframe\">\n",
       "  <thead>\n",
       "    <tr style=\"text-align: right;\">\n",
       "      <th></th>\n",
       "      <th>id</th>\n",
       "      <th>baseline_motorcycle1</th>\n",
       "      <th>baseline_motorcycle2</th>\n",
       "      <th>baseline_motorcycle3</th>\n",
       "      <th>baseline_motorcycle4</th>\n",
       "      <th>baseline_average</th>\n",
       "    </tr>\n",
       "  </thead>\n",
       "  <tbody>\n",
       "    <tr>\n",
       "      <th>count</th>\n",
       "      <td>6737.000000</td>\n",
       "      <td>6737.000000</td>\n",
       "      <td>2819.000000</td>\n",
       "      <td>636.000000</td>\n",
       "      <td>162.000000</td>\n",
       "      <td>6737.000000</td>\n",
       "    </tr>\n",
       "    <tr>\n",
       "      <th>mean</th>\n",
       "      <td>6714.309336</td>\n",
       "      <td>66761.746326</td>\n",
       "      <td>66142.794253</td>\n",
       "      <td>65839.216981</td>\n",
       "      <td>66962.172840</td>\n",
       "      <td>66570.995262</td>\n",
       "    </tr>\n",
       "    <tr>\n",
       "      <th>std</th>\n",
       "      <td>3908.411917</td>\n",
       "      <td>54682.970622</td>\n",
       "      <td>53242.575881</td>\n",
       "      <td>55654.845850</td>\n",
       "      <td>54301.551388</td>\n",
       "      <td>48237.684925</td>\n",
       "    </tr>\n",
       "    <tr>\n",
       "      <th>min</th>\n",
       "      <td>5.000000</td>\n",
       "      <td>0.000000</td>\n",
       "      <td>0.000000</td>\n",
       "      <td>0.000000</td>\n",
       "      <td>0.000000</td>\n",
       "      <td>0.000000</td>\n",
       "    </tr>\n",
       "    <tr>\n",
       "      <th>25%</th>\n",
       "      <td>3307.000000</td>\n",
       "      <td>25000.000000</td>\n",
       "      <td>24087.000000</td>\n",
       "      <td>17875.500000</td>\n",
       "      <td>13951.250000</td>\n",
       "      <td>30899.500000</td>\n",
       "    </tr>\n",
       "    <tr>\n",
       "      <th>50%</th>\n",
       "      <td>6730.000000</td>\n",
       "      <td>56000.000000</td>\n",
       "      <td>56000.000000</td>\n",
       "      <td>57999.000000</td>\n",
       "      <td>66683.000000</td>\n",
       "      <td>59359.000000</td>\n",
       "    </tr>\n",
       "    <tr>\n",
       "      <th>75%</th>\n",
       "      <td>10073.000000</td>\n",
       "      <td>95888.000000</td>\n",
       "      <td>96764.000000</td>\n",
       "      <td>99791.000000</td>\n",
       "      <td>105881.750000</td>\n",
       "      <td>91834.500000</td>\n",
       "    </tr>\n",
       "    <tr>\n",
       "      <th>max</th>\n",
       "      <td>13484.000000</td>\n",
       "      <td>463090.000000</td>\n",
       "      <td>353700.000000</td>\n",
       "      <td>269851.000000</td>\n",
       "      <td>216874.000000</td>\n",
       "      <td>463090.000000</td>\n",
       "    </tr>\n",
       "  </tbody>\n",
       "</table>\n",
       "</div>"
      ],
      "text/plain": [
       "                 id  baseline_motorcycle1  baseline_motorcycle2  \\\n",
       "count   6737.000000           6737.000000           2819.000000   \n",
       "mean    6714.309336          66761.746326          66142.794253   \n",
       "std     3908.411917          54682.970622          53242.575881   \n",
       "min        5.000000              0.000000              0.000000   \n",
       "25%     3307.000000          25000.000000          24087.000000   \n",
       "50%     6730.000000          56000.000000          56000.000000   \n",
       "75%    10073.000000          95888.000000          96764.000000   \n",
       "max    13484.000000         463090.000000         353700.000000   \n",
       "\n",
       "       baseline_motorcycle3  baseline_motorcycle4  baseline_average  \n",
       "count            636.000000            162.000000       6737.000000  \n",
       "mean           65839.216981          66962.172840      66570.995262  \n",
       "std            55654.845850          54301.551388      48237.684925  \n",
       "min                0.000000              0.000000          0.000000  \n",
       "25%            17875.500000          13951.250000      30899.500000  \n",
       "50%            57999.000000          66683.000000      59359.000000  \n",
       "75%            99791.000000         105881.750000      91834.500000  \n",
       "max           269851.000000         216874.000000     463090.000000  "
      ]
     },
     "execution_count": 42,
     "metadata": {},
     "output_type": "execute_result"
    }
   ],
   "source": [
    "arial_baseline.describe()"
   ]
  },
  {
   "cell_type": "code",
   "execution_count": 43,
   "metadata": {},
   "outputs": [
    {
     "data": {
      "text/html": [
       "<div>\n",
       "<style scoped>\n",
       "    .dataframe tbody tr th:only-of-type {\n",
       "        vertical-align: middle;\n",
       "    }\n",
       "\n",
       "    .dataframe tbody tr th {\n",
       "        vertical-align: top;\n",
       "    }\n",
       "\n",
       "    .dataframe thead th {\n",
       "        text-align: right;\n",
       "    }\n",
       "</style>\n",
       "<table border=\"1\" class=\"dataframe\">\n",
       "  <thead>\n",
       "    <tr style=\"text-align: right;\">\n",
       "      <th></th>\n",
       "      <th>id</th>\n",
       "      <th>baseline_motorcycle1</th>\n",
       "      <th>baseline_motorcycle2</th>\n",
       "      <th>baseline_motorcycle3</th>\n",
       "      <th>baseline_motorcycle4</th>\n",
       "      <th>baseline_average</th>\n",
       "    </tr>\n",
       "  </thead>\n",
       "  <tbody>\n",
       "    <tr>\n",
       "      <th>count</th>\n",
       "      <td>6734.000000</td>\n",
       "      <td>6734.000000</td>\n",
       "      <td>2816.000000</td>\n",
       "      <td>635.000000</td>\n",
       "      <td>162.000000</td>\n",
       "      <td>6734.000000</td>\n",
       "    </tr>\n",
       "    <tr>\n",
       "      <th>mean</th>\n",
       "      <td>6774.070538</td>\n",
       "      <td>67181.246807</td>\n",
       "      <td>66609.322088</td>\n",
       "      <td>66405.998425</td>\n",
       "      <td>67643.172840</td>\n",
       "      <td>67008.900889</td>\n",
       "    </tr>\n",
       "    <tr>\n",
       "      <th>std</th>\n",
       "      <td>3877.660764</td>\n",
       "      <td>54416.914699</td>\n",
       "      <td>53242.857891</td>\n",
       "      <td>55673.854257</td>\n",
       "      <td>54595.904339</td>\n",
       "      <td>47986.541132</td>\n",
       "    </tr>\n",
       "    <tr>\n",
       "      <th>min</th>\n",
       "      <td>1.000000</td>\n",
       "      <td>6.000000</td>\n",
       "      <td>24.000000</td>\n",
       "      <td>67.000000</td>\n",
       "      <td>89.000000</td>\n",
       "      <td>6.000000</td>\n",
       "    </tr>\n",
       "    <tr>\n",
       "      <th>25%</th>\n",
       "      <td>3444.250000</td>\n",
       "      <td>25607.500000</td>\n",
       "      <td>24655.500000</td>\n",
       "      <td>18727.000000</td>\n",
       "      <td>14496.000000</td>\n",
       "      <td>31357.625000</td>\n",
       "    </tr>\n",
       "    <tr>\n",
       "      <th>50%</th>\n",
       "      <td>6760.500000</td>\n",
       "      <td>56455.000000</td>\n",
       "      <td>56292.000000</td>\n",
       "      <td>58821.000000</td>\n",
       "      <td>67048.000000</td>\n",
       "      <td>59914.000000</td>\n",
       "    </tr>\n",
       "    <tr>\n",
       "      <th>75%</th>\n",
       "      <td>10156.750000</td>\n",
       "      <td>96312.500000</td>\n",
       "      <td>96836.250000</td>\n",
       "      <td>100351.500000</td>\n",
       "      <td>106506.750000</td>\n",
       "      <td>92349.708333</td>\n",
       "    </tr>\n",
       "    <tr>\n",
       "      <th>max</th>\n",
       "      <td>13488.000000</td>\n",
       "      <td>444290.000000</td>\n",
       "      <td>353818.000000</td>\n",
       "      <td>270274.000000</td>\n",
       "      <td>217715.000000</td>\n",
       "      <td>444290.000000</td>\n",
       "    </tr>\n",
       "  </tbody>\n",
       "</table>\n",
       "</div>"
      ],
      "text/plain": [
       "                 id  baseline_motorcycle1  baseline_motorcycle2  \\\n",
       "count   6734.000000           6734.000000           2816.000000   \n",
       "mean    6774.070538          67181.246807          66609.322088   \n",
       "std     3877.660764          54416.914699          53242.857891   \n",
       "min        1.000000              6.000000             24.000000   \n",
       "25%     3444.250000          25607.500000          24655.500000   \n",
       "50%     6760.500000          56455.000000          56292.000000   \n",
       "75%    10156.750000          96312.500000          96836.250000   \n",
       "max    13488.000000         444290.000000         353818.000000   \n",
       "\n",
       "       baseline_motorcycle3  baseline_motorcycle4  baseline_average  \n",
       "count            635.000000            162.000000       6734.000000  \n",
       "mean           66405.998425          67643.172840      67008.900889  \n",
       "std            55673.854257          54595.904339      47986.541132  \n",
       "min               67.000000             89.000000          6.000000  \n",
       "25%            18727.000000          14496.000000      31357.625000  \n",
       "50%            58821.000000          67048.000000      59914.000000  \n",
       "75%           100351.500000         106506.750000      92349.708333  \n",
       "max           270274.000000         217715.000000     444290.000000  "
      ]
     },
     "execution_count": 43,
     "metadata": {},
     "output_type": "execute_result"
    }
   ],
   "source": [
    "helvetica_baseline.describe()"
   ]
  },
  {
   "cell_type": "code",
   "execution_count": 44,
   "metadata": {},
   "outputs": [
    {
     "name": "stdout",
     "output_type": "stream",
     "text": [
      "arial:     117\n",
      "helvetica: 0\n"
     ]
    }
   ],
   "source": [
    "print(\"arial:     \" + str(len(arial_baseline[arial_baseline[\"baseline_motorcycle1\"] == 0])))\n",
    "print(\"helvetica: \" + str(len(helvetica_baseline[helvetica_baseline[\"baseline_motorcycle1\"] == 0])))"
   ]
  },
  {
   "cell_type": "markdown",
   "metadata": {},
   "source": [
    "It is notable, even strange that every baseline motorcycle 1, with helvetica font, happen to have been used while more than 100 haven't, with the arial font —recall there are basically the same number of motorcycle of these 2 types."
   ]
  },
  {
   "cell_type": "code",
   "execution_count": 45,
   "metadata": {},
   "outputs": [
    {
     "data": {
      "image/png": "[encoded data removed]",
      "text/plain": [
       "<Figure size 1152x360 with 2 Axes>"
      ]
     },
     "metadata": {
      "needs_background": "light"
     },
     "output_type": "display_data"
    }
   ],
   "source": [
    "# bins\n",
    "bin_length7_2arial = 30\n",
    "bins7_2arial = np.logspace(0, np.log10(arial_baseline[\"baseline_motorcycle1\"].max()), bin_length7_2arial)\n",
    "\n",
    "# frame\n",
    "fig, (ax1, ax2) = plt.subplots(1,2, figsize=(16,5))\n",
    "fig.suptitle('Histograms of the baseline odometer, for font arial.')\n",
    "\n",
    "# left plot\n",
    "ax1.hist(arial_baseline[\"baseline_motorcycle1\"], color='powderblue', edgecolor='black', bins=bins7_2arial)\n",
    "\n",
    "ax1.set_xlabel('odometer (log) (km)')\n",
    "ax1.set_xscale('log')\n",
    "\n",
    "ax1.set_ylabel('count')\n",
    "\n",
    "_ = ax1.set_title('x-log, font=arial, bins='+str(bin_length7_2arial))\n",
    "\n",
    "\n",
    "# right plot\n",
    "ax2.hist(arial_baseline[\"baseline_motorcycle1\"], color='powderblue', edgecolor='black', bins=bins7_2arial)\n",
    "\n",
    "ax2.set_xlabel('odometer (log) (km)')\n",
    "ax2.set_xscale('log')\n",
    "\n",
    "ax2.set_ylabel('count (log)')\n",
    "plt.yscale('log')\n",
    "\n",
    "_ = ax2.set_title('Log-log, font=arial, bins='+str(bin_length7_2arial))"
   ]
  },
  {
   "cell_type": "code",
   "execution_count": 46,
   "metadata": {},
   "outputs": [
    {
     "data": {
      "image/png": "[encoded data removed]",
      "text/plain": [
       "<Figure size 1152x360 with 2 Axes>"
      ]
     },
     "metadata": {
      "needs_background": "light"
     },
     "output_type": "display_data"
    }
   ],
   "source": [
    "# bins\n",
    "bin_length7_2helvetica = 30\n",
    "bins7_2helvetica = np.logspace(0, np.log10(helvetica_baseline[\"baseline_motorcycle1\"].max()), bin_length7_2helvetica)\n",
    "\n",
    "# frame\n",
    "fig, (ax1, ax2) = plt.subplots(1,2, figsize=(16,5))\n",
    "fig.suptitle('Histograms of the baseline odometer for font helvetica')\n",
    "\n",
    "# left plot, x-log\n",
    "ax1.hist(helvetica_baseline[\"baseline_motorcycle1\"], color='lightskyblue',\\\n",
    "         edgecolor='white', bins=bins7_2helvetica)\n",
    "\n",
    "ax1.set_xlabel('odometer (log) (km)')\n",
    "ax1.set_xscale('log')\n",
    "\n",
    "ax1.set_ylabel('count')\n",
    "\n",
    "ax1.set_title('x-log, font=helvetica, bins='+str(bin_length7_2helvetica))\n",
    "\n",
    "\n",
    "# right plot, log-log\n",
    "ax2.hist(helvetica_baseline[\"baseline_motorcycle1\"], color='lightskyblue',\\\n",
    "         edgecolor='white', bins=bins7_2helvetica)\n",
    "\n",
    "ax2.set_xlabel('odometer (log) (km)')\n",
    "ax2.set_xscale('log')\n",
    "\n",
    "ax2.set_ylabel('count (log)')\n",
    "ax2.set_yscale('log')\n",
    "\n",
    "_ = ax2.set_title('Log-log, font=helvetica, bins='+str(bin_length7_2helvetica))"
   ]
  },
  {
   "cell_type": "markdown",
   "metadata": {},
   "source": [
    "Previously we observed the helvetica font values had a strangely low number of 0-values.\\\n",
    "Here we can observe that this observation applies to not only 0, but to all small (<500km, at least) values."
   ]
  },
  {
   "cell_type": "code",
   "execution_count": 47,
   "metadata": {},
   "outputs": [
    {
     "name": "stdout",
     "output_type": "stream",
     "text": [
      "threshold: 100km, count arial: 334, count helvet: 30, ratio: 8.241758241758241 %\n",
      "threshold: 200km, count arial: 371, count helvet: 68, ratio: 15.489749430523919 %\n",
      "threshold: 300km, count arial: 406, count helvet: 97, ratio: 19.284294234592444 %\n",
      "threshold: 400km, count arial: 420, count helvet: 140, ratio: 25.0 %\n",
      "threshold: 500km, count arial: 427, count helvet: 173, ratio: 28.833333333333332 %\n",
      "threshold: 600km, count arial: 434, count helvet: 229, ratio: 34.53996983408748 %\n",
      "threshold: 700km, count arial: 438, count helvet: 267, ratio: 37.87234042553192 %\n",
      "threshold: 800km, count arial: 440, count helvet: 316, ratio: 41.7989417989418 %\n",
      "threshold: 900km, count arial: 443, count helvet: 356, ratio: 44.55569461827284 %\n",
      "threshold: 1000km, count arial: 444, count helvet: 400, ratio: 47.39336492890995 %\n"
     ]
    }
   ],
   "source": [
    "threshold = 500\n",
    "\n",
    "X = []\n",
    "ratios_helv_tot = []\n",
    "ratios_helv_arial = []\n",
    "for threshold in range(100, 1001, 100):\n",
    "    tmp_arial = arial_baseline[arial_baseline[\"baseline_motorcycle1\"] < threshold]\n",
    "    tmp_helvet = helvetica_baseline[helvetica_baseline[\"baseline_motorcycle1\"] < threshold]\n",
    "    X.append(threshold)\n",
    "    ratios_helv_tot.append(len(tmp_helvet)/(len(tmp_helvet)+len(tmp_arial))*100)\n",
    "    ratios_helv_arial.append(len(tmp_helvet)/len(tmp_arial)*100)\n",
    "    print(\"threshold: \" + str(threshold) + \"km\" +\\\n",
    "          \", count arial: \" + str(len(tmp_arial)) +\\\n",
    "          \", count helvet: \" + str(len(tmp_helvet)) +\\\n",
    "          \", ratio: \" + str(len(tmp_helvet)/(len(tmp_helvet)+len(tmp_arial))*100) +\" %\")\n",
    "X = np.array(X).reshape(-1, 1)"
   ]
  },
  {
   "cell_type": "code",
   "execution_count": 48,
   "metadata": {},
   "outputs": [],
   "source": [
    "reg_tot = LinearRegression().fit(X, ratios_helv_tot)\n",
    "y_tot = reg_tot.predict(X)\n",
    "\n",
    "reg_arial = LinearRegression().fit(X, ratios_helv_arial)\n",
    "y_arial = reg_arial.predict(X)"
   ]
  },
  {
   "cell_type": "markdown",
   "metadata": {},
   "source": [
    "See below plots of the ratios \n",
    "$\\frac{\\text{number of helvetica values under threshold }t}{\\text{number of helvetica values under }t}$\n",
    "and \n",
    "$\\frac{\\text{number of helvetica values under threshold }t}{\\text{number of odometer values under }t}$,\n",
    "through which we have fitted 2 linear regressions."
   ]
  },
  {
   "cell_type": "code",
   "execution_count": 49,
   "metadata": {},
   "outputs": [
    {
     "data": {
      "image/png": "[encoded data removed]",
      "text/plain": [
       "<Figure size 1152x360 with 2 Axes>"
      ]
     },
     "metadata": {
      "needs_background": "light"
     },
     "output_type": "display_data"
    }
   ],
   "source": [
    "fig, (ax1, ax2) = plt.subplots(1,2, figsize=(16,5))\n",
    "fig.suptitle('Plots and linear regression on some interesting ratios')\n",
    "\n",
    "# left plot: helvet/arial\n",
    "ax1.plot(X,y_arial)\n",
    "ax1.scatter(X, ratios_helv_arial, marker='+', color='r')\n",
    "\n",
    "ax1.set_xlabel('Odometer threshold (km)')\n",
    "ax1.set_ylabel('Helvetica ratio')\n",
    "ax1.set_title('Helvet/Arial')\n",
    "\n",
    "\n",
    "# right plot: helvet/(helvet+arial)\n",
    "ax2.plot(X,y_tot)\n",
    "ax2.scatter(X, ratios_helv_tot, marker='+', color='r')\n",
    "\n",
    "ax2.set_xlabel('Odometer threshold (km)')\n",
    "ax2.set_ylabel('Helvetica ratio')\n",
    "_ = ax2.set_title('Helvet/(Helvet+Arial)')"
   ]
  },
  {
   "cell_type": "markdown",
   "metadata": {},
   "source": [
    "The right plot is clearly not a good fit for a linear regression, but it still showcases how more likely arial font low odometer values are than helvetica font low odometer values."
   ]
  },
  {
   "cell_type": "markdown",
   "metadata": {},
   "source": [
    "##### 7.3 Distribution of last 3 digits"
   ]
  },
  {
   "cell_type": "code",
   "execution_count": 50,
   "metadata": {},
   "outputs": [],
   "source": [
    "# Reduce mod 1000\n",
    "\n",
    "arial_baseline_3digits = arial_baseline.copy()\n",
    "helvetica_baseline_3digits = helvetica_baseline.copy()\n",
    "\n",
    "arial_baseline_3digits[\"baseline_motorcycle1\"]     = arial_baseline_3digits[\"baseline_motorcycle1\"].apply(lambda x: x% 1000)\n",
    "helvetica_baseline_3digits[\"baseline_motorcycle1\"] = helvetica_baseline_3digits[\"baseline_motorcycle1\"].apply(lambda x: x% 1000)"
   ]
  },
  {
   "cell_type": "markdown",
   "metadata": {},
   "source": [
    "We plot the following graph side by side to compare the two fonts, but they don't have the same y-axis limits because of the peak in the left plot.\\\n",
    "We have decided not to use a log plot to magnify the size of this peak."
   ]
  },
  {
   "cell_type": "code",
   "execution_count": 51,
   "metadata": {},
   "outputs": [
    {
     "data": {
      "image/png": "[encoded data removed]",
      "text/plain": [
       "<Figure size 1152x360 with 2 Axes>"
      ]
     },
     "metadata": {
      "needs_background": "light"
     },
     "output_type": "display_data"
    }
   ],
   "source": [
    "bins = 30\n",
    "\n",
    "fig, (ax1, ax2) = plt.subplots(1,2, figsize=(16,5))\n",
    "fig.suptitle('Histogram of the last 3 digits of the baseline odometer for fonts arial and helvetica.')\n",
    "\n",
    "\n",
    "# plot 1\n",
    "ax1.hist(arial_baseline_3digits[\"baseline_motorcycle1\"], color='powderblue', edgecolor='black',\\\n",
    "         bins=bins)\n",
    "\n",
    "ax1.set_xlabel('odometer mod 1000 (km)')\n",
    "ax1.set_ylabel('count')\n",
    "\n",
    "ax1.set_title('font=arial, bins='+str(bins))\n",
    "\n",
    "\n",
    "# plot 2\n",
    "ax2.hist(helvetica_baseline_3digits[\"baseline_motorcycle1\"], color='lightskyblue', edgecolor='white',\\\n",
    "         bins=bins, alpha=1.0)\n",
    "\n",
    "ax2.set_xlabel('odometer mod 1000 (km)')\n",
    "ax2.set_ylabel('count')\n",
    "\n",
    "_ = ax2.set_title('font=helvetica, bins='+str(bins))"
   ]
  },
  {
   "cell_type": "markdown",
   "metadata": {},
   "source": [
    "It is abnormal the two fonts don't share the same distribution. We expand on that in `7.4`"
   ]
  },
  {
   "cell_type": "code",
   "execution_count": 52,
   "metadata": {},
   "outputs": [],
   "source": [
    "# Take the dataset columns with the updated kilometers and their corresponding id\n",
    "update_id = df.filter(regex='^update|id' ,axis=1)\n",
    "\n",
    "# Merge the update kilometers with fonts equal to Arial on \"id\"\n",
    "arial_update = update_id.merge(fonts[fonts[\"font\"] == \"Arial\"],on=\"id\")\n",
    "\n",
    "arial_update_3d = arial_update.copy()\n",
    "\n",
    "# Take last 3 digits\n",
    "arial_update_3d[\"update_motorcycle1\"] = arial_update_3d[\"update_motorcycle1\"].apply(lambda x: x% 1000)"
   ]
  },
  {
   "cell_type": "code",
   "execution_count": 53,
   "metadata": {},
   "outputs": [],
   "source": [
    "#Merge the update kilometers with fonts equal to Helvetica on \"id\"\n",
    "helvetica_update = update_id.merge(fonts[fonts[\"font\"] == \"Helvetica\"],on=\"id\")\n",
    "\n",
    "helvetica_update_3d = helvetica_update.copy()\n",
    "#Take last 3 digits\n",
    "helvetica_update_3d[\"update_motorcycle1\"] = helvetica_update_3d[\"update_motorcycle1\"].apply(lambda x: x% 1000)"
   ]
  },
  {
   "cell_type": "code",
   "execution_count": 54,
   "metadata": {},
   "outputs": [
    {
     "data": {
      "text/plain": [
       "Text(0.5, 1.0, 'Font=helvetica, bins=30')"
      ]
     },
     "execution_count": 54,
     "metadata": {},
     "output_type": "execute_result"
    },
    {
     "data": {
      "image/png": "[encoded data removed]",
      "text/plain": [
       "<Figure size 1152x360 with 2 Axes>"
      ]
     },
     "metadata": {
      "needs_background": "light"
     },
     "output_type": "display_data"
    }
   ],
   "source": [
    "bins = 30\n",
    "\n",
    "fig, (ax1, ax2) = plt.subplots(1,2, figsize=(16,5))\n",
    "fig.suptitle('Histogram of the last 3 digits of the updated odometer for fonts arial and helvetica.')\n",
    "\n",
    "\n",
    "# plot 1\n",
    "ax1.hist(arial_update_3d[\"update_motorcycle1\"], color='pink', edgecolor='black',\\\n",
    "         bins=bins)\n",
    "\n",
    "ax1.set_xlabel('odometer mod 1000 (km)')\n",
    "ax1.set_ylabel('count')\n",
    "\n",
    "ax1.set_title('Font=arial, bins='+str(bins))\n",
    "\n",
    "\n",
    "# plot 2\n",
    "ax2.hist(helvetica_update_3d[\"update_motorcycle1\"], color='lightsalmon', edgecolor='white',\\\n",
    "         bins=bins)\n",
    "\n",
    "ax2.set_xlabel('odometer mod 1000 (km)')\n",
    "ax2.set_ylabel('count')\n",
    "\n",
    "ax2.set_title('Font=helvetica, bins='+str(bins))"
   ]
  },
  {
   "cell_type": "markdown",
   "metadata": {},
   "source": [
    "##### 7.4 Why the helvetica rows were fabricated:"
   ]
  },
  {
   "cell_type": "markdown",
   "metadata": {},
   "source": [
    "1. In the baseline odometers, we have remarked that there strangely are no person who had circulated 0km on data with the Helvetica font, against 117 for data with the Arial font. Expanding on that inconsistency, we have plotted the mileage for both fonts, and analyzed the small mileages (see cell 49). This lead us to the observation that the ratio of helvetica to arial is way smaller than it should be, and the ratio $r=\\frac{Helvetica}{Arial}$ even follows a linear function of the odometer for the 1000 smaller odometer values. We do not believe this ratio $r$ is small because the Arial numbers are too big, since it is usual for some people to have low mileage on their motorcycle, or even to let it sit in the garage in order to lower the insurance premium on their later years.\n",
    "\n",
    "2. Based on our hypothesis that the peak at 0 in the baseline odometer modulo 1000 was caused by the people rounding their odometer numbers, the numbers with the helvetica font should also show that same peak, but they don't (see cell 51), which is another evidence of data tampering. "
   ]
  },
  {
   "cell_type": "markdown",
   "metadata": {},
   "source": [
    "### Task 8 — 15pts\n",
    "\n",
    "You've had enough! You decide to write an email to your PI (principal investigator, also known as \"your boss\") reporting\n",
    " the oddities you have observed in the data. Write a (brief) text (in markdown) of up to 300 words. Your text should:\n",
    "\n",
    "- Use the analyses you did to make a convincing case that the data has been tampered with. \n",
    "- Grounded in your analyses, provide a plausible hypothesis about how the data has been tampered with.\n",
    "- Discuss whether the data leads to the conclusion that signing at the top decreases dishonesty.\n",
    "\n",
    "Structure your text into three bullets, analogous to the ones above.\n",
    "\n",
    "You can reference images present in the notebook by indicating a task (e.g., image plotted in Task 3.3) or a cell \n",
    "number.\n",
    "\n",
    "Note that you do not need to conduct any additional analysis to write this text. If you do, the code should be at the \n",
    "end of this notebook, i.e., after your answer.\n",
    "\n",
    "---\n",
    "\n",
    "**Hint:** The data has been tampered with in more than one way."
   ]
  },
  {
   "cell_type": "markdown",
   "metadata": {},
   "source": [
    "* Let us argue the data has been tampered with: \n",
    "When looking at the distance travelled between the baseline and the updated contract (motorcycle 1), we observe that it is no bell curve, which is unlikely (cf for example [this article, p382](https://www.researchgate.net/publication/325085735_Impact_of_Battery_Size_and_Energy_Cost_on_the_Market_Acceptance_of_Blended_Plug-in_Hybrid_Electric_Vehicles)).\\\n",
    "Moreover, when splitting the baseline contract data into Arial and Helvetica fonts, we observe that the Helvetica one has way fewer low values (cells 45, 46), and in particular everyone on Helvetica rows has driven their motorcycle, against 117 on Arial rows who haven’t.\\\n",
    "Finally, the baseline data distribution is correlated with the signature place (cell 20), which was supposed to have been randomized independently of the baseline contract.\n",
    "In particular, the peaks we’ve assumed to be caused by people rounding their mileage numbers (task 6.3) are simply absent from the baseline data using font Helvetica.\\\n",
    "All these observations make us believe the data has been tampered with. \n",
    "* We have made a case for why the helvetica data was fabricated. Here is how it could have happened:\n",
    "First the lowest values of the baseline odometer, font helvetica, are taken from truncated real data (leading to the aforementioned gap). Then the odometer values for the updated contract were all fabricated, by adding some function to all the data points. This hypothesis is supported by the plots below (cell 55), showing the differences between the udpated and baseline contracts for font helvetica.\n",
    "* And now to answer the original question:\n",
    "After analyzing only the Arial font data, which we assume to be clean, we find that there is a significant difference in the reported odometers based on whether we sign at the top or the bottom. And since the mean for contracts signed at the top is smaller, we conclude **signing at the top decreases dishonesty.** (cell 57)\n"
   ]
  },
  {
   "cell_type": "code",
   "execution_count": 55,
   "metadata": {
    "scrolled": false
   },
   "outputs": [
    {
     "data": {
      "image/png": "[encoded data removed]",
      "text/plain": [
       "<Figure size 1152x360 with 2 Axes>"
      ]
     },
     "metadata": {
      "needs_background": "light"
     },
     "output_type": "display_data"
    }
   ],
   "source": [
    "# bins\n",
    "bin_length = 50\n",
    "bins = np.logspace(0, np.log10(helvetica_update[\"update_motorcycle1\"].max()), bin_length)\n",
    "diff_update_helvet = helvetica_update[\"update_motorcycle1\"]-helvetica_baseline[\"baseline_motorcycle1\"]\n",
    "\n",
    "# frame\n",
    "fig, (ax1, ax2) = plt.subplots(1,2, figsize=(16,5))\n",
    "fig.suptitle('Histograms of the distance travelled between the signature of the baseline and the updated contract, font=helvetica')\n",
    "\n",
    "# left plot: x-log\n",
    "values, bins, _ = ax1.hist(diff_update_helvet, color='lightskyblue',\\\n",
    "         edgecolor='white', bins=bins)\n",
    "\n",
    "ax1.set_xlabel('odometer (log) (km)')\n",
    "ax1.set_xscale('log')\n",
    "\n",
    "ax1.set_ylabel('count')\n",
    "\n",
    "ax1.set_title('x-log, font=helvetica, bins='+str(bin_length)+'(log)')\n",
    "\n",
    "\n",
    "# right plot: log-log\n",
    "ax2.hist(diff_update_helvet, color='lightskyblue',\\\n",
    "         edgecolor='white', bins=bins)\n",
    "\n",
    "ax2.set_xlabel('odometer (log) (km)')\n",
    "ax2.set_xscale('log')\n",
    "\n",
    "ax2.set_ylabel('count (log)')\n",
    "ax2.set_yscale('log')\n",
    "\n",
    "_ = ax2.set_title('Log-log, font=helvetica, bins='+str(bin_length)+'(log)')"
   ]
  },
  {
   "cell_type": "markdown",
   "metadata": {},
   "source": [
    "This looks a lot like a power-law ($x \\mapsto C.e^{\\alpha x}$, $\\alpha>1$). To mathematically argue for it, one could use a pre-existing fitting python module to do a linear regression on the log-log data, and see how correct it is. There may even already exist tools for this kind of power laws."
   ]
  },
  {
   "cell_type": "markdown",
   "metadata": {},
   "source": [
    "##### 8.3 Does signing at the top decrease dishonesty?\n",
    "\n",
    "Let's analyze the data that only has Arial font. First let's see the distributions of arial update values with sign at bottom or sign at top"
   ]
  },
  {
   "cell_type": "code",
   "execution_count": 56,
   "metadata": {},
   "outputs": [
    {
     "name": "stdout",
     "output_type": "stream",
     "text": [
      "top mean:    85439.57849391409\n",
      "bottom mean: 98097.21760372823\n",
      "diff means:  12657.639109814147\n"
     ]
    }
   ],
   "source": [
    "#Extract id and condition of the data\n",
    "conditions = df.filter(regex=\"condition|id\", axis=1)\n",
    "\n",
    "#Merge the arial update kilometers with condition equal to Sign Top on \"id\"\n",
    "update_top = update_id.merge(conditions[conditions[\"condition\"] == \"Sign Top\"],on=\"id\")\n",
    "\n",
    "#Merge the arial update kilometers with condition equal to Sign Bottom on \"id\"\n",
    "update_bottom = update_id.merge(conditions[conditions[\"condition\"] == \"Sign Bottom\"],on=\"id\")\n",
    "\n",
    "print(\"top mean:    \" + str(update_top[\"update_average\"].mean()))\n",
    "print(\"bottom mean: \" + str(update_bottom[\"update_average\"].mean()))\n",
    "print(\"diff means:  \" + str(update_bottom[\"update_average\"].mean() - update_top[\"update_average\"].mean()))"
   ]
  },
  {
   "cell_type": "markdown",
   "metadata": {},
   "source": [
    "Now that we have obtain these two descriptions, let's do the following test hypotheses:\n",
    "-H0 hypothesis be that signing at the top and signing at the bottom doesn't have a significant difference\n",
    "-HA hypothesis be that signing at the top does have a significant difference than signing at the bottom\n",
    "\n",
    "We use a t-test to determine if the mean value of the distributions are significantly different"
   ]
  },
  {
   "cell_type": "code",
   "execution_count": 57,
   "metadata": {},
   "outputs": [
    {
     "name": "stdout",
     "output_type": "stream",
     "text": [
      "The difference is statistically significant\n"
     ]
    }
   ],
   "source": [
    "statistic_font, p_value_font = stats.ttest_ind(update_top[\"update_average\"],update_bottom[\"update_average\"])\n",
    "print('The difference is statistically significant' if(p_value_font<0.05) else 'The difference is not significant')"
   ]
  },
  {
   "cell_type": "markdown",
   "metadata": {},
   "source": [
    "Therefore we can reject the H0 hypothesis, i.e. there is a significant difference in the reported odometers based on whether we sign at the top or the bottom. And since the mean for contracts signed at the top is smaller, we conclude signing at the top *does* decrease dishonesty."
   ]
  }
 ],
 "metadata": {
  "kernelspec": {
   "display_name": "Python 3 (ipykernel)",
   "language": "python",
   "name": "python3"
  },
  "language_info": {
   "codemirror_mode": {
    "name": "ipython",
    "version": 3
   },
   "file_extension": ".py",
   "mimetype": "text/x-python",
   "name": "python",
   "nbconvert_exporter": "python",
   "pygments_lexer": "ipython3",
   "version": "3.8.11"
  },
  "pycharm": {
   "stem_cell": {
    "cell_type": "raw",
    "metadata": {
     "collapsed": false
    },
    "source": []
   }
  }
 },
 "nbformat": 4,
 "nbformat_minor": 1
}
