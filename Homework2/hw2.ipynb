{
 "cells": [
  {
   "cell_type": "markdown",
   "metadata": {},
   "source": [
    "# Homework 2 (HW2)\n",
    "\n",
    "---\n",
    "By the end of this homework we expect you to be able to:\n",
    "1. Preprocess data and make it amenable to statistical analysis and machine learning models;\n",
    "2. Train and test out-of-the-box machine learning models in Python;\n",
    "3. Carry out statistical hypothesis testing;\n",
    "4. Carry out simple multivariate regression analyses;\n",
    "5. Use techniques to control for covariates;\n",
    "\n",
    "---\n",
    "\n",
    "## Important Dates\n",
    "\n",
    "- Homework release: Fri 12 Nov 2021\n",
    "- **Homework due**: Fri 26 Nov 2021, 23:59\n",
    "- Grade release: Fri 03 Dec 2021\n",
    "\n",
    "---\n",
    "\n",
    "##  Some rules\n",
    "\n",
    "1. You are allowed to use any built-in Python library that comes with Anaconda. If you want to use an external library, \n",
    "you may do so, but must justify your choice.\n",
    "2. Make sure you use the `data` folder provided in the repository in read-only mode. (Or alternatively, be sure you \n",
    "don’t change any of the files.)\n",
    "3. Be sure to provide a textual description of your thought process, the assumptions you made, the solution you \n",
    "implemented, and explanations for your answers. A notebook that only has code cells will not suffice.\n",
    "4. For questions containing the **/Discuss:/** prefix, answer not with code, but with a textual explanation\n",
    " (**in markdown**).\n",
    "5. Back up any hypotheses and claims with data, since this is an important aspect of the course.\n",
    "6. Please write all your comments in English, and use meaningful variable names in your code. Your repo should have a \n",
    "single notebook (plus the required data files) in the *master/main* branch. If there are multiple notebooks present, \n",
    "we will **not grade** anything.\n",
    "7. We will **not run your notebook for you**! Rather, we will grade it as is, which means that only the results \n",
    "contained in your evaluated code cells will be considered, and we will not see the results in unevaluated code cells. \n",
    "Thus, be sure to hand in a **fully-run and evaluated notebook**. In order to check whether everything looks as intended, you can check the rendered notebook on the GitHub website once you have pushed your solution there.\n",
    "8. In continuation to the previous point, interactive plots, such as those generated using `plotly`, should be **strictly avoided**!\n",
    "9. Make sure to print results or dataframes that confirm you have properly addressed the task.\n",
    "\n",
    "---\n",
    "\n",
    "## Context\n",
    "\n",
    "Congratulations! You have just been hired as a data scientist at *Piccardi Music,* a promising new music label created by a mysterious Italian disc jockey \"*Signor Piccardi*\". The company hired you to carry out a variety of data-related tasks, which will be explained in further detail below.\n",
    "\n",
    "---\n",
    "\n",
    "## The data\n",
    "\n",
    "For this homework you will use a dataset of 18,403 music reviews scraped from Pitchfork¹, including relevant metadata such as review author, review date, record release year, review score, and genre, along with the respective album's audio features pulled from Spotify's API. The data consists of the following columns:\n",
    "\n",
    "| Column   | Description  |\n",
    "|----------|:-------------|\n",
    "| `artist`           | The name of the artist who created the album being reviewed. |\n",
    "| `album`            | The name of the album being reviewed. |\n",
    "| `recordlabel`      | The name of the record label(s) who published the album. |\n",
    "| `releaseyear`      | The year that the album was released. |\n",
    "| `score`            | The score given to the album by the reviewer on a scale of 0.0 to 10.0. |\n",
    "| `reviewauthor`     | The name of the author who reviewed the album. |\n",
    "| `genre`            | The genre assigned to the album by Pitchfork. |\n",
    "| `reviewdate`       | The date that the review was published.  |\n",
    "| `key` | The estimated overall musical key of the track. Integers map to pitches using standard Pitch Class notation (e.g., 0 = C, 2 = D, and so on) |\n",
    "| `acousticness` | A confidence measure from 0.0 to 1.0 of whether an album is acoustic. 1.0 represents high confidencethat the album is acoustic. |\n",
    "| `danceability` | How suitable an album is for dancing based on a combination of musical elements including tempo, rhythm stability, beat strength, and overall regularity. A value of 1.0 is most danceable.\n",
    "| `energy` | A perceptual measure of intensity and activity, from 0.0 to 1.0, where 1.0 represents high energy. Metal is often high energy. |\n",
    "| `instrumentalness` | Predicts whether an album contains no vocals, from 0.0 to 1.0. The closer to 1.0, the more likely the album contains no vocals. |\n",
    "| `liveness` | Detects the presence of an audience, from 0.0 to 1.0. Scores greater than 0.8 indicate a strong likelihood the album is live. |\n",
    "| `loudness` | The overall loudness of the album in decibels (dB). |\n",
    "| `speechiness` | Measures the presence of spoken words in an album on a scale from 0.0 to 1.0. Scores higher than 0.66 indicate an album made entirely of spoken words, while scores below 0.33 indicate music and other non-speech-like elements. |\n",
    "| `valence` | A measure from 0.0 to 1.0 describing the musical positiveness conveyed by an album, where values closer to 1.0 indicate more positive sounds. |\n",
    "| `tempo` | The overall estimated tempo of an album in beats per minute (BPM). |\n",
    "\n",
    "¹Pinter, Anthony T., et al. \"P4KxSpotify: A Dataset of Pitchfork Music Reviews and Spotify Musical Features.\" Proceedings of the International AAAI Conference on Web and Social Media. Vol. 14. 2020."
   ]
  },
  {
   "cell_type": "markdown",
   "metadata": {},
   "source": [
    "#### Imports:"
   ]
  },
  {
   "cell_type": "code",
   "execution_count": 47,
   "metadata": {},
   "outputs": [],
   "source": [
    "# CHANGE THIS IF YOU NEED/WANT TOO\n",
    "\n",
    "# pandas / numpy\n",
    "import pandas as pd\n",
    "import numpy as np\n",
    "\n",
    "# plotting\n",
    "import matplotlib.pyplot as plt\n",
    "import seaborn as sns\n",
    "\n",
    "# datetime operations\n",
    "from datetime import datetime\n",
    "\n",
    "# ttest, euclidean distance and bootstrap\n",
    "from scipy.stats import ttest_ind\n",
    "from scipy.spatial.distance import seuclidean\n",
    "from scipy.stats import bootstrap\n",
    "\n",
    "# linear fit using statsmodels\n",
    "import statsmodels.api as sm\n",
    "import statsmodels.formula.api as smf\n",
    "\n",
    "# good ole sklearn\n",
    "from sklearn.model_selection import train_test_split\n",
    "from sklearn.model_selection import cross_validate\n",
    "from sklearn.metrics import euclidean_distances, r2_score\n",
    "from sklearn.metrics import mean_absolute_error\n",
    "from sklearn.metrics import mean_squared_error\n",
    "from sklearn.linear_model import LinearRegression\n",
    "from sklearn.ensemble import GradientBoostingRegressor\n",
    "from sklearn.utils import resample\n",
    "\n",
    "# displaying markdown strings\n",
    "from IPython.display import display, Markdown, Latex"
   ]
  },
  {
   "cell_type": "markdown",
   "metadata": {},
   "source": [
    "#### Constants:"
   ]
  },
  {
   "cell_type": "code",
   "execution_count": 48,
   "metadata": {},
   "outputs": [],
   "source": [
    "RANDOM_STATE = 123"
   ]
  },
  {
   "cell_type": "markdown",
   "metadata": {},
   "source": [
    "#### Helper functions:"
   ]
  },
  {
   "cell_type": "code",
   "execution_count": 49,
   "metadata": {},
   "outputs": [],
   "source": [
    "# Converts nb into (i, j) coordinates in a height*width grid.\n",
    "def convert_to_grid(nb, height, width):\n",
    "    return (nb // width, nb%width)    "
   ]
  },
  {
   "cell_type": "markdown",
   "metadata": {
    "pycharm": {
     "name": "#%% md\n"
    }
   },
   "source": [
    "## Part 1: Will this album be a hit?\n",
    "\n",
    "The first project you embark on in your new job is to build a regressor to predict whether an album will be well received or not. According to *Signor Piccardi* (your boss), this algorithm may eventually be helpful in forecasting the success of albums produced by *Piccardi Music*."
   ]
  },
  {
   "cell_type": "markdown",
   "metadata": {},
   "source": [
    "**Task 1 (Initial analyses — 10 pts)**\n",
    "\n",
    "As a good data scientist, the first thing you do is to have a good look at the data that was handed to you.\n",
    "\n",
    "1. Load the data using `pandas`. Identify and remove duplicate reviews, i.e., two reviews with albums by the same band with the same name (keep the first occurrence). Print the number of rows in your dataframe.\n",
    "\n",
    "2. Plot the distribution of album release years and the average score of albums per year.\n",
    "\n",
    "3. For numerical columns, calculate the mean, median, minimum value and maximum value. Additionally, plot the distribution for all the numerical columns in a single image (possibly with multiple subplots). Your image should be at most 14 inches wide by 14 inches long.\n",
    "\n",
    "3. For categorical columns, list how many different values there are in each column. If there are less than 10 distinct values for a category, print them all. For the `genre` column, assign the value `'Other'` for albums where the value is either `'none'` or `NaN`.\n",
    "\n",
    "5. **Discuss:** This dataset was built with *found data*—i.e., the Pitchfork reviews were not made with the goal of training a machine learning model. Grounded on the previous analyses and in Pitchfork's [Wikipedia page](https://en.wikipedia.org/wiki/Pitchfork_(website)), point **three** (exactly!) ways in which this data may not be representative of music albums in general due to the way the data was collected. \n",
    "\n",
    "---"
   ]
  },
  {
   "cell_type": "markdown",
   "metadata": {},
   "source": [
    "### 1.1 - Load data\n",
    "1. Load the data using `pandas`. Identify and remove duplicate reviews, i.e., two reviews with albums by the same band with the same name (keep the first occurrence). Print the number of rows in your dataframe."
   ]
  },
  {
   "cell_type": "markdown",
   "metadata": {},
   "source": [
    "* We drop the row with inconsistent data, i.e. data that is out of bounds w.r.t. some feature.\n",
    "* We drop duplicates reviews as defined above."
   ]
  },
  {
   "cell_type": "code",
   "execution_count": 50,
   "metadata": {},
   "outputs": [
    {
     "name": "stdout",
     "output_type": "stream",
     "text": [
      "artist              8\n",
      "album               8\n",
      "reviewauthor        8\n",
      "score               8\n",
      "releaseyear         8\n",
      "reviewdate          8\n",
      "recordlabel         8\n",
      "genre               8\n",
      "danceability        8\n",
      "energy              8\n",
      "key                 8\n",
      "loudness            8\n",
      "speechiness         8\n",
      "acousticness        8\n",
      "instrumentalness    8\n",
      "liveness            8\n",
      "valence             8\n",
      "tempo               8\n",
      "dtype: int64\n",
      "---\n",
      "\n",
      "There are 46 albums with more than a review\n",
      "\n",
      "The number of rows in the dataframe is 16730\n"
     ]
    }
   ],
   "source": [
    "#load data\n",
    "df = pd.read_csv(\"./data/pitchfork.csv.gz\",compression='gzip')\n",
    "\n",
    "#There are some rows which contain inconsistent data\n",
    "print(df.loc[(df['danceability'] < 0) | (df['energy'] < 0) | (df['instrumentalness'] < 0) |\n",
    "             (df['liveness'] < 0) | (df['valence'] < 0) | (df['tempo'] == 0)].count())\n",
    "print(\"---\")\n",
    "\n",
    "#Drop rows with inconsistent data\n",
    "df = df.drop(df[(df['danceability'] < 0) | (df['energy'] < 0) | (df['instrumentalness'] < 0) |\n",
    "                (df['liveness'] < 0) | (df['valence'] < 0) | (df['tempo'] == 0)].index)\n",
    "\n",
    "# We observe that the the number of reviews for the same album is very low\n",
    "# hence we can drop these this rows to keep the analysis simpler \n",
    "print(\"\\nThere are \" + str((df.groupby(['artist','album']).size()>1).sum()) +\n",
    "      \" albums with more than a review\")\n",
    "\n",
    "#Remove duplicates\n",
    "df = df.drop_duplicates(subset = ['artist','album'], keep ='first')\n",
    "\n",
    "print(\"\\nThe number of rows in the dataframe is \" + str(len(df.index)))"
   ]
  },
  {
   "cell_type": "markdown",
   "metadata": {},
   "source": [
    "### 1.2 - Distributions\n",
    "\n",
    "2. Plot the distribution of album release years and the average score of albums per year."
   ]
  },
  {
   "cell_type": "markdown",
   "metadata": {},
   "source": [
    "We plot the distribution of album release years and the average score of albums per year."
   ]
  },
  {
   "cell_type": "code",
   "execution_count": 51,
   "metadata": {},
   "outputs": [
    {
     "data": {
      "text/plain": [
       "Text(0.5, 1.0, 'Distribution of album average score per year')"
      ]
     },
     "execution_count": 51,
     "metadata": {},
     "output_type": "execute_result"
    },
    {
     "data": {
      "image/png": "[encoded data removed]",
      "text/plain": [
       "<Figure size 1152x576 with 2 Axes>"
      ]
     },
     "metadata": {
      "needs_background": "light"
     },
     "output_type": "display_data"
    }
   ],
   "source": [
    "fig, (ax1, ax2) = plt.subplots(2, 1, figsize=(16,8))\n",
    "fig.subplots_adjust(hspace=0.3)\n",
    "\n",
    "\n",
    "#plot number of releases per year\n",
    "first_year_release = df.releaseyear.min()\n",
    "last_year_release = df.releaseyear.max()\n",
    "total_number_of_years_releasing = int(last_year_release - first_year_release)\n",
    "\n",
    "#Plot distribution of album release years\n",
    "ax1.hist(df.releaseyear, color = 'skyblue', edgecolor = 'black', bins = total_number_of_years_releasing)\n",
    "ax1.set_xlim(first_year_release, last_year_release)\n",
    "ax1.set_yscale(\"log\")\n",
    "\n",
    "ax1.set_xlabel('Year of release')\n",
    "ax1.set_ylabel('Number of albums released (log scale)')\n",
    "ax1.set_title(\"Distribution of the number of albums released per year\")\n",
    "\n",
    "#Plot average score of albums per year\n",
    "group_albums_year_mean = df.groupby(\"releaseyear\").mean()\n",
    "ax2.plot(group_albums_year_mean.score)\n",
    "ax2.set_xlim(first_year_release, last_year_release)\n",
    "\n",
    "ax2.set_xlabel('Year of release')\n",
    "ax2.set_ylabel('Average score')\n",
    "ax2.set_title(\"Distribution of album average score per year\")"
   ]
  },
  {
   "cell_type": "markdown",
   "metadata": {},
   "source": [
    "It seems there are more and more albums every year, and that there was a boom around 2000.  \n",
    "On the other hand, the album's average score has diminished with time, again especially around 2000.  \n",
    "A reasonable explanation for the duality of these curves may be that with more albums, came more lower quality albums, reducing the average score of these albums."
   ]
  },
  {
   "cell_type": "markdown",
   "metadata": {},
   "source": [
    "### 1.3 - Numerical Values\n",
    "3. For numerical columns, calculate the mean, median, minimum value and maximum value. Additionally, plot the distribution for all the numerical columns in a single image (possibly with multiple subplots). Your image should be at most 14 inches wide by 14 inches long."
   ]
  },
  {
   "cell_type": "markdown",
   "metadata": {},
   "source": [
    "We do some stats on the numerical columns, to get a grasp of the data and look for outliers which should be dropped we might have missed."
   ]
  },
  {
   "cell_type": "code",
   "execution_count": 52,
   "metadata": {
    "scrolled": false
   },
   "outputs": [
    {
     "data": {
      "text/html": [
       "<div>\n",
       "<style scoped>\n",
       "    .dataframe tbody tr th:only-of-type {\n",
       "        vertical-align: middle;\n",
       "    }\n",
       "\n",
       "    .dataframe tbody tr th {\n",
       "        vertical-align: top;\n",
       "    }\n",
       "\n",
       "    .dataframe thead th {\n",
       "        text-align: right;\n",
       "    }\n",
       "</style>\n",
       "<table border=\"1\" class=\"dataframe\">\n",
       "  <thead>\n",
       "    <tr style=\"text-align: right;\">\n",
       "      <th></th>\n",
       "      <th>score</th>\n",
       "      <th>releaseyear</th>\n",
       "      <th>danceability</th>\n",
       "      <th>energy</th>\n",
       "      <th>key</th>\n",
       "      <th>loudness</th>\n",
       "      <th>speechiness</th>\n",
       "      <th>acousticness</th>\n",
       "      <th>instrumentalness</th>\n",
       "      <th>liveness</th>\n",
       "      <th>valence</th>\n",
       "      <th>tempo</th>\n",
       "    </tr>\n",
       "  </thead>\n",
       "  <tbody>\n",
       "    <tr>\n",
       "      <th>count</th>\n",
       "      <td>16730.000000</td>\n",
       "      <td>16730.000000</td>\n",
       "      <td>16730.000000</td>\n",
       "      <td>16730.000000</td>\n",
       "      <td>16730.000000</td>\n",
       "      <td>16730.000000</td>\n",
       "      <td>16730.000000</td>\n",
       "      <td>16730.000000</td>\n",
       "      <td>16730.000000</td>\n",
       "      <td>16730.000000</td>\n",
       "      <td>16730.000000</td>\n",
       "      <td>16730.000000</td>\n",
       "    </tr>\n",
       "    <tr>\n",
       "      <th>mean</th>\n",
       "      <td>7.048536</td>\n",
       "      <td>2009.345965</td>\n",
       "      <td>0.512967</td>\n",
       "      <td>0.601951</td>\n",
       "      <td>5.219034</td>\n",
       "      <td>-9.286912</td>\n",
       "      <td>0.091208</td>\n",
       "      <td>0.302476</td>\n",
       "      <td>0.275303</td>\n",
       "      <td>0.196910</td>\n",
       "      <td>0.405853</td>\n",
       "      <td>120.377216</td>\n",
       "    </tr>\n",
       "    <tr>\n",
       "      <th>std</th>\n",
       "      <td>1.247075</td>\n",
       "      <td>7.796655</td>\n",
       "      <td>0.155855</td>\n",
       "      <td>0.200585</td>\n",
       "      <td>1.609184</td>\n",
       "      <td>4.235933</td>\n",
       "      <td>0.087334</td>\n",
       "      <td>0.261090</td>\n",
       "      <td>0.297825</td>\n",
       "      <td>0.102060</td>\n",
       "      <td>0.180055</td>\n",
       "      <td>15.285773</td>\n",
       "    </tr>\n",
       "    <tr>\n",
       "      <th>min</th>\n",
       "      <td>0.000000</td>\n",
       "      <td>1957.000000</td>\n",
       "      <td>0.038667</td>\n",
       "      <td>0.000126</td>\n",
       "      <td>0.000000</td>\n",
       "      <td>-51.728750</td>\n",
       "      <td>0.008644</td>\n",
       "      <td>0.000001</td>\n",
       "      <td>0.000000</td>\n",
       "      <td>0.015300</td>\n",
       "      <td>0.000010</td>\n",
       "      <td>23.983333</td>\n",
       "    </tr>\n",
       "    <tr>\n",
       "      <th>25%</th>\n",
       "      <td>6.500000</td>\n",
       "      <td>2005.000000</td>\n",
       "      <td>0.409000</td>\n",
       "      <td>0.474182</td>\n",
       "      <td>4.333333</td>\n",
       "      <td>-11.218268</td>\n",
       "      <td>0.040649</td>\n",
       "      <td>0.091222</td>\n",
       "      <td>0.009703</td>\n",
       "      <td>0.134553</td>\n",
       "      <td>0.274400</td>\n",
       "      <td>111.255450</td>\n",
       "    </tr>\n",
       "    <tr>\n",
       "      <th>50%</th>\n",
       "      <td>7.300000</td>\n",
       "      <td>2010.000000</td>\n",
       "      <td>0.511364</td>\n",
       "      <td>0.624823</td>\n",
       "      <td>5.230769</td>\n",
       "      <td>-8.446428</td>\n",
       "      <td>0.056681</td>\n",
       "      <td>0.229000</td>\n",
       "      <td>0.149641</td>\n",
       "      <td>0.174304</td>\n",
       "      <td>0.406300</td>\n",
       "      <td>120.406490</td>\n",
       "    </tr>\n",
       "    <tr>\n",
       "      <th>75%</th>\n",
       "      <td>7.800000</td>\n",
       "      <td>2015.000000</td>\n",
       "      <td>0.622725</td>\n",
       "      <td>0.749741</td>\n",
       "      <td>6.100000</td>\n",
       "      <td>-6.397199</td>\n",
       "      <td>0.100281</td>\n",
       "      <td>0.460824</td>\n",
       "      <td>0.497569</td>\n",
       "      <td>0.228350</td>\n",
       "      <td>0.531823</td>\n",
       "      <td>129.146312</td>\n",
       "    </tr>\n",
       "    <tr>\n",
       "      <th>max</th>\n",
       "      <td>10.000000</td>\n",
       "      <td>2019.000000</td>\n",
       "      <td>0.974000</td>\n",
       "      <td>0.999000</td>\n",
       "      <td>11.000000</td>\n",
       "      <td>4.078000</td>\n",
       "      <td>0.958000</td>\n",
       "      <td>0.996000</td>\n",
       "      <td>0.982000</td>\n",
       "      <td>0.978000</td>\n",
       "      <td>0.971000</td>\n",
       "      <td>215.972000</td>\n",
       "    </tr>\n",
       "  </tbody>\n",
       "</table>\n",
       "</div>"
      ],
      "text/plain": [
       "              score   releaseyear  danceability        energy           key  \\\n",
       "count  16730.000000  16730.000000  16730.000000  16730.000000  16730.000000   \n",
       "mean       7.048536   2009.345965      0.512967      0.601951      5.219034   \n",
       "std        1.247075      7.796655      0.155855      0.200585      1.609184   \n",
       "min        0.000000   1957.000000      0.038667      0.000126      0.000000   \n",
       "25%        6.500000   2005.000000      0.409000      0.474182      4.333333   \n",
       "50%        7.300000   2010.000000      0.511364      0.624823      5.230769   \n",
       "75%        7.800000   2015.000000      0.622725      0.749741      6.100000   \n",
       "max       10.000000   2019.000000      0.974000      0.999000     11.000000   \n",
       "\n",
       "           loudness   speechiness  acousticness  instrumentalness  \\\n",
       "count  16730.000000  16730.000000  16730.000000      16730.000000   \n",
       "mean      -9.286912      0.091208      0.302476          0.275303   \n",
       "std        4.235933      0.087334      0.261090          0.297825   \n",
       "min      -51.728750      0.008644      0.000001          0.000000   \n",
       "25%      -11.218268      0.040649      0.091222          0.009703   \n",
       "50%       -8.446428      0.056681      0.229000          0.149641   \n",
       "75%       -6.397199      0.100281      0.460824          0.497569   \n",
       "max        4.078000      0.958000      0.996000          0.982000   \n",
       "\n",
       "           liveness       valence         tempo  \n",
       "count  16730.000000  16730.000000  16730.000000  \n",
       "mean       0.196910      0.405853    120.377216  \n",
       "std        0.102060      0.180055     15.285773  \n",
       "min        0.015300      0.000010     23.983333  \n",
       "25%        0.134553      0.274400    111.255450  \n",
       "50%        0.174304      0.406300    120.406490  \n",
       "75%        0.228350      0.531823    129.146312  \n",
       "max        0.978000      0.971000    215.972000  "
      ]
     },
     "execution_count": 52,
     "metadata": {},
     "output_type": "execute_result"
    }
   ],
   "source": [
    "# Get numerical columns\n",
    "df_numeric = df.select_dtypes(include = np.number)\n",
    "\n",
    "# Get the mean, median, minimum value and maximum value\n",
    "df_numeric.describe()"
   ]
  },
  {
   "cell_type": "markdown",
   "metadata": {},
   "source": [
    "We plot the distribution for all the numerical columns in a single image of size 14'' by 14'':"
   ]
  },
  {
   "cell_type": "code",
   "execution_count": 53,
   "metadata": {},
   "outputs": [
    {
     "data": {
      "image/png": "[encoded data removed]",
      "text/plain": [
       "<Figure size 1008x1008 with 12 Axes>"
      ]
     },
     "metadata": {
      "needs_background": "light"
     },
     "output_type": "display_data"
    }
   ],
   "source": [
    "nrows, ncols = 4, 3\n",
    "fig, axes  = plt.subplots(nrows, ncols, figsize=(14,14))\n",
    "fig.suptitle('Histograms of all the numerical values. For the units, refer to the features definitions.')\n",
    "\n",
    "plt.tight_layout()\n",
    "plt.subplots_adjust(top=0.92)\n",
    "\n",
    "for n in range(len(df_numeric.columns)):\n",
    "    col_name = df_numeric.columns[n]\n",
    "    i, j = convert_to_grid(n, nrows, ncols)\n",
    "    axes[i, j].hist(df_numeric[col_name], color = 'skyblue', edgecolor = 'black', bins=50)\n",
    "    axes[i, j].set_title(col_name)"
   ]
  },
  {
   "cell_type": "markdown",
   "metadata": {},
   "source": [
    "The numerical featurse have various distributions."
   ]
  },
  {
   "cell_type": "markdown",
   "metadata": {},
   "source": [
    "### 1.4 - Categorical values\n",
    "4. For categorical columns, list how many different values there are in each column. If there are less than 10 distinct values for a category, print them all. For the `genre` column, assign the value `'Other'` for albums where the value is either `'none'` or `NaN`."
   ]
  },
  {
   "cell_type": "markdown",
   "metadata": {},
   "source": [
    "First we do the replacement: in the `genre` column: if the original value was `'none'` or `NaN`, we assign it to `'Other'`."
   ]
  },
  {
   "cell_type": "code",
   "execution_count": 54,
   "metadata": {
    "scrolled": false
   },
   "outputs": [
    {
     "name": "stdout",
     "output_type": "stream",
     "text": [
      "The number of genre with NaN is 0, so there are not any NaN value in rows for genre.\n"
     ]
    }
   ],
   "source": [
    "#Assign Other to NaN and None\n",
    "print(\"The number of genre with NaN is \" + str(df.genre.isna().sum()) + \n",
    "      \", so there are not any NaN value in rows for genre.\")\n",
    "\n",
    "df.genre = df.genre.replace(to_replace = 'none', value = 'Other')"
   ]
  },
  {
   "cell_type": "markdown",
   "metadata": {},
   "source": [
    "Then we indicate the number of **distinct values** for each **categorical column**, and print them if possible (i.e. if there are fewer than 10 distinct values)."
   ]
  },
  {
   "cell_type": "code",
   "execution_count": 55,
   "metadata": {},
   "outputs": [
    {
     "name": "stdout",
     "output_type": "stream",
     "text": [
      "* There are 7890 different values in column `artist`.\n",
      "* There are 16176 different values in column `album`.\n",
      "* There are 554 different values in column `reviewauthor`.\n",
      "* There are 4876 different values in column `reviewdate`.\n",
      "* There are 3030 different values in column `recordlabel`.\n",
      "* There are 10 different values in column `genre`.\n",
      "---> The different values in `genre` are: \n",
      "['Electronic' 'Folk/Country' 'Rock' 'Rap' 'Global' 'Experimental' 'Metal'\n",
      " 'Pop/R&B' 'Jazz' 'Other']\n"
     ]
    }
   ],
   "source": [
    "#Get categorical columns\n",
    "df_categorical = df.select_dtypes(exclude = np.number)\n",
    "\n",
    "#Print results\n",
    "for col in df_categorical.columns:\n",
    "    print(\"* There are \" + str(df_categorical[col].nunique()) + \" different values in column `\" + col + \"`.\")\n",
    "    if(df_categorical[col].nunique() <= 10):\n",
    "        print(\"---> The different values in `\" + col + \"` are: \")\n",
    "        print(df_categorical[col].unique())"
   ]
  },
  {
   "cell_type": "markdown",
   "metadata": {},
   "source": [
    "| Colum name            | Number of different values |\n",
    "|:--------------------- |:---------------------------|\n",
    "| artist                | 7890                       |\n",
    "| album                 | 16177                      |\n",
    "| reviewauthor          | 554                        |\n",
    "| reviewdate            | 4876                       |\n",
    "| recordlabel           | 3030                       |\n",
    "| genre                 | 10                         |\n",
    "\n",
    "In the `genre` column, the different values are:\n",
    "*'Electronic', 'Folk/Country', 'Rock', 'Rap', 'Global',\n",
    " 'Experimental', 'Metal', 'Pop/R&B', 'Jazz' and 'Other'.*"
   ]
  },
  {
   "cell_type": "markdown",
   "metadata": {},
   "source": [
    "### 1.5 - Discuss\n",
    "\n",
    "5. **Discuss:** This dataset was built with *found data*—i.e., the Pitchfork reviews were not made with the goal of training a machine learning model. Grounded on the previous analyses and in Pitchfork's [Wikipedia page](https://en.wikipedia.org/wiki/Pitchfork_(website)), point **three** (exactly!) ways in which this data may not be representative of music albums in general due to the way the data was collected. "
   ]
  },
  {
   "cell_type": "markdown",
   "metadata": {},
   "source": [
    "The data may not be representative of music albums in general for diverse reasons. Here are 3:\n",
    "1. The albums reviewed in pitchfork selected at random among all available albums, but through un andocumented selection process, that is undoubtedly biased, cf [wikipedia, section criticism](https://en.wikipedia.org/wiki/Pitchfork_(website)). This makes it so that a predictor built from this data could only be expected to work well on the subset of all albums from which Pitchfork choose.\n",
    "2. Even among the albums from pitchfork, a lot were dropped to construct the final dataset. Notably:\n",
    "    * All those not on spotify or spotify's US library.\n",
    "    * Albums where the spotify's artists are listed as \"Various artists\". This implies that collabs/feats between 4 or more artists are sure to be ignored (and this even if they were a hit.    \n",
    "\n",
    "These bullet points, as explained in *point 1*. increase the bias in the album selection, and hence the appliability of our model.\n",
    "\n",
    "3. The scores are a *subjective measure* issued by one reviewer (\"*The website had a reputation for publishing \\[unpredictable reviews\\], often strongly dependent on which reviewer was writing.*\"). Because of that, there is no guarantee these scores reflect the actual success of an album."
   ]
  },
  {
   "cell_type": "markdown",
   "metadata": {
    "pycharm": {
     "name": "#%% md\n"
    }
   },
   "source": [
    "#### **Task 2 (Pre-processing and pipeline code — 12 pts)**\n",
    "\n",
    "Next, you decide to prepare the code that will help you in training your machine learning models. Also, you implement a simple baseline. For this task, **unless otherwise stated** you must implement functions yourself, instead of relying on `scikit-learn` (you can use `numpy` or `pandas`, though!).\n",
    "\n",
    "1. For each possible value in the `genre` column, create a new column called `{genre}_onehot` (e.g., for `genre=jazz`, create `jazz_onehot`). Collectively, these new columns should \"one hot-encode\" the genre column—for instance, if for a given album the `genre` is filled with the value `jazz`, the `jazz_onehot` column should equal 1 and all other `{genre}_onehot` columns should equal 0. \n",
    "\n",
    "2. Create a function `numpy_helper(df, cols)` to obtain a `numpy.array` out of your `dataframe`. The function should receive a dataframe `df` with N rows and a list of M columns `cols`, and should return a `np.array` of dimension (NxM).\n",
    "\n",
    "3. For each album, build an array of features `X` containing all genre-related one-hot features, and an array of outcomes `y` containing scores. Using the function [`sklearn.model_selection.train_test_split`](https://scikit-learn.org/stable/modules/generated/sklearn.model_selection.train_test_split.html) with `random_state=123`, split the data into a train set containing 70% of all data, and a test set containing the remaining 30%.\n",
    "\n",
    "4. Create your own baseline regressor. Using the training data (in the training stage), your regressor should estimate the average score for all albums. Then, for the test data (in the prediction stage), your classifier should always output the average score (computed on the training data).\n",
    "\n",
    "5. Calculate the [coefficient of determination ($R^2$)](https://scikit-learn.org/stable/modules/generated/sklearn.metrics.r2_score.html) of your baseline on the test data. **You are allowed to use the `sklearn` implementation here.**\n",
    "\n",
    "6. **Discuss:** Your train-test split randomly selected 70% of all data for the training set. Why is this a problem for the broader task of predicting whether a future album will be successful or not?\n",
    "\n",
    "---"
   ]
  },
  {
   "cell_type": "markdown",
   "metadata": {},
   "source": [
    "### 2.1 - One hot encoding\n",
    "1. For each possible value in the `genre` column, create a new column called `{genre}_onehot` (e.g., for `genre=jazz`, create `jazz_onehot`). Collectively, these new columns should \"one hot-encode\" the genre column—for instance, if for a given album the `genre` is filled with the value `jazz`, the `jazz_onehot` column should equal 1 and all other `{genre}_onehot` columns should equal 0."
   ]
  },
  {
   "cell_type": "markdown",
   "metadata": {},
   "source": [
    "We \"transform\" the categorical feature `genre` into 10 different binary features.  \n",
    "To do that we add the new columns to the dataframe, initialized at $0$, then fill them with $1$'s appropriately by iterating on the rows."
   ]
  },
  {
   "cell_type": "code",
   "execution_count": 56,
   "metadata": {},
   "outputs": [],
   "source": [
    "#more convenient to code it in this case rather than using pd.get_dummies\n",
    "# Create the new columns\n",
    "for genre in df.genre.unique():\n",
    "    df[genre+\"_onehot\"] = 0\n",
    "\n",
    "# Set one hot encoding for appropriate columns\n",
    "for index, row in df.iterrows():\n",
    "    df.at[index, row.genre+\"_onehot\"] = 1"
   ]
  },
  {
   "cell_type": "markdown",
   "metadata": {},
   "source": [
    "### 2.2 - Create numpy helper \n",
    "2. Create a function `numpy_helper(df, cols)` to obtain a `numpy.array` out of your `dataframe`. The function should receive a dataframe `df` with N rows and a list of M columns `cols`, and should return a `np.array` of dimension (NxM)."
   ]
  },
  {
   "cell_type": "markdown",
   "metadata": {},
   "source": [
    "The following function transforms a datafram into a numpy array containing the selected columns."
   ]
  },
  {
   "cell_type": "code",
   "execution_count": 57,
   "metadata": {},
   "outputs": [],
   "source": [
    "# Transforms the dataframe `df` into a numpy array containing the columns \n",
    "# indicated by `cols`.\n",
    "def numpy_helper(df, cols):\n",
    "    dataset = df[cols]\n",
    "    return dataset.to_numpy()"
   ]
  },
  {
   "cell_type": "markdown",
   "metadata": {},
   "source": [
    "### 2.3 - Split the data\n",
    "\n",
    "3. For each album, build an array of features `X` containing all genre-related one-hot features, and an array of outcomes `y` containing scores. Using the function [`sklearn.model_selection.train_test_split`](https://scikit-learn.org/stable/modules/generated/sklearn.model_selection.train_test_split.html) with `random_state=123`, split the data into a train set containing 70% of all data, and a test set containing the remaining 30%."
   ]
  },
  {
   "cell_type": "markdown",
   "metadata": {},
   "source": [
    "* First we select the data we're interested in, i.e. the columns corresponding to the features of interest.\n",
    "* Then we split it into 2 sets: training and testing. The training one will be used to train the model, and the testing one to test it on \"new data\" (i.e. data we have not interacted with at the time of training)."
   ]
  },
  {
   "cell_type": "code",
   "execution_count": 58,
   "metadata": {},
   "outputs": [
    {
     "name": "stdout",
     "output_type": "stream",
     "text": [
      "X: int64\n",
      "\n",
      "y: float64\n"
     ]
    }
   ],
   "source": [
    "# Let's keep only the columns we are interested in\n",
    "columns_onehot = [i for i in df.columns if \"onehot\" in i]\n",
    "\n",
    "X = numpy_helper(df, columns_onehot) # genre-related one-hot features\n",
    "print(f\"X: {X.dtype}\")\n",
    "y = df.score # scores\n",
    "print(f\"\\ny: {y.dtypes}\")\n",
    "\n",
    "#Split\n",
    "X_train_b, X_test_b, y_train_b, y_test_b = train_test_split(\n",
    "    X, y, train_size = 0.7, test_size = 0.3, random_state = 123)"
   ]
  },
  {
   "cell_type": "markdown",
   "metadata": {},
   "source": [
    "Verify the dimensions of the data obtained are as expected:"
   ]
  },
  {
   "cell_type": "code",
   "execution_count": 59,
   "metadata": {},
   "outputs": [
    {
     "name": "stdout",
     "output_type": "stream",
     "text": [
      "<class 'numpy.ndarray'>\n",
      "\n",
      "--------------\n",
      "shapes:\n",
      "\n",
      "X_train: (11711, 10)\n",
      "X_test: (5019, 10)\n",
      "\n",
      "y_train: (11711,)\n",
      "y_test: (5019,)\n"
     ]
    }
   ],
   "source": [
    "print(type(X_test_b))\n",
    "\n",
    "print(f\"\\n--------------\\nshapes:\\n\")\n",
    "print(f\"X_train: {X_train_b.shape}\")\n",
    "print(f\"X_test: {X_test_b.shape}\")\n",
    "print()\n",
    "print(f\"y_train: {y_train_b.shape}\")\n",
    "print(f\"y_test: {y_test_b.shape}\")"
   ]
  },
  {
   "cell_type": "markdown",
   "metadata": {},
   "source": [
    "### 2.4 - Regressor\n",
    "\n",
    "4. Create your own baseline regressor. Using the training data (in the training stage), your regressor should estimate the average score for all albums. Then, for the test data (in the prediction stage), your classifier should always output the average score (computed on the training data)."
   ]
  },
  {
   "cell_type": "markdown",
   "metadata": {},
   "source": [
    "We implement a baseline regressor, i.e. a very simple one, which will always predict the mean of the scores it was trained with."
   ]
  },
  {
   "cell_type": "code",
   "execution_count": 60,
   "metadata": {},
   "outputs": [],
   "source": [
    "# Fit the model by computing the overall avg of the y's (X is basically ignored)\n",
    "def baseline_fit(X_train, y_train):\n",
    "    return np.mean(y_train)\n",
    "\n",
    "# Return a constant column vector\n",
    "def baseline_predict(X, fit):\n",
    "    return fit * np.ones(X.shape[0])"
   ]
  },
  {
   "cell_type": "markdown",
   "metadata": {},
   "source": [
    "### 2.5 - Compute R2\n",
    "\n",
    "5. Calculate the [coefficient of determination ($R^2$)](https://scikit-learn.org/stable/modules/generated/sklearn.metrics.r2_score.html) of your baseline on the test data. **You are allowed to use the `sklearn` implementation here.**"
   ]
  },
  {
   "cell_type": "code",
   "execution_count": 61,
   "metadata": {},
   "outputs": [
    {
     "name": "stdout",
     "output_type": "stream",
     "text": [
      "Training average: 7.049790794979116\n",
      "r2: -1.0839329994905e-05\n"
     ]
    }
   ],
   "source": [
    "fit_b = baseline_fit(X_train_b, y_train_b)\n",
    "dummy_prediction = baseline_predict(X_test_b, fit_b)\n",
    "r2 = r2_score(y_test_b, dummy_prediction)\n",
    "\n",
    "print(f\"Training average: {fit_b}\")\n",
    "print(f\"r2: {r2}\")"
   ]
  },
  {
   "cell_type": "markdown",
   "metadata": {},
   "source": [
    "With the dummy prediction model, $r_2 = -1.1*10^{-5}$, which is close to $0$. As expected from a straight line fit."
   ]
  },
  {
   "cell_type": "markdown",
   "metadata": {},
   "source": [
    "### 2.6 - Discuss\n",
    "\n",
    "6. **Discuss:** Your train-test split randomly selected 70% of all data for the training set. Why is this a problem for the broader task of predicting whether a future album will be successful or not?"
   ]
  },
  {
   "cell_type": "markdown",
   "metadata": {},
   "source": [
    "\n",
    "Here we don't take the full picture of the data, if we only consider 70% we are likely to miss really important informations that are present in the 30% of the data we are going to test our model on. For instance, we split the data let's say of reviews between 1970 and 2020, then if we train only on albums from 1970 to 2005, when we will try to predict the success of an album from 2015 we will not obtain good results because we are never seen this case before. Therefore here what we should do, is do k-old on the data to be sure to train our model on all the data. Furtheremore, we could have trained with data that \"bias\" or simply the test data is not a reasonable estimation of future albums' success, cf https://www.analyticsvidhya.com/blog/2021/06/unplanned-train-test-split-is-not-always-acceptable/."
   ]
  },
  {
   "cell_type": "markdown",
   "metadata": {},
   "source": [
    "**Task 3 (Regression — 14 pts)**\n",
    "\n",
    "Finally, you get down to business and train your regression models.\n",
    "\n",
    "1. Build a Linear Regression model (use `sklearn`) that predicts the outcome `score` using the features \"releaseyear\",  \"key\", \"acousticness\", \"danceability\", \"energy\", \"instrumentalness\", \"liveness\", \"loudness\", \"speechiness\", \"valence\", \"tempo\" and the one-hot encoded genre-related columns.  Using a 70/30 train-test split similar to what you did in task two (hereinafter referred to as \"the random split\", use the same random seed, `random_state=123`), report the $R^2$ for the testing set.\n",
    "\n",
    "2. Create an alternate train-test split (hereinafter referred to as \"the longitudinal split\") where you train with data from albums released before 2000 and test with data from 2003 and after. Report the $R^2$ for the testing set using the same model you developed for the previous question. **Discuss:** give the correct interpretation of $R^2$ value for the longitudinal split.\n",
    "\n",
    "3. For a given entry $X$ your model outputs a predicted score $Y'$. The difference between the real score $Y$ and the predicted score $Y'$ is called the \"residual\". Considering the model trained in 3.2, plot the distribution of your residuals for the test set. Additionally, estimate what is the probability that your score prediction (from 3.2) is off by more than 2-points? Provide bootstrapped confidence intervals for your answer.\n",
    "\n",
    "4. Experiment with training a different regressor, a Gradient Boosting Regressor. This regressor is related to the Boosted decision trees that you have seen in class. This model performs extremely well for a variety of tasks and is often used in machine learning competitions for tabular data (e.g., on Kaggle). Train the regressor using the longitudinal split and the same features as in 3.2, use the default hyperparameters. Report the $R^2$ for the testing set. \n",
    "\n",
    "5. **Discuss:** Hypothesize a reason for the difference in performance between the Linear regression and the Gradient Boosting Regressor.\n",
    "\n",
    "---"
   ]
  },
  {
   "cell_type": "markdown",
   "metadata": {},
   "source": [
    "### 3.1 - Linear Regression Model\n",
    "\n",
    "1. Build a Linear Regression model (use `sklearn`) that predicts the outcome `score` using the features \"releaseyear\",  \"key\", \"acousticness\", \"danceability\", \"energy\", \"instrumentalness\", \"liveness\", \"loudness\", \"speechiness\", \"valence\", \"tempo\" and the one-hot encoded genre-related columns.  Using a 70/30 train-test split similar to what you did in task two (hereinafter referred to as \"the random split\", use the same random seed, `random_state=123`), report the $R^2$ for the testing set."
   ]
  },
  {
   "cell_type": "markdown",
   "metadata": {},
   "source": [
    "Divide the data between training and testing sets:"
   ]
  },
  {
   "cell_type": "code",
   "execution_count": 62,
   "metadata": {},
   "outputs": [],
   "source": [
    "# Get relevant columns\n",
    "df_filtered = df.filter(regex='_onehot|^releaseyear|^key|^acousticness|^danceability|^energy|^instrumentalness|^liveness|^loudness|^speechiness|^valence|^tempo')\n",
    "\n",
    "# Split data\n",
    "X_train, X_test, y_train, y_test = train_test_split(\n",
    "    df_filtered.to_numpy(), df.score, train_size = 0.7, test_size = 0.3, random_state=RANDOM_STATE)"
   ]
  },
  {
   "cell_type": "markdown",
   "metadata": {},
   "source": [
    "Fit a linear prediction model on the chosen features (on the training sets):"
   ]
  },
  {
   "cell_type": "code",
   "execution_count": 63,
   "metadata": {},
   "outputs": [
    {
     "data": {
      "text/plain": [
       "LinearRegression()"
      ]
     },
     "execution_count": 63,
     "metadata": {},
     "output_type": "execute_result"
    }
   ],
   "source": [
    "# Declare model\n",
    "lin_model = LinearRegression()\n",
    "\n",
    "# Train model\n",
    "lin_model.fit(X_train, y_train)"
   ]
  },
  {
   "cell_type": "markdown",
   "metadata": {},
   "source": [
    "Then use the fitted model to make predictions on the testing set. Notably, output $r_2 = 0.03867$:"
   ]
  },
  {
   "cell_type": "code",
   "execution_count": 64,
   "metadata": {},
   "outputs": [
    {
     "name": "stdout",
     "output_type": "stream",
     "text": [
      "r2: 0.03866987019280432\n"
     ]
    }
   ],
   "source": [
    "# Make predictions\n",
    "predictions_lin = lin_model.predict(X_test)\n",
    "\n",
    "# Compute R2\n",
    "r2 = r2_score(y_test, predictions_lin)\n",
    "print(f\"r2: {r2}\")"
   ]
  },
  {
   "cell_type": "markdown",
   "metadata": {},
   "source": [
    "Let us display the coefficients and intercept:"
   ]
  },
  {
   "cell_type": "code",
   "execution_count": 65,
   "metadata": {},
   "outputs": [
    {
     "name": "stdout",
     "output_type": "stream",
     "text": [
      "intercept: 41.92556808652926\n"
     ]
    },
    {
     "data": {
      "text/html": [
       "<div>\n",
       "<style scoped>\n",
       "    .dataframe tbody tr th:only-of-type {\n",
       "        vertical-align: middle;\n",
       "    }\n",
       "\n",
       "    .dataframe tbody tr th {\n",
       "        vertical-align: top;\n",
       "    }\n",
       "\n",
       "    .dataframe thead th {\n",
       "        text-align: right;\n",
       "    }\n",
       "</style>\n",
       "<table border=\"1\" class=\"dataframe\">\n",
       "  <thead>\n",
       "    <tr style=\"text-align: right;\">\n",
       "      <th></th>\n",
       "      <th>Coefficient</th>\n",
       "    </tr>\n",
       "  </thead>\n",
       "  <tbody>\n",
       "    <tr>\n",
       "      <th>releaseyear</th>\n",
       "      <td>-0.017459</td>\n",
       "    </tr>\n",
       "    <tr>\n",
       "      <th>danceability</th>\n",
       "      <td>-0.368866</td>\n",
       "    </tr>\n",
       "    <tr>\n",
       "      <th>energy</th>\n",
       "      <td>0.140699</td>\n",
       "    </tr>\n",
       "    <tr>\n",
       "      <th>key</th>\n",
       "      <td>0.003993</td>\n",
       "    </tr>\n",
       "    <tr>\n",
       "      <th>loudness</th>\n",
       "      <td>-0.022929</td>\n",
       "    </tr>\n",
       "    <tr>\n",
       "      <th>speechiness</th>\n",
       "      <td>0.192225</td>\n",
       "    </tr>\n",
       "    <tr>\n",
       "      <th>acousticness</th>\n",
       "      <td>0.061415</td>\n",
       "    </tr>\n",
       "    <tr>\n",
       "      <th>instrumentalness</th>\n",
       "      <td>0.228030</td>\n",
       "    </tr>\n",
       "    <tr>\n",
       "      <th>liveness</th>\n",
       "      <td>-0.012062</td>\n",
       "    </tr>\n",
       "    <tr>\n",
       "      <th>valence</th>\n",
       "      <td>0.105535</td>\n",
       "    </tr>\n",
       "    <tr>\n",
       "      <th>tempo</th>\n",
       "      <td>0.000606</td>\n",
       "    </tr>\n",
       "    <tr>\n",
       "      <th>Electronic_onehot</th>\n",
       "      <td>-0.250160</td>\n",
       "    </tr>\n",
       "    <tr>\n",
       "      <th>Folk/Country_onehot</th>\n",
       "      <td>0.039412</td>\n",
       "    </tr>\n",
       "    <tr>\n",
       "      <th>Rock_onehot</th>\n",
       "      <td>-0.189297</td>\n",
       "    </tr>\n",
       "    <tr>\n",
       "      <th>Rap_onehot</th>\n",
       "      <td>-0.121032</td>\n",
       "    </tr>\n",
       "    <tr>\n",
       "      <th>Global_onehot</th>\n",
       "      <td>0.226777</td>\n",
       "    </tr>\n",
       "    <tr>\n",
       "      <th>Experimental_onehot</th>\n",
       "      <td>0.101956</td>\n",
       "    </tr>\n",
       "    <tr>\n",
       "      <th>Metal_onehot</th>\n",
       "      <td>-0.134391</td>\n",
       "    </tr>\n",
       "    <tr>\n",
       "      <th>Pop/R&amp;B_onehot</th>\n",
       "      <td>-0.075787</td>\n",
       "    </tr>\n",
       "    <tr>\n",
       "      <th>Jazz_onehot</th>\n",
       "      <td>0.263721</td>\n",
       "    </tr>\n",
       "    <tr>\n",
       "      <th>Other_onehot</th>\n",
       "      <td>0.138801</td>\n",
       "    </tr>\n",
       "  </tbody>\n",
       "</table>\n",
       "</div>"
      ],
      "text/plain": [
       "                     Coefficient\n",
       "releaseyear            -0.017459\n",
       "danceability           -0.368866\n",
       "energy                  0.140699\n",
       "key                     0.003993\n",
       "loudness               -0.022929\n",
       "speechiness             0.192225\n",
       "acousticness            0.061415\n",
       "instrumentalness        0.228030\n",
       "liveness               -0.012062\n",
       "valence                 0.105535\n",
       "tempo                   0.000606\n",
       "Electronic_onehot      -0.250160\n",
       "Folk/Country_onehot     0.039412\n",
       "Rock_onehot            -0.189297\n",
       "Rap_onehot             -0.121032\n",
       "Global_onehot           0.226777\n",
       "Experimental_onehot     0.101956\n",
       "Metal_onehot           -0.134391\n",
       "Pop/R&B_onehot         -0.075787\n",
       "Jazz_onehot             0.263721\n",
       "Other_onehot            0.138801"
      ]
     },
     "execution_count": 65,
     "metadata": {},
     "output_type": "execute_result"
    }
   ],
   "source": [
    "print(f\"intercept: {lin_model.intercept_}\")\n",
    "\n",
    "coeff_df = pd.DataFrame(lin_model.coef_, df_filtered.columns, columns=['Coefficient'])\n",
    "coeff_df"
   ]
  },
  {
   "cell_type": "markdown",
   "metadata": {},
   "source": [
    "Verify the model does use the intercept:"
   ]
  },
  {
   "cell_type": "code",
   "execution_count": 66,
   "metadata": {},
   "outputs": [
    {
     "name": "stdout",
     "output_type": "stream",
     "text": [
      "size: 21\n",
      "(21,)\n",
      "(5019, 21)\n",
      "(1, 21)\n",
      "[41.92556809]\n"
     ]
    }
   ],
   "source": [
    "print(f\"size: {coeff_df.size}\")\n",
    "print(np.zeros(21).shape)\n",
    "tmp = np.zeros(21).reshape(1, -1)\n",
    "print(X_test.shape)\n",
    "print(tmp.shape)\n",
    "\n",
    "print(lin_model.predict(tmp))"
   ]
  },
  {
   "cell_type": "markdown",
   "metadata": {},
   "source": [
    "List some estimated scores VS actual scores for the test data:"
   ]
  },
  {
   "cell_type": "code",
   "execution_count": 67,
   "metadata": {},
   "outputs": [
    {
     "data": {
      "text/html": [
       "<div>\n",
       "<style scoped>\n",
       "    .dataframe tbody tr th:only-of-type {\n",
       "        vertical-align: middle;\n",
       "    }\n",
       "\n",
       "    .dataframe tbody tr th {\n",
       "        vertical-align: top;\n",
       "    }\n",
       "\n",
       "    .dataframe thead th {\n",
       "        text-align: right;\n",
       "    }\n",
       "</style>\n",
       "<table border=\"1\" class=\"dataframe\">\n",
       "  <thead>\n",
       "    <tr style=\"text-align: right;\">\n",
       "      <th></th>\n",
       "      <th>Actual</th>\n",
       "      <th>Predicted</th>\n",
       "    </tr>\n",
       "  </thead>\n",
       "  <tbody>\n",
       "    <tr>\n",
       "      <th>5483</th>\n",
       "      <td>7.7</td>\n",
       "      <td>7.219747</td>\n",
       "    </tr>\n",
       "    <tr>\n",
       "      <th>7015</th>\n",
       "      <td>7.9</td>\n",
       "      <td>7.139368</td>\n",
       "    </tr>\n",
       "    <tr>\n",
       "      <th>9403</th>\n",
       "      <td>7.8</td>\n",
       "      <td>7.400468</td>\n",
       "    </tr>\n",
       "    <tr>\n",
       "      <th>13269</th>\n",
       "      <td>7.0</td>\n",
       "      <td>7.149360</td>\n",
       "    </tr>\n",
       "    <tr>\n",
       "      <th>12810</th>\n",
       "      <td>5.5</td>\n",
       "      <td>6.908716</td>\n",
       "    </tr>\n",
       "    <tr>\n",
       "      <th>7335</th>\n",
       "      <td>7.9</td>\n",
       "      <td>7.067902</td>\n",
       "    </tr>\n",
       "    <tr>\n",
       "      <th>3530</th>\n",
       "      <td>7.3</td>\n",
       "      <td>7.070728</td>\n",
       "    </tr>\n",
       "    <tr>\n",
       "      <th>9123</th>\n",
       "      <td>7.2</td>\n",
       "      <td>6.762930</td>\n",
       "    </tr>\n",
       "    <tr>\n",
       "      <th>2160</th>\n",
       "      <td>6.1</td>\n",
       "      <td>7.046450</td>\n",
       "    </tr>\n",
       "    <tr>\n",
       "      <th>10660</th>\n",
       "      <td>9.4</td>\n",
       "      <td>6.942875</td>\n",
       "    </tr>\n",
       "    <tr>\n",
       "      <th>9967</th>\n",
       "      <td>6.2</td>\n",
       "      <td>7.105795</td>\n",
       "    </tr>\n",
       "    <tr>\n",
       "      <th>10524</th>\n",
       "      <td>9.0</td>\n",
       "      <td>6.741183</td>\n",
       "    </tr>\n",
       "  </tbody>\n",
       "</table>\n",
       "</div>"
      ],
      "text/plain": [
       "       Actual  Predicted\n",
       "5483      7.7   7.219747\n",
       "7015      7.9   7.139368\n",
       "9403      7.8   7.400468\n",
       "13269     7.0   7.149360\n",
       "12810     5.5   6.908716\n",
       "7335      7.9   7.067902\n",
       "3530      7.3   7.070728\n",
       "9123      7.2   6.762930\n",
       "2160      6.1   7.046450\n",
       "10660     9.4   6.942875\n",
       "9967      6.2   7.105795\n",
       "10524     9.0   6.741183"
      ]
     },
     "execution_count": 67,
     "metadata": {},
     "output_type": "execute_result"
    }
   ],
   "source": [
    "actu_vs_pred = pd.DataFrame({'Actual': y_test, 'Predicted': predictions_lin})\n",
    "actu_vs_pred.head(12)"
   ]
  },
  {
   "cell_type": "markdown",
   "metadata": {},
   "source": [
    "From this peek, the model doesn't seem very good (we see several big deviations between the actual and predicted scores). "
   ]
  },
  {
   "cell_type": "markdown",
   "metadata": {},
   "source": [
    "### 3.2 - Linear Regression on alternative data\n",
    "\n",
    "2. Create an alternate train-test split (hereinafter referred to as \"the longitudinal split\") where you train with data from albums released before 2000 and test with data from 2003 and after. Report the $R^2$ for the testing set using the same model you developed for the previous question. **Discuss:** give the correct interpretation of $R^2$ value for the longitudinal split.\n"
   ]
  },
  {
   "cell_type": "markdown",
   "metadata": {},
   "source": [
    "Split the data given the new specifications: \n",
    "* The training data corresponds to the albums released before 2000.\n",
    "* The testing data corresponds to the albums released in 2003 and after."
   ]
  },
  {
   "cell_type": "code",
   "execution_count": 68,
   "metadata": {},
   "outputs": [
    {
     "name": "stdout",
     "output_type": "stream",
     "text": [
      "training samples: 778\n",
      "testing samples : 14744\n",
      "dropped sample  : 1208\n"
     ]
    }
   ],
   "source": [
    "#Get data before 2000 and after 2003\n",
    "before_2000_data = df[df[\"releaseyear\"] < 2000]\n",
    "after_2003_data = df[df[\"releaseyear\"] >= 2003]\n",
    "\n",
    "#Get relevant data\n",
    "df_filtered_2000 = before_2000_data.filter(regex='_onehot|^releaseyear|^key|^acousticness|^danceability|^energy|^instrumentalness|^liveness|^loudness|^speechiness|^valence|^tempo|^score')\n",
    "df_filtered_2003 = after_2003_data.filter(regex='_onehot|^releaseyear|^key|^acousticness|^danceability|^energy|^instrumentalness|^liveness|^loudness|^speechiness|^valence|^tempo|^score')\n",
    "\n",
    "# Train-test split:\n",
    "X_train_2000 = df_filtered_2000.drop(\"score\", axis=1)\n",
    "y_train_2000 = df_filtered_2000.score\n",
    "\n",
    "X_test_2003 = df_filtered_2003.drop(\"score\", axis=1)\n",
    "y_test_2003 = df_filtered_2003.score\n",
    "\n",
    "print(f\"training samples: {X_train_2000.shape[0]}\")\n",
    "print(f\"testing samples : {X_test_2003.shape[0]}\")\n",
    "\n",
    "dropped_count = df[(df[\"releaseyear\"] >= 2000) & (df[\"releaseyear\"] < 2003)].shape[0]\n",
    "print(f\"dropped sample  : {dropped_count}\")"
   ]
  },
  {
   "cell_type": "markdown",
   "metadata": {},
   "source": [
    "Our training set is quite small."
   ]
  },
  {
   "cell_type": "markdown",
   "metadata": {},
   "source": [
    "Declare and train the model, here a simple linear regression:"
   ]
  },
  {
   "cell_type": "code",
   "execution_count": 69,
   "metadata": {},
   "outputs": [
    {
     "data": {
      "text/plain": [
       "LinearRegression()"
      ]
     },
     "execution_count": 69,
     "metadata": {},
     "output_type": "execute_result"
    }
   ],
   "source": [
    "#Declare model\n",
    "lin_model = LinearRegression()\n",
    "\n",
    "#Train model\n",
    "lin_model.fit(X_train_2000, y_train_2000)"
   ]
  },
  {
   "cell_type": "markdown",
   "metadata": {},
   "source": [
    "Use the model to predict values on the test data:"
   ]
  },
  {
   "cell_type": "code",
   "execution_count": 70,
   "metadata": {},
   "outputs": [],
   "source": [
    "#Make predictions\n",
    "# predictions_lin_reg_alternative = lin_model.predict(df_filtered_2003.drop(\"score\",axis=1))\n",
    "y_pred_2003 = lin_model.predict(X_test_2003)"
   ]
  },
  {
   "cell_type": "markdown",
   "metadata": {},
   "source": [
    "Print the corresponding R-squared: $R_2 = -0.282$.  \n",
    "It corresponds to the \"fraction of variance explained by the model\" \n",
    "(i.e. $1 - \\frac{\\text{variance of residuals}}{\\text{data true variance}}$) .  \n",
    "Here a negative value indicates that, in a sense, the model gives worse prediction than the 'best' constant estimation: the true mean of the data (which to model we would approximate using the mean of the training data, cf 2.4)"
   ]
  },
  {
   "cell_type": "code",
   "execution_count": 71,
   "metadata": {
    "scrolled": true
   },
   "outputs": [
    {
     "name": "stdout",
     "output_type": "stream",
     "text": [
      "r_2: -0.28225204260641146\n"
     ]
    }
   ],
   "source": [
    "#Compute R2\n",
    "r2_sklearn = r2_score(y_test_2003, y_pred_2003)\n",
    "print(f\"r_2: {r2_sklearn}\")"
   ]
  },
  {
   "cell_type": "markdown",
   "metadata": {},
   "source": [
    "List some estimated scores VS actual scores for the test data:"
   ]
  },
  {
   "cell_type": "code",
   "execution_count": 72,
   "metadata": {},
   "outputs": [
    {
     "data": {
      "text/html": [
       "<div>\n",
       "<style scoped>\n",
       "    .dataframe tbody tr th:only-of-type {\n",
       "        vertical-align: middle;\n",
       "    }\n",
       "\n",
       "    .dataframe tbody tr th {\n",
       "        vertical-align: top;\n",
       "    }\n",
       "\n",
       "    .dataframe thead th {\n",
       "        text-align: right;\n",
       "    }\n",
       "</style>\n",
       "<table border=\"1\" class=\"dataframe\">\n",
       "  <thead>\n",
       "    <tr style=\"text-align: right;\">\n",
       "      <th></th>\n",
       "      <th>Actual score</th>\n",
       "      <th>Predicted score</th>\n",
       "    </tr>\n",
       "  </thead>\n",
       "  <tbody>\n",
       "    <tr>\n",
       "      <th>0</th>\n",
       "      <td>8.5</td>\n",
       "      <td>7.163518</td>\n",
       "    </tr>\n",
       "    <tr>\n",
       "      <th>1</th>\n",
       "      <td>8.2</td>\n",
       "      <td>7.504677</td>\n",
       "    </tr>\n",
       "    <tr>\n",
       "      <th>2</th>\n",
       "      <td>8.3</td>\n",
       "      <td>7.509026</td>\n",
       "    </tr>\n",
       "    <tr>\n",
       "      <th>3</th>\n",
       "      <td>7.3</td>\n",
       "      <td>7.991936</td>\n",
       "    </tr>\n",
       "    <tr>\n",
       "      <th>4</th>\n",
       "      <td>7.5</td>\n",
       "      <td>7.647314</td>\n",
       "    </tr>\n",
       "    <tr>\n",
       "      <th>5</th>\n",
       "      <td>7.6</td>\n",
       "      <td>6.983962</td>\n",
       "    </tr>\n",
       "    <tr>\n",
       "      <th>6</th>\n",
       "      <td>8.2</td>\n",
       "      <td>7.388423</td>\n",
       "    </tr>\n",
       "    <tr>\n",
       "      <th>8</th>\n",
       "      <td>6.9</td>\n",
       "      <td>7.400328</td>\n",
       "    </tr>\n",
       "    <tr>\n",
       "      <th>9</th>\n",
       "      <td>7.0</td>\n",
       "      <td>7.226013</td>\n",
       "    </tr>\n",
       "    <tr>\n",
       "      <th>12</th>\n",
       "      <td>7.0</td>\n",
       "      <td>7.478424</td>\n",
       "    </tr>\n",
       "    <tr>\n",
       "      <th>13</th>\n",
       "      <td>8.5</td>\n",
       "      <td>7.509611</td>\n",
       "    </tr>\n",
       "    <tr>\n",
       "      <th>15</th>\n",
       "      <td>6.1</td>\n",
       "      <td>7.641972</td>\n",
       "    </tr>\n",
       "  </tbody>\n",
       "</table>\n",
       "</div>"
      ],
      "text/plain": [
       "    Actual score  Predicted score\n",
       "0            8.5         7.163518\n",
       "1            8.2         7.504677\n",
       "2            8.3         7.509026\n",
       "3            7.3         7.991936\n",
       "4            7.5         7.647314\n",
       "5            7.6         6.983962\n",
       "6            8.2         7.388423\n",
       "8            6.9         7.400328\n",
       "9            7.0         7.226013\n",
       "12           7.0         7.478424\n",
       "13           8.5         7.509611\n",
       "15           6.1         7.641972"
      ]
     },
     "execution_count": 72,
     "metadata": {},
     "output_type": "execute_result"
    }
   ],
   "source": [
    "actu_vs_pred = pd.DataFrame({'Actual score': y_test_2003, 'Predicted score': y_pred_2003})\n",
    "actu_vs_pred.head(12)"
   ]
  },
  {
   "cell_type": "markdown",
   "metadata": {},
   "source": [
    "### 3.3 - Residuals \n",
    "\n",
    "3. For a given entry $X$ your model outputs a predicted score $Y'$. The difference between the real score $Y$ and the predicted score $Y'$ is called the \"residual\". Considering the model trained in 3.2, plot the distribution of your residuals for the test set. Additionally, estimate what is the probability that your score prediction (from 3.2) is off by more than 2-points? Provide bootstrapped confidence intervals for your answer.\n",
    "\n"
   ]
  },
  {
   "cell_type": "markdown",
   "metadata": {},
   "source": [
    "We plot the distribution of the residuals for the linear regression in 3.2"
   ]
  },
  {
   "cell_type": "code",
   "execution_count": 73,
   "metadata": {
    "scrolled": true
   },
   "outputs": [
    {
     "data": {
      "text/plain": [
       "Text(0.5, 1.0, 'Distribution of residuals for linear regression (50 bins).')"
      ]
     },
     "execution_count": 73,
     "metadata": {},
     "output_type": "execute_result"
    },
    {
     "data": {
      "image/png": "[encoded data removed]",
      "text/plain": [
       "<Figure size 1008x288 with 1 Axes>"
      ]
     },
     "metadata": {
      "needs_background": "light"
     },
     "output_type": "display_data"
    }
   ],
   "source": [
    "#Compute the residuals\n",
    "residuals_lin_reg = y_pred_2003 - y_test_2003\n",
    "\n",
    "# plotting\n",
    "fig, ax = plt.subplots(1,1, figsize=(14,4))\n",
    "\n",
    "plt.hist(residuals_lin_reg, bins=50, color = 'skyblue', edgecolor = 'black')\n",
    "\n",
    "plt.vlines(-2, ymin=0, ymax=1500, colors='black', linestyles='dotted', label='histogram mean')\n",
    "plt.vlines(+2, ymin=0, ymax=1500, colors='black', linestyles='dotted', label='histogram mean')\n",
    "\n",
    "plt.xlabel(\"Value of residual.\")\n",
    "plt.ylabel(\"Nb of residuals in the corresponding bin.\")\n",
    "plt.title(\"Distribution of residuals for linear regression (50 bins).\")"
   ]
  },
  {
   "cell_type": "markdown",
   "metadata": {},
   "source": [
    "Here are the functions to compute the desired statistics.\n",
    "The code is adapted from [here](https://machinelearningmastery.com/calculate-bootstrap-confidence-intervals-machine-learning-results-python/)."
   ]
  },
  {
   "cell_type": "code",
   "execution_count": 74,
   "metadata": {},
   "outputs": [],
   "source": [
    "# one-liner\n",
    "# computes the frequency of residuals deviating from more than the threshold (e.g. 2)\n",
    "def compute_residual_offset_proba(residuals, threshold=2):\n",
    "    return residuals[np.abs(residuals) > 2].count() / residuals.count()\n",
    "\n",
    "# We resample separately on the training and testing datasets:\n",
    "# percent_samples indicates the size of the samples as a percentage.\n",
    "def compute_stats_residual_offset(X_test, y_test, n_iterations=200, threshold=2):\n",
    "    \"\"\"\n",
    "    Computes an ordered list of stats, with sampling size of the whole dataset.\n",
    "    ...\n",
    "\n",
    "    Attributes\n",
    "    ----------\n",
    "    X_test: \n",
    "        the original testing features-dataset\n",
    "    y_test: \n",
    "        the original testing scores-dataset\n",
    "    n_iterations:\n",
    "        the number of bootstrapping iterations, i.e. of samplings.(default 100)\n",
    "    threshold:\n",
    "        the residual deviation we are interested in (default 2)\n",
    "    \"\"\"\n",
    "    \n",
    "    stats = []\n",
    "    for i in range (n_iterations):\n",
    "        # resample\n",
    "        samples = df_filtered_2003.sample(frac=1, replace=True)\n",
    "        X_test_s = samples.drop(\"score\", axis=1) # features\n",
    "        y_test_s = df_filtered_2003.score # scores\n",
    "        \n",
    "        # Predict using model\n",
    "        y_pred_s = lin_model.predict(X_test_s)\n",
    "        \n",
    "        # Compute desired stats\n",
    "        residuals_s = y_pred_s - y_test_s\n",
    "        stat = compute_residual_offset_proba(residuals_s, threshold)\n",
    "        \n",
    "        stats.append(stat)\n",
    "    \n",
    "    return np.array(stats)"
   ]
  },
  {
   "cell_type": "code",
   "execution_count": 75,
   "metadata": {},
   "outputs": [
    {
     "name": "stdout",
     "output_type": "stream",
     "text": [
      "10.926478567552902%\n"
     ]
    }
   ],
   "source": [
    "# With our sampling\n",
    "print(f\"{compute_residual_offset_proba(residuals_lin_reg, 2)*100}%\")\n",
    "stats = compute_stats_residual_offset(X_test_2003, y_test_2003)"
   ]
  },
  {
   "cell_type": "code",
   "execution_count": 76,
   "metadata": {},
   "outputs": [
    {
     "name": "stdout",
     "output_type": "stream",
     "text": [
      "95.0% confidence interval 10.59% and 11.02%.\n"
     ]
    },
    {
     "data": {
      "image/png": "[encoded data removed]",
      "text/plain": [
       "<Figure size 1008x288 with 1 Axes>"
      ]
     },
     "metadata": {
      "needs_background": "light"
     },
     "output_type": "display_data"
    }
   ],
   "source": [
    "fig, ax = plt.subplots(1,1, figsize=(14,4))\n",
    "\n",
    "# plot scores\n",
    "plt.hist(stats*100, bins=50, color = 'skyblue', edgecolor = 'black')\n",
    "plt.xlabel(\"percent of residuals deviating from more than 2 points.\")\n",
    "plt.ylabel(\"number of samples in the bin\")\n",
    "\n",
    "plt.title(\"Histogram of the % residuals deviating from more than 2 points during bootstrapping.\")\n",
    "# plt.show()\n",
    "\n",
    "# confidence intervals\n",
    "alpha = 0.95\n",
    "p = ((1.0-alpha)/2.0) * 100\n",
    "lower = max(0.0, np.percentile(stats, p))\n",
    "p = (alpha+((1.0-alpha)/2.0)) * 100\n",
    "upper = min(1.0, np.percentile(stats, p))\n",
    "print(f\"{alpha:.1%} confidence interval {lower:.2%} and {upper:.2%}.\")"
   ]
  },
  {
   "cell_type": "markdown",
   "metadata": {},
   "source": [
    "For our chosen training and testing sets (<2000 and >=2003), there is a 10.9% chance that a residual is off by more than 2 points. \n",
    "\n",
    "With bootstrapping we get more general bounds: there is a 95% likelihood that the probability that the residuals is off by 2 points if off by more than 2 points is in the confidence interval **10.6% to 11.0%**. It is therefore upperbounded by 11.1%."
   ]
  },
  {
   "cell_type": "markdown",
   "metadata": {},
   "source": [
    "### 3.4 Gradient boosting regressor\n",
    "\n",
    "4. Experiment with training a different regressor, a Gradient Boosting Regressor. This regressor is related to the Boosted decision trees that you have seen in class. This model performs extremely well for a variety of tasks and is often used in machine learning competitions for tabular data (e.g., on Kaggle). Train the regressor using the longitudinal split and the same features as in 3.2, use the default hyperparameters. Report the $R^2$ for the testing set. "
   ]
  },
  {
   "cell_type": "code",
   "execution_count": 77,
   "metadata": {},
   "outputs": [],
   "source": [
    "#Declare gradient boosted model\n",
    "lin_model = GradientBoostingRegressor()\n",
    "\n",
    "#Train model\n",
    "lin_model.fit(X_train_2000, y_train_2000)\n",
    "\n",
    "#Make predictions\n",
    "y_pred_boosted = lin_model.predict(X_test_2003)"
   ]
  },
  {
   "cell_type": "code",
   "execution_count": 105,
   "metadata": {
    "scrolled": true
   },
   "outputs": [
    {
     "name": "stdout",
     "output_type": "stream",
     "text": [
      "r2 = -0.40437239063501296\n",
      "The loss is 1.936711340283124\n"
     ]
    },
    {
     "data": {
      "text/plain": [
       "Text(0.5, 1.0, 'Distribution of residuals for gradient boosted regressor(50 bins).')"
      ]
     },
     "execution_count": 105,
     "metadata": {},
     "output_type": "execute_result"
    },
    {
     "data": {
      "image/png": "[encoded data removed]",
      "text/plain": [
       "<Figure size 1008x288 with 1 Axes>"
      ]
     },
     "metadata": {
      "needs_background": "light"
     },
     "output_type": "display_data"
    }
   ],
   "source": [
    "#Compute R2\n",
    "r2 = r2_score(y_test_2003, y_pred_boosted)\n",
    "print(f\"r2 = {r2}\")\n",
    "\n",
    "#Compute loss\n",
    "print(f\"The loss is {best_lin_reg.loss_(y_test_2003, y_pred_boosted)}\")\n",
    "\n",
    "#Compute the residuals\n",
    "residuals_boosted = y_pred_boosted - y_test_2003\n",
    "\n",
    "# plotting\n",
    "fig, ax = plt.subplots(1,1, figsize=(14,4))\n",
    "\n",
    "plt.hist(residuals_boosted, bins=50, color = 'skyblue', edgecolor = 'black')\n",
    "\n",
    "plt.xlabel(\"Value of residual.\")\n",
    "plt.ylabel(\"Nb of residuals in the corresponding bin.\")\n",
    "plt.title(\"Distribution of residuals for gradient boosted regressor(50 bins).\")"
   ]
  },
  {
   "cell_type": "markdown",
   "metadata": {},
   "source": [
    "Plot the 2 models' residuals at the same time to compare them:"
   ]
  },
  {
   "cell_type": "code",
   "execution_count": 79,
   "metadata": {},
   "outputs": [
    {
     "data": {
      "image/png": "[encoded data removed]",
      "text/plain": [
       "<Figure size 1008x360 with 1 Axes>"
      ]
     },
     "metadata": {
      "needs_background": "light"
     },
     "output_type": "display_data"
    }
   ],
   "source": [
    "fig, ax = plt.subplots(1,1, figsize=(14,5))\n",
    "\n",
    "plt.hist(residuals_lin_reg, bins=50, color='r', edgecolor = 'black', alpha=0.6, label='Linear regression')\n",
    "plt.hist(residuals_boosted, bins=50, color='skyblue', edgecolor = 'black', alpha=0.4, label='Gradient boosted')\n",
    "\n",
    "plt.xlabel('value of residual')\n",
    "plt.ylabel('Nb of residuals in the corresponding bin.')\n",
    "plt.title(\"Distribution of linear regression VS boosted gradient residuals (50 bins).\")\n",
    "\n",
    "_ = plt.legend()"
   ]
  },
  {
   "cell_type": "markdown",
   "metadata": {},
   "source": [
    "The graph above shows that the linear regression on the alternative data has better performance than the gradient booster regression (basically all residuals are smaller)."
   ]
  },
  {
   "cell_type": "markdown",
   "metadata": {},
   "source": [
    "Residuals for dummy regressor VS boosted gradient  \n",
    "Given that r2 is highly negative, we should expect the dummy regressor to be 'better', but with more \"outliers\", i.e. big residuals in absolute value:"
   ]
  },
  {
   "cell_type": "code",
   "execution_count": 80,
   "metadata": {},
   "outputs": [
    {
     "name": "stdout",
     "output_type": "stream",
     "text": [
      "8.287017994858612\n"
     ]
    },
    {
     "data": {
      "image/png": "[encoded data removed]",
      "text/plain": [
       "<Figure size 1008x360 with 1 Axes>"
      ]
     },
     "metadata": {
      "needs_background": "light"
     },
     "output_type": "display_data"
    }
   ],
   "source": [
    "print(y_train_2000.mean())\n",
    "residuals_dummy = y_test_2003 - y_train_2000.mean()\n",
    "\n",
    "fig, ax = plt.subplots(1,1, figsize=(14,5))\n",
    "\n",
    "plt.hist(residuals_dummy, bins=50, color='r', edgecolor = 'black', alpha=0.6, label='Mean regression')\n",
    "plt.hist(residuals_lin_reg, bins=50, color='skyblue', edgecolor = 'black', alpha=0.4, label='Linear regression')\n",
    "\n",
    "plt.xlabel(\"Value of residual.\")\n",
    "plt.ylabel(\"Nb of residuals in the corresponding bin.\")\n",
    "plt.title(\"Distribution of boosted gradient VS dummy regressor residuals (50 bins).\")\n",
    "\n",
    "_ = plt.legend()"
   ]
  },
  {
   "cell_type": "code",
   "execution_count": 81,
   "metadata": {},
   "outputs": [
    {
     "data": {
      "image/png": "[encoded data removed]",
      "text/plain": [
       "<Figure size 1008x360 with 1 Axes>"
      ]
     },
     "metadata": {
      "needs_background": "light"
     },
     "output_type": "display_data"
    }
   ],
   "source": [
    "fig, ax = plt.subplots(1,1, figsize=(14,5))\n",
    "\n",
    "plt.hist(np.abs(residuals_dummy), bins=50, color='r', edgecolor = 'black', alpha=0.6, label='Mean regression')\n",
    "plt.hist(\n",
    "    np.abs(residuals_lin_reg), bins=50, color='skyblue', edgecolor = 'black', alpha=0.4, label='Linear regression')\n",
    "\n",
    "plt.yscale('log')\n",
    "\n",
    "plt.xlabel(\"Value of residual.\")\n",
    "plt.ylabel(\"Nb of residuals in the corresponding bin (log scale)\")\n",
    "plt.title(\"y-log distribution of boosted gradient VS dummy regressor absolute residuals (50 bins).\")\n",
    "\n",
    "_ = plt.legend()"
   ]
  },
  {
   "cell_type": "markdown",
   "metadata": {},
   "source": [
    "It is not obvious from the residual plots whether one approach is overall better than the other (which speaks to the failure of the 'clever' regressions).  \n",
    "What we *can* say on the other hand is that, for the gradient-boosted regression the error on the score comes more from the lower residuals (in absolute value), compared to the dummy(mean)-regression."
   ]
  },
  {
   "cell_type": "markdown",
   "metadata": {},
   "source": [
    "---\n",
    "In general we have seen that the $R_2$ values were really small, and that the regessors did not fit the data very well.\n",
    "There are many reasons why that could be the case. Among others, the hypotheses for linear regression (for the linear regression models) are not verified. Notably:\n",
    "* Not all relevant predictors (or predictor values) are included, e.g. we are missing many genres.\n",
    "* Score is linear in the predictors: \n",
    "    * given the shapes of certain distributions, such as the heavy-tailed speechiness or acousticness it would probably be a good idea to modify the predictors by applying some transformations, e.g. a logarithmic transformation on the aformentioned heavy-tailed ones.\n",
    "    * We have not accounted for interactions between the predictors, which are bound to happen, between for example tempo and the danceability, or the genre and the tempo."
   ]
  },
  {
   "cell_type": "markdown",
   "metadata": {},
   "source": [
    "### 3.5 - Discuss\n",
    "\n",
    "5. **Discuss:** Hypothesize a reason for the difference in performance between the Linear regression and the Gradient Boosting Regressor.\n",
    "\n",
    "One hypothesis for the difference in performance between the linear regression and the gradient boosting regressor is the data on which they are trained on. The linear regression is trained on a random split, therefore is has evenly-handed sample from all the dataset. On the other hand, the gradient boosting regressor is only trained on sample before 2000, therefore when it needs to predicts the test data which only occurs after 2000 it does poorly his job because we does not predict well unfamiliar data.\n",
    "\n",
    "An example of this can be seen in [gradient boosted regressor extrapolates badly for features outside of the training range](http://freerangestats.info/blog/2016/12/10/extrapolation). E.g. here the feature `releaseyear` for the training and testing datasets don't overlap."
   ]
  },
  {
   "cell_type": "markdown",
   "metadata": {},
   "source": [
    "**Task 4 (Are we solving the correct problem? — 16 pts)**\n",
    "\n",
    "All your efforts so far have assumed that decisions are taken at the \"album\" level, which is often not the case for bands with multiple albums. In those cases, it could be interesting to predict what is the success of a given band album given the features of the album **and of previous albums**.\n",
    "\n",
    "1. Create a new dataframe that contains one row per ~~band~~ artist with more than 1 album. This dataframe should have the same columns as the data provided to you, considering the latest album of the respective ~~band~~ artist (note that this is determined by the release year of the album, not the date when it was reviewed). Additionally, for each feature considered in Task 3.1 (including the one-hot encoded features), create an additional column post-fixed with `_previous` (e.g., `danceability_previous`). These columns should contain the average values for all of the band's previous albums. Also, create a column `score_previous` with the average score of previous albums. Print the number of rows in the dataframe as well as the name of the columns.\n",
    "\n",
    "2. Train a Gradient Boosting Regressor considering all features created in Task 4.1 (note that `score` is the outcome and everything else is a feature, including `score_previous`). Use the 70/30 random train-test split, the default hyperparameters, and report the $R^2$ for the testing set. \n",
    "\n",
    "3. Can hyperparameter tuning improve your model? Write modular code (i.e., a function) to divide your training data into $N$ folds and perform cross-validation. Experiment tuning two hyperparameters of the Gradient Boosting Regressor: `n_estimators` and `learning_rate`. For each possible combination of the two hyperparameters (see below for the range of values that you should try for each hyperparameter), train your model in a cross-validation setup with $N=20$ folds. Report the mean  $R^2$ along with the 90% CI for each scenario. \n",
    "    - n_estimators $ \\in  \\{ 100, 200, 300, 400\\}$\n",
    "    - learning_rate $ \\in  \\{ 0.1, 0.05, 0.01\\}$.\n",
    " \n",
    " With the best hyperparameters obtained, train your model with the entire training set and report the $R^2$ on the testing set.\n",
    " \n",
    "4. **Discuss:** How do these results compare with the previous setup (the scenario considered in **Task 3.4**)? Point out two reasons why it is hard to compare the results obtained in 4.3 and 3.4 at face value? How would you fairly compare the two different setups?\n",
    "\n",
    "---"
   ]
  },
  {
   "cell_type": "markdown",
   "metadata": {},
   "source": [
    "https://ada2021epfl.zulipchat.com/#narrow/stream/302231-Homework/topic/.E2.9C.94.20H2.3A.20Task.204.2E1"
   ]
  },
  {
   "cell_type": "markdown",
   "metadata": {},
   "source": [
    "### 4.1 - New dataframe\n",
    "\n",
    "1. Create a new dataframe that contains one row per ~~band~~ artist with more than 1 album. This dataframe should have the same columns as the data provided to you, considering the latest album of the respective ~~band~~ artist (note that this is determined by the release year of the album, not the date when it was reviewed). Additionally, for each feature considered in Task 3.1 (including the one-hot encoded features), create an additional column post-fixed with `_previous` (e.g., `danceability_previous`). These columns should contain the average values for all of the band's previous albums. Also, create a column `score_previous` with the average score of previous albums. Print the number of rows in the dataframe as well as the name of the columns."
   ]
  },
  {
   "cell_type": "code",
   "execution_count": 82,
   "metadata": {},
   "outputs": [],
   "source": [
    "# Create index to merge afterwards\n",
    "df['index'] = range(1, len(df)+1)"
   ]
  },
  {
   "cell_type": "code",
   "execution_count": 83,
   "metadata": {},
   "outputs": [],
   "source": [
    "# Create sorted array\n",
    "df_sorted = df.sort_values(\"releaseyear\")\n",
    "# Keep only the last album\n",
    "last_album = df.drop_duplicates(subset = ['artist'], keep ='last')"
   ]
  },
  {
   "cell_type": "code",
   "execution_count": 84,
   "metadata": {},
   "outputs": [],
   "source": [
    "# Drop last album of artist rows\n",
    "removed_last_album = df.drop(last_album.index)\n",
    "# Group by artists to get means\n",
    "removed_last_album_means = removed_last_album.groupby(\"artist\").mean()\n",
    "# Get columns of interest\n",
    "removed_last_album_means = removed_last_album_means.filter(regex='_onehot|^releaseyear|^key|^acousticness|^danceability|^energy|^instrumentalness|^liveness|^loudness|^speechiness|^valence|^tempo')\n",
    "# Merge on artist\n",
    "new_dataframe = pd.merge(removed_last_album_means,last_album, on='artist')\n",
    "# Rename columns\n",
    "for name in new_dataframe.columns:\n",
    "    if \"_x\" in name:\n",
    "        new_dataframe = new_dataframe.rename(columns={name:name.replace(\"_x\",\"_previous\")})\n",
    "    else:\n",
    "        new_dataframe = new_dataframe.rename(columns={name:name.replace(\"_y\",\"\")})"
   ]
  },
  {
   "cell_type": "code",
   "execution_count": 85,
   "metadata": {
    "scrolled": true
   },
   "outputs": [
    {
     "data": {
      "text/plain": [
       "0       7.2\n",
       "1       8.6\n",
       "2       8.7\n",
       "3       7.5\n",
       "4       6.0\n",
       "       ... \n",
       "3556    6.7\n",
       "3557    6.2\n",
       "3558    7.9\n",
       "3559    7.2\n",
       "3560    4.5\n",
       "Name: score, Length: 3561, dtype: float64"
      ]
     },
     "execution_count": 85,
     "metadata": {},
     "output_type": "execute_result"
    }
   ],
   "source": [
    "new_dataframe.score"
   ]
  },
  {
   "cell_type": "code",
   "execution_count": 86,
   "metadata": {},
   "outputs": [
    {
     "name": "stdout",
     "output_type": "stream",
     "text": [
      "The number of rows in the dataframe is 3561 \n",
      "\n",
      "Index(['artist', 'releaseyear_previous', 'danceability_previous',\n",
      "       'energy_previous', 'key_previous', 'loudness_previous',\n",
      "       'speechiness_previous', 'acousticness_previous',\n",
      "       'instrumentalness_previous', 'liveness_previous', 'valence_previous',\n",
      "       'tempo_previous', 'Electronic_onehot_previous',\n",
      "       'Folk/Country_onehot_previous', 'Rock_onehot_previous',\n",
      "       'Rap_onehot_previous', 'Global_onehot_previous',\n",
      "       'Experimental_onehot_previous', 'Metal_onehot_previous',\n",
      "       'Pop/R&B_onehot_previous', 'Jazz_onehot_previous',\n",
      "       'Other_onehot_previous', 'album', 'reviewauthor', 'score',\n",
      "       'releaseyear', 'reviewdate', 'recordlabel', 'genre', 'danceability',\n",
      "       'energy', 'key', 'loudness', 'speechiness', 'acousticness',\n",
      "       'instrumentalness', 'liveness', 'valence', 'tempo', 'Electronic_onehot',\n",
      "       'Folk/Country_onehot', 'Rock_onehot', 'Rap_onehot', 'Global_onehot',\n",
      "       'Experimental_onehot', 'Metal_onehot', 'Pop/R&B_onehot', 'Jazz_onehot',\n",
      "       'Other_onehot', 'index'],\n",
      "      dtype='object')\n"
     ]
    }
   ],
   "source": [
    "#Number of rows\n",
    "print(f\"The number of rows in the dataframe is {len(new_dataframe)} \\n\")\n",
    "#Column names\n",
    "print(new_dataframe.columns)"
   ]
  },
  {
   "cell_type": "markdown",
   "metadata": {},
   "source": [
    "### 4.2 - Train a Gradient Boosted regressor on the new dataframe\n",
    "\n",
    "2. Train a Gradient Boosting Regressor considering all features created in Task 4.1 (note that `score` is the outcome and everything else is a feature, including `score_previous`). Use the 70/30 random train-test split, the default hyperparameters, and report the $R^2$ for the testing set. "
   ]
  },
  {
   "cell_type": "code",
   "execution_count": 87,
   "metadata": {},
   "outputs": [],
   "source": [
    "#Data\n",
    "new_dataframe = new_dataframe.filter(regex='_previous|^score')\n",
    "\n",
    "#Declare gradient boosted model\n",
    "lin_model_ndf = GradientBoostingRegressor()\n",
    "\n",
    "#Split data\n",
    "X_train_ndf, X_test_ndf, y_train_ndf, y_test_ndf = train_test_split(\n",
    "    new_dataframe.drop('score',axis=1), new_dataframe.score, train_size = 0.7, test_size = 0.3, \n",
    "    random_state=RANDOM_STATE)\n",
    "\n",
    "#Train model\n",
    "lin_model_ndf.fit(X_train_ndf,y_train_ndf)\n",
    "                                                                    \n",
    "#Make predictions\n",
    "predictions_ndf = lin_model_ndf.predict(X_test_ndf)"
   ]
  },
  {
   "cell_type": "code",
   "execution_count": 88,
   "metadata": {},
   "outputs": [
    {
     "name": "stdout",
     "output_type": "stream",
     "text": [
      "r2 = 0.021926612752532715\n"
     ]
    }
   ],
   "source": [
    "#Compute R2\n",
    "r2_ndf = r2_score(y_test_ndf, predictions_ndf)\n",
    "print(f\"r2 = {r2_ndf}\")"
   ]
  },
  {
   "cell_type": "markdown",
   "metadata": {},
   "source": [
    "### 4.3 - Cross-validation\n",
    "\n",
    "\n",
    "3. Can hyperparameter tuning improve your model? Write modular code (i.e., a function) to divide your training data into $N$ folds and perform cross-validation. Experiment tuning two hyperparameters of the Gradient Boosting Regressor: `n_estimators` and `learning_rate`. For each possible combination of the two hyperparameters (see below for the range of values that you should try for each hyperparameter), train your model in a cross-validation setup with $N=20$ folds. Report the mean  $R^2$ along with the 90% CI for each scenario. \n",
    "    - n_estimators $ \\in  \\{ 100, 200, 300, 400\\}$\n",
    "    - learning_rate $ \\in  \\{ 0.1, 0.05, 0.01\\}$.\n",
    " \n",
    " With the best hyperparameters obtained, train your model with the entire training set and report the $R^2$ on the testing set."
   ]
  },
  {
   "cell_type": "code",
   "execution_count": 89,
   "metadata": {},
   "outputs": [],
   "source": [
    "#implement cross_validation\n",
    "def cross_validation(y, x, k_fold, seed):\n",
    "    \"\"\"\n",
    "    Performs cross validation on data given parameters, model type, and seed\n",
    "    :param y: labels\n",
    "    :param x: input data\n",
    "    :param k_fold: number of folds for cross validation\n",
    "    :param seed: integer seed\n",
    "    \"\"\"\n",
    "\n",
    "    k_indices = build_k_indices(y, k_fold, seed)\n",
    "    \n",
    "    r2_squares = np.array([[]])\n",
    "   \n",
    "    confidence_intervals = np.array([[]])\n",
    "    \n",
    "    for estimator_ in [100, 200, 300, 400]:\n",
    "        print(f\"\\n>>> iteration estimator_ = {estimator_} ...\")\n",
    "        for l in [0.1, 0.05, 0.01]:                                                            \n",
    "            print(f\"   >>> iteration l = {l} ...\")\n",
    "            r2_scenario = np.empty((3,1))\n",
    "            \n",
    "            for k in range(k_fold): \n",
    "                train_indices = k_indices[~(np.arange(k_indices.shape[0]) == k)].reshape(-1)\n",
    "                test_indices = k_indices[k]\n",
    "                x_test  = x[test_indices]\n",
    "                x_train = x[train_indices]\n",
    "                y_test  = y[test_indices]\n",
    "                y_train = y[train_indices]\n",
    "\n",
    "                # init regressor and fit\n",
    "                lin_reg_kfold = GradientBoostingRegressor(n_estimators=estimator_, learning_rate=l)\n",
    "                lin_reg_kfold.fit(x_train,y_train)\n",
    "                \n",
    "                # predict\n",
    "                predictions = lin_reg_kfold.predict(x_test)\n",
    "                \n",
    "                # compute R-squared\n",
    "                r2_scenario = np.append(r2_scenario, r2_score(y_test, predictions))\n",
    "            \n",
    "            r2_mean = r2_scenario.mean()\n",
    "            r2_std = r2_scenario.std()\n",
    "            \n",
    "            ci_up   = r2_mean + r2_std*1.645/np.sqrt(len(r2_scenario))\n",
    "            ci_down = r2_mean - r2_std*1.645/np.sqrt(len(r2_scenario))\n",
    "            \n",
    "            confidence_intervals = np.append(confidence_intervals, ci_down)\n",
    "            confidence_intervals = np.append(confidence_intervals, ci_up)\n",
    "                        \n",
    "            r2_squares = np.append(r2_squares, r2_mean)\n",
    "        \n",
    "    return r2_squares, confidence_intervals\n",
    "        \n",
    "#Build indices for k-fold\n",
    "def build_k_indices(y, k_fold, seed):\n",
    "    \"\"\"\n",
    "    build k indices for k-fold\n",
    "    :param y: labels\n",
    "    :param k_fold: number of folds\n",
    "    :param seed: random seed value\n",
    "    :return: array of indices \n",
    "    \"\"\"\n",
    "    num_row = y.shape[0]\n",
    "    interval = int(num_row / k_fold)\n",
    "    np.random.seed(seed)\n",
    "    indices = np.random.permutation(num_row)\n",
    "    k_indices = [indices[k * interval: (k + 1) * interval] for k in range(k_fold)]\n",
    "    return np.array(k_indices)\n"
   ]
  },
  {
   "cell_type": "code",
   "execution_count": 95,
   "metadata": {},
   "outputs": [
    {
     "name": "stdout",
     "output_type": "stream",
     "text": [
      "\n",
      ">>> iteration estimator_ = 100 ...\n",
      "   >>> iteration l = 0.1 ...\n",
      "   >>> iteration l = 0.05 ...\n",
      "   >>> iteration l = 0.01 ...\n",
      "\n",
      ">>> iteration estimator_ = 200 ...\n",
      "   >>> iteration l = 0.1 ...\n",
      "   >>> iteration l = 0.05 ...\n",
      "   >>> iteration l = 0.01 ...\n",
      "\n",
      ">>> iteration estimator_ = 300 ...\n",
      "   >>> iteration l = 0.1 ...\n",
      "   >>> iteration l = 0.05 ...\n",
      "   >>> iteration l = 0.01 ...\n",
      "\n",
      ">>> iteration estimator_ = 400 ...\n",
      "   >>> iteration l = 0.1 ...\n",
      "   >>> iteration l = 0.05 ...\n",
      "   >>> iteration l = 0.01 ...\n"
     ]
    }
   ],
   "source": [
    "r2s, ci = cross_validation(y_train_ndf.to_numpy(), X_train_ndf.to_numpy(), 20, 0)"
   ]
  },
  {
   "cell_type": "code",
   "execution_count": 96,
   "metadata": {},
   "outputs": [
    {
     "name": "stdout",
     "output_type": "stream",
     "text": [
      "For the n_estimator 100 and the learning parameter 0.1 the gradient boosting regressor has a r2 of -0.01830755840596069 with the confidence interval of [-0.039946344609375635,0.0033312277974542545]\n",
      "\n",
      "For the n_estimator 100 and the learning parameter 0.05 the gradient boosting regressor has a r2 of -0.0014472638087865467 with the confidence interval of [-0.018154733228379683,0.01526020561080659]\n",
      "\n",
      "For the n_estimator 100 and the learning parameter 0.01 the gradient boosting regressor has a r2 of -0.0013407279360870133 with the confidence interval of [-0.00950184453707226,0.006820388664898234]\n",
      "\n",
      "For the n_estimator 200 and the learning parameter 0.1 the gradient boosting regressor has a r2 of -0.043721389078269376 with the confidence interval of [-0.07098556448986985,-0.016457213666668895]\n",
      "\n",
      "For the n_estimator 200 and the learning parameter 0.05 the gradient boosting regressor has a r2 of -0.015480372641463623 with the confidence interval of [-0.037020541816894154,0.006059796533966906]\n",
      "\n",
      "For the n_estimator 200 and the learning parameter 0.01 the gradient boosting regressor has a r2 of 0.004075965586170745 with the confidence interval of [-0.006298062082364263,0.014449993254705753]\n",
      "\n",
      "For the n_estimator 300 and the learning parameter 0.1 the gradient boosting regressor has a r2 of -0.06518225327260162 with the confidence interval of [-0.09841815915520338,-0.031946347389999845]\n",
      "\n",
      "For the n_estimator 300 and the learning parameter 0.05 the gradient boosting regressor has a r2 of -0.028000889282885008 with the confidence interval of [-0.053771857178975375,-0.0022299213867946407]\n",
      "\n",
      "For the n_estimator 300 and the learning parameter 0.01 the gradient boosting regressor has a r2 of 0.0024508170895013136 with the confidence interval of [-0.010116384596461303,0.01501801877546393]\n",
      "\n",
      "For the n_estimator 400 and the learning parameter 0.1 the gradient boosting regressor has a r2 of -0.08331460662914021 with the confidence interval of [-0.11964016590303794,-0.04698904735524247]\n",
      "\n",
      "For the n_estimator 400 and the learning parameter 0.05 the gradient boosting regressor has a r2 of -0.03940479927043065 with the confidence interval of [-0.06914962230815486,-0.009659976232706442]\n",
      "\n",
      "For the n_estimator 400 and the learning parameter 0.01 the gradient boosting regressor has a r2 of 0.0005745902275967969 with the confidence interval of [-0.013969116756539855,0.01511829721173345]\n",
      "\n"
     ]
    }
   ],
   "source": [
    "estimators = [100, 200, 300, 400]\n",
    "learning_parameters = [0.1, 0.05, 0.01]\n",
    "for i in range(len(estimators)):\n",
    "        for j in range(len(learning_parameters)):\n",
    "            print(f\"For the n_estimator {estimators[i]} and the learning parameter {learning_parameters[j]} the gradient boosting regressor has a r2 of {r2s[i*3+j]} with the confidence interval of [{ci[i*6+j*2]},{ci[i*6+j*2+1]}]\\n\")"
   ]
  },
  {
   "cell_type": "code",
   "execution_count": 106,
   "metadata": {},
   "outputs": [
    {
     "name": "stdout",
     "output_type": "stream",
     "text": [
      "The r2 score is 0.034268437873867574\n",
      "The loss is 1.440210386511002\n"
     ]
    }
   ],
   "source": [
    "#The best r2 index\n",
    "max_r2_index = np.argmax(r2s)\n",
    "\n",
    "#get index of parameters\n",
    "i = int(max_r2_index/3)\n",
    "j = max_r2_index%3\n",
    "\n",
    "#best params\n",
    "best_estimator = estimators[i]\n",
    "best_learning_parameter = learning_parameters[j]\n",
    "\n",
    "#Declare the model\n",
    "best_lin_reg = GradientBoostingRegressor(n_estimators=best_estimator, learning_rate=best_learning_parameter)\n",
    "\n",
    "#Train the model\n",
    "best_lin_reg.fit(X_train_ndf, y_train_ndf)\n",
    "\n",
    "#Make predictions\n",
    "redictions_ndf = best_lin_reg.predict(X_test_ndf)\n",
    "\n",
    "#Compute the r2\n",
    "print(f\"The r2 score is {r2_score(y_test_ndf, redictions_ndf)}\")\n",
    "\n",
    "#Compute loss\n",
    "print(f\"The loss is {best_lin_reg.loss_(y_test_ndf,redictions_ndf)}\")"
   ]
  },
  {
   "cell_type": "markdown",
   "metadata": {},
   "source": [
    "### 4.4 - Discuss\n",
    "\n",
    "4. **Discuss:** How do these results compare with the previous setup (the scenario considered in **Task 3.4**)? Point out two reasons why it is hard to compare the results obtained in 4.3 and 3.4 at face value? How would you fairly compare the two different setups?"
   ]
  },
  {
   "cell_type": "markdown",
   "metadata": {},
   "source": [
    "We see that the model in 4.3 performs better than in 3.4 for the r2_score as it is higher, it also has a lower loss."
   ]
  },
  {
   "cell_type": "markdown",
   "metadata": {},
   "source": [
    "It is hard to compare the results because:<br>\n",
    "       -The gradient boosting regressor is not trained on the same data, in the 3.4 we train on the longitudinal split, whereas in the the 4.3 we train by doing a k-fold of the data. In this case, it seems that the models best performs when we do a random split wether thank the longitudinal split.<br>\n",
    "       -In the 4.3 we seek the best parameters for the model, so it is likely that is has better results at the time of predicting the results. Indeed in the task 3.4, we didn't do a cross-validation to get the best parameters for that situation."
   ]
  },
  {
   "cell_type": "markdown",
   "metadata": {},
   "source": [
    "To compare fairly these two different setups we could do the following:\n",
    "\n",
    "* One way to compare the setups, would be for the task 4.1 to make the mean of features of albums of an artist before a date, and then having the score of the last album past that date. In that case we could tell how well the two models predict data that they have never encounter before.\n",
    "\n",
    "* In the 3.4 we should also seek the best parameters for the data."
   ]
  },
  {
   "cell_type": "markdown",
   "metadata": {},
   "source": [
    "## Part 2: Second Album Syndrome\n",
    "\n",
    "Your second project at *Piccardi Music* is to shed light on one of the business's oldest enigmas: the \"second album syndrome.\" In a nutshell, the \"second album syndrome\" is a theory that states that the second album of a band always sucks. ([Related read](https://tvtropes.org/pmwiki/pmwiki.php/Main/SophomoreSlump))\n",
    "\n",
    "Assume—for the purpose of this task—that the Pitchfork data contains all albums for all artists it covers (even though this might not be true in reality)."
   ]
  },
  {
   "cell_type": "markdown",
   "metadata": {
    "pycharm": {
     "name": "#%% md\n"
    }
   },
   "source": [
    "**Task 5 (Preliminary analyses — 8 pts)**\n",
    "\n",
    "You begin by carrying out some preliminary data processing and analyses.\n",
    "\n",
    "1. Create a new dataframe (from the original data with duplicates dropped, the same as you obtained after finishing Task 1.1) containing only albums from artists with two or more albums and where the release year is not empty.\n",
    "2. Create a new column `album_number` which indicates how many albums the artist has produced before this one (before the second album, the artist has already produced one album).\n",
    "3. Calculate the mean and the standard error fo the mean of the scores of the first and second albums in the dataset. Additionally, plot the two distributions. \n",
    "4. Use an appropriate method to determine if the difference in means of 1st and 2nd albums is statistically significant?\n",
    "5. **Discuss:** Do these analyses suggest that the \"second album syndrome\" exists?\n",
    "\n",
    "---"
   ]
  },
  {
   "cell_type": "markdown",
   "metadata": {},
   "source": [
    "to check: https://ada2021epfl.zulipchat.com/#narrow/stream/302231-Homework/topic/.E2.9C.94.20H2.3A.20Task.205.2E2"
   ]
  },
  {
   "cell_type": "code",
   "execution_count": 62,
   "metadata": {},
   "outputs": [],
   "source": [
    "def print_t_test(x, y, x_name, y_name):\n",
    "    start_string = f'\\nThe average score difference between the {x_name} and the {y_name} is'\n",
    "    statistic, p_value = ttest_ind(x,y,equal_var=False)\n",
    "    \n",
    "    print(f'{start_string} significant \\n with a p-value of {p_value:.3e}' if(p_value<0.05) \n",
    "      else f'{start_string} not significant \\n with a p-value of {p_value:.3e}')"
   ]
  },
  {
   "cell_type": "markdown",
   "metadata": {},
   "source": [
    "##### 1. Create albums dataframe\n",
    "\n",
    "We first drop albums with empty releaseyear. Then we create a set of artist with multiple albums. Finally we split the data: one for artists with a single album, one for artists with multiple albums."
   ]
  },
  {
   "cell_type": "code",
   "execution_count": 63,
   "metadata": {},
   "outputs": [
    {
     "name": "stdout",
     "output_type": "stream",
     "text": [
      "There is a total of 16730 albums\n",
      "There is a total of 12401 albums from artist who produced multiple albums\n"
     ]
    }
   ],
   "source": [
    "df = df[df['releaseyear'].notna()] #Remove empty releaseyear\n",
    "print(f\"There is a total of {len(df)} albums\")\n",
    "\n",
    "#Only keep unique tuples of (artist,album)\n",
    "df_album_artist = df[['artist','album']].drop_duplicates(ignore_index=False)\n",
    "#Count how many albums each artists has\n",
    "df_artist_album_count = df_album_artist.groupby(['artist']).size()\n",
    "multiple_album_artists = set(df_artist_album_count[df_artist_album_count>1].keys())\n",
    "\n",
    "df_mult_albums = df[df['artist'].isin(multiple_album_artists)]\n",
    "df_single_album = df[~df['artist'].isin(multiple_album_artists)]\n",
    "\n",
    "print(f\"There is a total of {len(df_mult_albums)} albums from artist who produced multiple albums\")"
   ]
  },
  {
   "cell_type": "markdown",
   "metadata": {},
   "source": [
    "#### 2.Create a new column album_number\n",
    "\n",
    "We sort albums by their release year, then group the albums by artist (which preserve the relase date order). We create a (artist - album - number of album) dataframe from the group by (the index in the group equals the number of previous album(s)). Then we merge the previously created dataframe with the one of multiple album to augment it with the album number."
   ]
  },
  {
   "cell_type": "code",
   "execution_count": 64,
   "metadata": {},
   "outputs": [],
   "source": [
    "df_grouped = df_mult_albums.sort_values(['releaseyear'],ascending=True).groupby('artist')\n",
    "\n",
    "df_album_index = pd.DataFrame(columns=['artist','album','album_number'])\n",
    "\n",
    "\n",
    "for artist,cols in df_grouped:\n",
    "    for index,album in enumerate(cols['album']):\n",
    "        df_album_index.loc[len(df_album_index.index)] = [artist,album,index]"
   ]
  },
  {
   "cell_type": "code",
   "execution_count": 65,
   "metadata": {},
   "outputs": [
    {
     "data": {
      "text/html": [
       "<div>\n",
       "<style scoped>\n",
       "    .dataframe tbody tr th:only-of-type {\n",
       "        vertical-align: middle;\n",
       "    }\n",
       "\n",
       "    .dataframe tbody tr th {\n",
       "        vertical-align: top;\n",
       "    }\n",
       "\n",
       "    .dataframe thead th {\n",
       "        text-align: right;\n",
       "    }\n",
       "</style>\n",
       "<table border=\"1\" class=\"dataframe\">\n",
       "  <thead>\n",
       "    <tr style=\"text-align: right;\">\n",
       "      <th></th>\n",
       "      <th>artist</th>\n",
       "      <th>album</th>\n",
       "      <th>releaseyear</th>\n",
       "      <th>album_number</th>\n",
       "    </tr>\n",
       "  </thead>\n",
       "  <tbody>\n",
       "    <tr>\n",
       "      <th>5474</th>\n",
       "      <td>!!!</td>\n",
       "      <td>Split EP</td>\n",
       "      <td>1999.0</td>\n",
       "      <td>0</td>\n",
       "    </tr>\n",
       "    <tr>\n",
       "      <th>5085</th>\n",
       "      <td>!!!</td>\n",
       "      <td>Louden Up Now</td>\n",
       "      <td>2004.0</td>\n",
       "      <td>1</td>\n",
       "    </tr>\n",
       "    <tr>\n",
       "      <th>7824</th>\n",
       "      <td>!!!</td>\n",
       "      <td>Myth Takes</td>\n",
       "      <td>2007.0</td>\n",
       "      <td>2</td>\n",
       "    </tr>\n",
       "    <tr>\n",
       "      <th>7467</th>\n",
       "      <td>!!!</td>\n",
       "      <td>Strange Weather, Isn't It?</td>\n",
       "      <td>2010.0</td>\n",
       "      <td>3</td>\n",
       "    </tr>\n",
       "    <tr>\n",
       "      <th>1789</th>\n",
       "      <td>!!!</td>\n",
       "      <td>Thr!!!er</td>\n",
       "      <td>2013.0</td>\n",
       "      <td>4</td>\n",
       "    </tr>\n",
       "    <tr>\n",
       "      <th>...</th>\n",
       "      <td>...</td>\n",
       "      <td>...</td>\n",
       "      <td>...</td>\n",
       "      <td>...</td>\n",
       "    </tr>\n",
       "    <tr>\n",
       "      <th>154</th>\n",
       "      <td>Âme</td>\n",
       "      <td>Dream House</td>\n",
       "      <td>2018.0</td>\n",
       "      <td>1</td>\n",
       "    </tr>\n",
       "    <tr>\n",
       "      <th>5733</th>\n",
       "      <td>Ólafur Arnalds</td>\n",
       "      <td>Found Songs</td>\n",
       "      <td>2009.0</td>\n",
       "      <td>0</td>\n",
       "    </tr>\n",
       "    <tr>\n",
       "      <th>1866</th>\n",
       "      <td>Ólafur Arnalds</td>\n",
       "      <td>...And They Have Escaped the Weight of Darkness</td>\n",
       "      <td>2010.0</td>\n",
       "      <td>1</td>\n",
       "    </tr>\n",
       "    <tr>\n",
       "      <th>11870</th>\n",
       "      <td>Ólafur Arnalds</td>\n",
       "      <td>Living Room Songs</td>\n",
       "      <td>2012.0</td>\n",
       "      <td>2</td>\n",
       "    </tr>\n",
       "    <tr>\n",
       "      <th>10497</th>\n",
       "      <td>Ólafur Arnalds</td>\n",
       "      <td>Now I Am Winter</td>\n",
       "      <td>2013.0</td>\n",
       "      <td>3</td>\n",
       "    </tr>\n",
       "  </tbody>\n",
       "</table>\n",
       "<p>12401 rows × 4 columns</p>\n",
       "</div>"
      ],
      "text/plain": [
       "               artist                                            album  \\\n",
       "5474              !!!                                         Split EP   \n",
       "5085              !!!                                    Louden Up Now   \n",
       "7824              !!!                                       Myth Takes   \n",
       "7467              !!!                       Strange Weather, Isn't It?   \n",
       "1789              !!!                                         Thr!!!er   \n",
       "...               ...                                              ...   \n",
       "154               Âme                                      Dream House   \n",
       "5733   Ólafur Arnalds                                      Found Songs   \n",
       "1866   Ólafur Arnalds  ...And They Have Escaped the Weight of Darkness   \n",
       "11870  Ólafur Arnalds                                Living Room Songs   \n",
       "10497  Ólafur Arnalds                                  Now I Am Winter   \n",
       "\n",
       "       releaseyear album_number  \n",
       "5474        1999.0            0  \n",
       "5085        2004.0            1  \n",
       "7824        2007.0            2  \n",
       "7467        2010.0            3  \n",
       "1789        2013.0            4  \n",
       "...            ...          ...  \n",
       "154         2018.0            1  \n",
       "5733        2009.0            0  \n",
       "1866        2010.0            1  \n",
       "11870       2012.0            2  \n",
       "10497       2013.0            3  \n",
       "\n",
       "[12401 rows x 4 columns]"
      ]
     },
     "execution_count": 65,
     "metadata": {},
     "output_type": "execute_result"
    }
   ],
   "source": [
    "df_mult_albums = df_mult_albums.merge(df_album_index,on=['artist','album'])\n",
    "df_mult_albums.sort_values(['artist','releaseyear'])[['artist','album','releaseyear','album_number']]"
   ]
  },
  {
   "cell_type": "markdown",
   "metadata": {},
   "source": [
    "#### 3. Mean and the standard error for the mean of the scores of the first and second albums"
   ]
  },
  {
   "cell_type": "code",
   "execution_count": 66,
   "metadata": {},
   "outputs": [
    {
     "name": "stdout",
     "output_type": "stream",
     "text": [
      "The mean score for first albums is 7.304\n",
      "The standard deviation of the score for first albums is 1.241\n",
      "The mean score for second albums is 7.040\n",
      "The standard deviation score for second albums is 1.265\n"
     ]
    }
   ],
   "source": [
    "first_album_scores = df_mult_albums[df_mult_albums['album_number']==0]['score']\n",
    "second_album_scores = df_mult_albums[df_mult_albums['album_number']==1]['score']\n",
    "\n",
    "print(f'The mean score for first albums is {first_album_scores.mean():.3f}')\n",
    "print(f'The standard deviation of the score for first albums is {first_album_scores.std():.3f}')\n",
    "\n",
    "print(f'The mean score for second albums is {second_album_scores.mean():.3f}')\n",
    "print(f'The standard deviation score for second albums is {second_album_scores.std():.3f}')"
   ]
  },
  {
   "cell_type": "code",
   "execution_count": 75,
   "metadata": {},
   "outputs": [
    {
     "data": {
      "image/png": "[encoded data removed]",
      "text/plain": [
       "<Figure size 432x288 with 1 Axes>"
      ]
     },
     "metadata": {
      "needs_background": "light"
     },
     "output_type": "display_data"
    }
   ],
   "source": [
    "first_album_scores.plot.kde(label='First album score')\n",
    "second_album_scores.plot.kde(label='Second album score')\n",
    "plt.xlim([0,10])\n",
    "plt.xlabel(\"Album score\")\n",
    "plt.title('Distribution of album scores')\n",
    "plt.legend()\n",
    "plt.plot()\n",
    "pass"
   ]
  },
  {
   "cell_type": "markdown",
   "metadata": {},
   "source": [
    "#### 4. Is the difference in means of 1st and 2nd albums statistically significant?\n",
    "\n",
    "To determine if the difference in means is significant, we use a two-sided t-test where the null hypothesis is that the average of the first album score is equal to the average of the second album score. We will also specify to the model that the variance of the two distributions may not be equal. We will reject the null hypothesis with a confidence of 95% (if the p-value is below 0.05 due to having a two-sided test)."
   ]
  },
  {
   "cell_type": "code",
   "execution_count": 68,
   "metadata": {},
   "outputs": [
    {
     "name": "stdout",
     "output_type": "stream",
     "text": [
      "\n",
      "The average score difference between the first album and the second album is significant \n",
      " with a p-value of 8.072e-19\n"
     ]
    }
   ],
   "source": [
    "print_t_test(first_album_scores,second_album_scores,'first album','second album')"
   ]
  },
  {
   "cell_type": "markdown",
   "metadata": {},
   "source": [
    "#### 5. Do these analyses suggest that the \"second album syndrome\" exists?\n",
    "\n",
    "As we have seen, the mean score for the first album is significantly higher than the mean score for the second album. This average score difference of 0.258 suggest that the second album syndrome exists."
   ]
  },
  {
   "cell_type": "markdown",
   "metadata": {},
   "source": [
    "**Task 6 (Regression analysis — 20 pts)**\n",
    "\n",
    "Next, you proceed to examine some hypotheses about the \"second album syndrome\" using a regression framework. Namely:\n",
    "\n",
    "- The **time spent hypothesis:**  the first album usually has a couple of years of development under its belt and plenty of trial and error from live concerts to help the band determine what does or doesn't work. The second album, on the other hand, is often made in a rush.\n",
    "\n",
    "- The **style change hypothesis:** bands often try to change their style after their first album. This change is not always welcomed by the listeners.\n",
    "\n",
    "1. Create a new dataframe containing one row per 1st-2nd album pair. The dataframe should contain rows:\n",
    "    - `score_diff`: the difference in scores between the second and the first album (second - first).\n",
    "    - `time_diff`: the number of days elapsed between the first and the second album.\n",
    "    - `did_style_change`: a dummy variable that indicates whether the style of the music has changed. To obtain it, first, calculate the [standardized euclidean distance](https://docs.scipy.org/doc/scipy/reference/generated/scipy.spatial.distance.seuclidean.html) of music-related numerical features¹ between the second and the first album. Second, assign 1 to the 20% most distant 1st-2nd album pairs and 0 to all others.\n",
    "2. Fit a linear regression using `statsmodels` with this dataframe. Your regression should consider only an intercept, i.e., `\"score_diff ~ 1\"`.\n",
    "3. **Discuss:** Interpret the $R^2$ in your regression here. Does this analysis confirm what you observed in Task 5? Why?\n",
    "4. Include the `time_diff` and `did_style_change` as covariates in your model. Fit the regression again and report the summary of your model. \n",
    "5. **Discuss:** Interpret the coefficients `time_diff` and `did_style_change`. Carefully explain whether they provide evidence towards each of the aforementioned hypotheses? Do they rule out other reasons that may cause the \"second album syndrome effect\"?\n",
    "6. Create a new column called `time_diff_standardized`. It should be a standardized version of the `time_diff` column. Repeat the regression done in 6.4 using the `time_diff_standardized` column instead of the `time_diff` column.\n",
    "7. **Discuss:** Explain how the interpretation of the coefficients associated with this new column `time_diff_standardized` differ from its non-standardized version \n",
    "`time_diff`?\n",
    "\n",
    "--- \n",
    "\n",
    "**¹** Music related numerical features are:  \"key\", \"acousticness\", \"danceability\", \"energy\", \"instrumentalness\", \"liveness\", \"loudness\", \"speechiness\", \"valence\", and \"tempo\".\n"
   ]
  },
  {
   "cell_type": "markdown",
   "metadata": {},
   "source": [
    "##### 1 - DF creation\n",
    "\n",
    "We first create two sub dataframe, one with all albums 0 and one with all albums 1. Then join them together to create pair album 0 - album 1 per artist."
   ]
  },
  {
   "cell_type": "code",
   "execution_count": 69,
   "metadata": {},
   "outputs": [],
   "source": [
    "# Create 2 dataframes one with album n0 and one with album n1\n",
    "albums_0 = df_mult_albums[df_mult_albums[\"album_number\"] == 0]\n",
    "albums_1 = df_mult_albums[df_mult_albums[\"album_number\"] == 1]\n",
    "\n",
    "# Join both dataframes by artist, all attributes of album n0/n1 end with _0/_1\n",
    "pair_albums = albums_0.join(albums_1.set_index(\"artist\"), on=[\"artist\"], lsuffix=\"_0\", rsuffix=\"_1\")"
   ]
  },
  {
   "cell_type": "markdown",
   "metadata": {},
   "source": [
    "Then based on the attributes of those pairs we create the new requested attributes in a new dataframe. No suprise for *score_diff* and *time_diff*."
   ]
  },
  {
   "cell_type": "code",
   "execution_count": 70,
   "metadata": {},
   "outputs": [],
   "source": [
    "df_pair_album_1_2 = pd.DataFrame()\n",
    "\n",
    "# Create feature of difference of score\n",
    "df_pair_album_1_2[\"score_diff\"] = pair_albums[\"score_1\"] - pair_albums[\"score_0\"]\n",
    "\n",
    "# Create feature of diffrence of year\n",
    "df_pair_album_1_2[\"time_diff\"] = pair_albums[\"releaseyear_1\"] - pair_albums[\"releaseyear_0\"]"
   ]
  },
  {
   "cell_type": "markdown",
   "metadata": {},
   "source": [
    "For *did_style_change*, we first have to extract the music related numerical features of each album, compute the distance for each pair, based on those attributes. Then set the top 20% greatest distance to one to indicate a change in style."
   ]
  },
  {
   "cell_type": "code",
   "execution_count": 71,
   "metadata": {},
   "outputs": [
    {
     "data": {
      "text/html": [
       "<div>\n",
       "<style scoped>\n",
       "    .dataframe tbody tr th:only-of-type {\n",
       "        vertical-align: middle;\n",
       "    }\n",
       "\n",
       "    .dataframe tbody tr th {\n",
       "        vertical-align: top;\n",
       "    }\n",
       "\n",
       "    .dataframe thead th {\n",
       "        text-align: right;\n",
       "    }\n",
       "</style>\n",
       "<table border=\"1\" class=\"dataframe\">\n",
       "  <thead>\n",
       "    <tr style=\"text-align: right;\">\n",
       "      <th></th>\n",
       "      <th>score_diff</th>\n",
       "      <th>time_diff</th>\n",
       "      <th>did_style_change</th>\n",
       "    </tr>\n",
       "  </thead>\n",
       "  <tbody>\n",
       "    <tr>\n",
       "      <th>1</th>\n",
       "      <td>-0.5</td>\n",
       "      <td>1.0</td>\n",
       "      <td>0</td>\n",
       "    </tr>\n",
       "    <tr>\n",
       "      <th>4</th>\n",
       "      <td>-0.5</td>\n",
       "      <td>3.0</td>\n",
       "      <td>1</td>\n",
       "    </tr>\n",
       "    <tr>\n",
       "      <th>5</th>\n",
       "      <td>-1.9</td>\n",
       "      <td>3.0</td>\n",
       "      <td>0</td>\n",
       "    </tr>\n",
       "    <tr>\n",
       "      <th>7</th>\n",
       "      <td>-1.0</td>\n",
       "      <td>20.0</td>\n",
       "      <td>0</td>\n",
       "    </tr>\n",
       "    <tr>\n",
       "      <th>8</th>\n",
       "      <td>-1.2</td>\n",
       "      <td>2.0</td>\n",
       "      <td>0</td>\n",
       "    </tr>\n",
       "    <tr>\n",
       "      <th>...</th>\n",
       "      <td>...</td>\n",
       "      <td>...</td>\n",
       "      <td>...</td>\n",
       "    </tr>\n",
       "    <tr>\n",
       "      <th>12233</th>\n",
       "      <td>0.0</td>\n",
       "      <td>0.0</td>\n",
       "      <td>1</td>\n",
       "    </tr>\n",
       "    <tr>\n",
       "      <th>12273</th>\n",
       "      <td>1.4</td>\n",
       "      <td>2.0</td>\n",
       "      <td>0</td>\n",
       "    </tr>\n",
       "    <tr>\n",
       "      <th>12305</th>\n",
       "      <td>-1.9</td>\n",
       "      <td>2.0</td>\n",
       "      <td>0</td>\n",
       "    </tr>\n",
       "    <tr>\n",
       "      <th>12316</th>\n",
       "      <td>0.8</td>\n",
       "      <td>1.0</td>\n",
       "      <td>0</td>\n",
       "    </tr>\n",
       "    <tr>\n",
       "      <th>12395</th>\n",
       "      <td>-1.6</td>\n",
       "      <td>19.0</td>\n",
       "      <td>1</td>\n",
       "    </tr>\n",
       "  </tbody>\n",
       "</table>\n",
       "<p>3561 rows × 3 columns</p>\n",
       "</div>"
      ],
      "text/plain": [
       "       score_diff  time_diff  did_style_change\n",
       "1            -0.5        1.0                 0\n",
       "4            -0.5        3.0                 1\n",
       "5            -1.9        3.0                 0\n",
       "7            -1.0       20.0                 0\n",
       "8            -1.2        2.0                 0\n",
       "...           ...        ...               ...\n",
       "12233         0.0        0.0                 1\n",
       "12273         1.4        2.0                 0\n",
       "12305        -1.9        2.0                 0\n",
       "12316         0.8        1.0                 0\n",
       "12395        -1.6       19.0                 1\n",
       "\n",
       "[3561 rows x 3 columns]"
      ]
     },
     "execution_count": 71,
     "metadata": {},
     "output_type": "execute_result"
    }
   ],
   "source": [
    "# Select all music related numerical features\n",
    "music_related_features = [\"key\", \"acousticness\", \"danceability\", \"energy\", \"instrumentalness\",\n",
    "                          \"liveness\", \"loudness\", \"speechiness\", \"valence\", \"tempo\"]\n",
    "\n",
    "# Add suffix\n",
    "music_related_features_0 = [s + \"_0\" for s in music_related_features]\n",
    "music_related_features_1 = [s + \"_1\" for s in music_related_features]\n",
    "variance = np.array(df_mult_albums[music_related_features].var(axis=0)).reshape(1,-1)\n",
    "\n",
    "# Compute distance of style bewteen albums 0 and 1\n",
    "def compute_distance(row, variance):\n",
    "    return seuclidean(row[music_related_features_1], row[music_related_features_0], variance)\n",
    "\n",
    "pair_albums[\"distance\"] = pair_albums.apply(lambda row: compute_distance(row, variance), axis=1)\n",
    "quantile_80 = pair_albums[\"distance\"].quantile(0.8)\n",
    "\n",
    "# Set did_style_change to 1 for the top 20% greatest distance\n",
    "df_pair_album_1_2[\"did_style_change\"] = np.where(pair_albums[\"distance\"] > quantile_80, 1 , 0)\n",
    "\n",
    "df_pair_album_1_2"
   ]
  },
  {
   "cell_type": "markdown",
   "metadata": {},
   "source": [
    "##### 2 - Linear regression with constant\n",
    "\n",
    "We train a basic least square linear regression using only a bias term as input."
   ]
  },
  {
   "cell_type": "code",
   "execution_count": 72,
   "metadata": {},
   "outputs": [
    {
     "name": "stdout",
     "output_type": "stream",
     "text": [
      "                            OLS Regression Results                            \n",
      "==============================================================================\n",
      "Dep. Variable:             score_diff   R-squared:                      -0.000\n",
      "Model:                            OLS   Adj. R-squared:                 -0.000\n",
      "Method:                 Least Squares   F-statistic:                       nan\n",
      "Date:                Fri, 26 Nov 2021   Prob (F-statistic):                nan\n",
      "Time:                        18:12:56   Log-Likelihood:                -6198.9\n",
      "No. Observations:                3561   AIC:                         1.240e+04\n",
      "Df Residuals:                    3560   BIC:                         1.241e+04\n",
      "Df Model:                           0                                         \n",
      "Covariance Type:            nonrobust                                         \n",
      "==============================================================================\n",
      "                 coef    std err          t      P>|t|      [0.025      0.975]\n",
      "------------------------------------------------------------------------------\n",
      "Intercept     -0.2638      0.023    -11.409      0.000      -0.309      -0.218\n",
      "==============================================================================\n",
      "Omnibus:                      383.216   Durbin-Watson:                   2.009\n",
      "Prob(Omnibus):                  0.000   Jarque-Bera (JB):             2151.489\n",
      "Skew:                          -0.353   Prob(JB):                         0.00\n",
      "Kurtosis:                       6.742   Cond. No.                         1.00\n",
      "==============================================================================\n",
      "\n",
      "Notes:\n",
      "[1] Standard Errors assume that the covariance matrix of the errors is correctly specified.\n"
     ]
    }
   ],
   "source": [
    "res = smf.ols(formula='score_diff ~ 1', data=df_pair_album_1_2).fit()\n",
    "print(res.summary())"
   ]
  },
  {
   "cell_type": "markdown",
   "metadata": {},
   "source": [
    "##### 3 - Discussion $R^2$\n",
    "\n",
    "$R^2 = 1 - var(Re)/ var(Y)$ where $Re = Y - \\tilde{X}\\hat{B}$ is the residual error matrix. In our case, since we are only fitting the bias term, $Re = Y - C$ where $C$ is a constant vector. Therefore $var(Re) = var(Y)$ thus $R^2 = 0$\n",
    "\n",
    "We have an intercept of -0.2579 and since the model is based on one intercept it is equivalent to the mean of score_diff, which confirms the diffrence of means computed in task 5. "
   ]
  },
  {
   "cell_type": "markdown",
   "metadata": {},
   "source": [
    "##### 4 - Linear regression with time_diff and did_style_change\n",
    "\n",
    "We train add covariates: continuous *time_diff* and categorical *did_style_change* to our linear regression."
   ]
  },
  {
   "cell_type": "code",
   "execution_count": 73,
   "metadata": {},
   "outputs": [
    {
     "name": "stdout",
     "output_type": "stream",
     "text": [
      "                            OLS Regression Results                            \n",
      "==============================================================================\n",
      "Dep. Variable:             score_diff   R-squared:                       0.017\n",
      "Model:                            OLS   Adj. R-squared:                  0.017\n",
      "Method:                 Least Squares   F-statistic:                     31.55\n",
      "Date:                Fri, 26 Nov 2021   Prob (F-statistic):           2.61e-14\n",
      "Time:                        18:12:56   Log-Likelihood:                -6167.6\n",
      "No. Observations:                3561   AIC:                         1.234e+04\n",
      "Df Residuals:                    3558   BIC:                         1.236e+04\n",
      "Df Model:                           2                                         \n",
      "Covariance Type:            nonrobust                                         \n",
      "============================================================================================\n",
      "                               coef    std err          t      P>|t|      [0.025      0.975]\n",
      "--------------------------------------------------------------------------------------------\n",
      "Intercept                   -0.1410      0.029     -4.785      0.000      -0.199      -0.083\n",
      "C(did_style_change)[T.1]    -0.0291      0.057     -0.508      0.611      -0.142       0.083\n",
      "time_diff                   -0.0325      0.004     -7.915      0.000      -0.041      -0.024\n",
      "==============================================================================\n",
      "Omnibus:                      353.497   Durbin-Watson:                   2.014\n",
      "Prob(Omnibus):                  0.000   Jarque-Bera (JB):             2006.520\n",
      "Skew:                          -0.291   Prob(JB):                         0.00\n",
      "Kurtosis:                       6.631   Cond. No.                         17.1\n",
      "==============================================================================\n",
      "\n",
      "Notes:\n",
      "[1] Standard Errors assume that the covariance matrix of the errors is correctly specified.\n",
      "\n",
      "Detailed p-values: \n",
      "Intercept                   1.779077e-06\n",
      "C(did_style_change)[T.1]    6.113054e-01\n",
      "time_diff                   3.270318e-15\n",
      "dtype: float64\n"
     ]
    }
   ],
   "source": [
    "res = smf.ols(formula='score_diff ~ time_diff + C(did_style_change)', data=df_pair_album_1_2).fit()\n",
    "print(res.summary())\n",
    "print()\n",
    "print(\"Detailed p-values: \")\n",
    "print(res.pvalues )"
   ]
  },
  {
   "cell_type": "markdown",
   "metadata": {},
   "source": [
    "##### 5 - Discussion linear regression with time_diff and did_style_change\n",
    "\n",
    "The coefficients of *time_diff* and *did_style_change* would tend to indicate that both a change of style and long period between the albums negatively influences the score of the second album. \n",
    "\n",
    "However with a p-value of 0.989, we can not reject the hypothesis that a change in style does not influence the score difference. Morever the near 0 intercept and 0 centered confidence interval would suggest that no correlation between a change in style and the score difference exists. \n",
    "\n",
    "Concerning the time difference we are confident (with a p-value < 0.05) that a longer periode between albums  negatively influences the score of the second album.\n",
    "\n",
    "Since both parameters do not perfectly predict the score difference ($R^2 \\ne 1$), this does not exclude any other reasons."
   ]
  },
  {
   "cell_type": "markdown",
   "metadata": {},
   "source": [
    "##### 6 - Linear regression with time_diff_standardized and did_style_change\n",
    "\n",
    "We once again train our linear regression, this time using *time_diff_standardized* instead of *time_diff*. To create *time_diff_standardized* we simply substract the mean and divide by the standard deviation of all the samples."
   ]
  },
  {
   "cell_type": "code",
   "execution_count": 74,
   "metadata": {},
   "outputs": [
    {
     "ename": "SyntaxError",
     "evalue": "invalid syntax (Temp/ipykernel_19100/618948246.py, line 1)",
     "output_type": "error",
     "traceback": [
      "\u001b[1;36m  File \u001b[1;32m\"C:\\Users\\marin\\AppData\\Local\\Temp/ipykernel_19100/618948246.py\"\u001b[1;36m, line \u001b[1;32m1\u001b[0m\n\u001b[1;33m    df_pair_album_1_2[\"time_diff_standardized\"] =\u001b[0m\n\u001b[1;37m                                                  ^\u001b[0m\n\u001b[1;31mSyntaxError\u001b[0m\u001b[1;31m:\u001b[0m invalid syntax\n"
     ]
    }
   ],
   "source": [
    "df_pair_album_1_2[\"time_diff_standardized\"] = \n",
    "    (df_pair_album_1_2[\"time_diff\"] - df_pair_album_1_2[\"time_diff\"].mean())/ df_pair_album_1_2[\"time_diff\"].std()\n",
    "\n",
    "res = smf.ols(formula='score_diff ~ time_diff_standardized + C(did_style_change)', data=df_pair_album_1_2).fit()\n",
    "print(res.summary())\n",
    "print()\n",
    "print(\"Detailed p-values: \")\n",
    "print(res.pvalues )"
   ]
  },
  {
   "cell_type": "markdown",
   "metadata": {},
   "source": [
    "##### 7 - Discussion time_diff_standardized and time_diff\n",
    "\n",
    "It's a good practice to standardize the features. Hence, it's easier to interpret the coefficient of standardized features. Indeed the coefficient directly indicates how a difference from the mean influences the prediction without having to take into account the scaling range of values of the feature.\n",
    "\n",
    "Coefs without standardization:  \n",
    "intercept: -0.1361  \n",
    "time_diff: -0.0338 \n",
    "\n",
    "Coefs with *time_diff* standardized:    \n",
    "intercept: -0.2577  \n",
    "time_diff_standardized: -0.1888  \n",
    "\n",
    "(In the following explanation we will ignore *did_style_change* feature since it does not much impact on our model).\n",
    "We can see that the intercept in the standardized case is almost equal to the one obtained in previous steps (task 5.3, 6.2). This due to the fact that *time_diff_standardized* is centred. Finally, the coefficient directly tells us what is the effect of a deviation of one standard deviation from the mean."
   ]
  },
  {
   "cell_type": "markdown",
   "metadata": {
    "pycharm": {
     "name": "#%% md\n"
    }
   },
   "source": [
    "**Task 7 (Sanity checks — 6 pts)**\n",
    "\n",
    "You decide to perform a few last sanity checks for your analysis.\n",
    "\n",
    "1.  **Discuss:** If the Second Album Syndrome existed, i.e., something was special about the second album (as in if it was bad for a very particular reason that afflicted album number 2 more than all others), what would you expect to happen to the mean score of the third album?\n",
    "2. Using the dataset you created in Task 5, calculate the mean and the standard error of the mean for the 1st, 2nd, 3rd, and 4th albums. Test whether the difference between the average score of the second and the third album is statistically significant.\n",
    "3. **Discuss:** Does this suggest that the Second Album Syndrome exists?\n",
    "\n",
    "---\n"
   ]
  },
  {
   "cell_type": "markdown",
   "metadata": {},
   "source": [
    "#### 1.Discuss the mean score of the third album assuming Second Album Syndrome\n",
    "\n",
    "If the Second Album Syndrome existed (album number 2 was bad for a very particular reason that afflicted it number 2 more than all others) we would expect the mean score of the third album to be higher than the second. This assumes that the bad things the artist/group did at the second album were not repeated for the third album."
   ]
  },
  {
   "cell_type": "markdown",
   "metadata": {},
   "source": [
    "#### 2. Mean and the standard error of the mean for the 1st, 2nd, 3rd, and 4th albums"
   ]
  },
  {
   "cell_type": "code",
   "execution_count": null,
   "metadata": {},
   "outputs": [],
   "source": [
    "for album_number in range(4):\n",
    "    album_scores = df_mult_albums[df_mult_albums['album_number']==album_number]['score']\n",
    "    print(f'The mean score for {album_number+1}th albums is {album_scores.mean():.3f}')\n",
    "    print(f'The standard deviation of the score for {album_number+1}th albums is {album_scores.std():.3f} \\n')"
   ]
  },
  {
   "cell_type": "markdown",
   "metadata": {},
   "source": [
    "Like we did for question 4., we will use a two-sided t-test to determine whether the difference between the average score of the second and the third album is statistically significant."
   ]
  },
  {
   "cell_type": "code",
   "execution_count": null,
   "metadata": {},
   "outputs": [],
   "source": [
    "third_album_scores = df_mult_albums[df_mult_albums['album_number']==2]['score']\n",
    "fourth_album_scores = df_mult_albums[df_mult_albums['album_number']==3]['score']"
   ]
  },
  {
   "cell_type": "code",
   "execution_count": null,
   "metadata": {},
   "outputs": [],
   "source": [
    "print_t_test(second_album_scores, third_album_scores, \"second album\", \"third album\")"
   ]
  },
  {
   "cell_type": "code",
   "execution_count": null,
   "metadata": {},
   "outputs": [],
   "source": [
    "print_t_test(second_album_scores, fourth_album_scores, \"second album\", \"fourth album\")"
   ]
  },
  {
   "cell_type": "markdown",
   "metadata": {},
   "source": [
    "#### 3. Discuss the existence of the Second Album Syndrome\n",
    "\n",
    "We have seen that the score difference between the first and second album is significantly different and that on average, the second album has a score that is 0.258 points lower than the first album. On the other hand, the difference between the average score of the 2nd album and the 3rd or 4th album is not significant.  \n",
    "From this, we can argue that the 'Second Album Syndrome' only exists with respect to the first album and should be called the 'Subsequent to first Album Syndrome'. "
   ]
  },
  {
   "cell_type": "markdown",
   "metadata": {},
   "source": [
    "**Task 8 (Eureka — 14 pts)**\n",
    "\n",
    "Your boss, *Signor Piccardi*, proposes that you carry out a simulation to make things clearer. Assuming that:\n",
    "\n",
    "\n",
    "- Each band $i$ has a \"talent\" $\\mu_i$ , which is uniformally distributed between 2 and 8, i.e., $\\mu_i \\sim U_{[2,8]}$.\n",
    "- When a band $i$ produces an album $j$, it has quality $s_j$. This score is normally distributed with mean $\\mu_i$ and standard deviation $1$, i.e., $s_j \\sim N(\\mu_i, 1)$\n",
    "- Talents are independent and identically distributed random variables.\n",
    " \n",
    "Carry out the following simulation:\n",
    "\n",
    "- Create 1000 hypothetical bands with intrinsic talents $\\mu_i \\sim U_{[2,8]}$ for $i \\in [1,1000]$.\n",
    "- Have each hypothetical band create a hypothetical album.\n",
    "- Discard all bands whose albums received a score smaller than 6.\n",
    "- For each of the remaining bands, create two additional albums.\n",
    "\n",
    "Analyzing the scores obtained in this simulation, provide a coherent explanation for the  scores obtained in Task 7.2. \n",
    "\n",
    "--- \n",
    "\n",
    "**Hint:** You can use numpy to sample random variables (e.g. [numpy.random.normal](https://numpy.org/doc/stable/reference/random/generated/numpy.random.normal.html))"
   ]
  },
  {
   "cell_type": "markdown",
   "metadata": {},
   "source": [
    "We first create the band talent."
   ]
  },
  {
   "cell_type": "code",
   "execution_count": null,
   "metadata": {},
   "outputs": [],
   "source": [
    "band_means = np.random.uniform(low=2.0, high=8.0, size=1000)"
   ]
  },
  {
   "cell_type": "markdown",
   "metadata": {},
   "source": [
    "Then generate the score of the first album according to a normal centred on the band talent.  \n",
    "We discard all the bands with a low album score (<6) and generate the second and third albums for the remaining bands."
   ]
  },
  {
   "cell_type": "code",
   "execution_count": null,
   "metadata": {},
   "outputs": [],
   "source": [
    "def normal(mean):\n",
    "    return np.random.normal(mean, scale = 1.0, size=1)\n",
    "\n",
    "#We vectorize to be able to apply it on numpy array\n",
    "vectorized_normal = np.vectorize(normal)\n",
    "album_scores = vectorized_normal(band_means)\n",
    "\n",
    "good_band_means = band_means[album_scores>=6]\n",
    "\n",
    "good_band_album_scores = []\n",
    "\n",
    "good_band_album_scores.append(album_scores[album_scores>=6])\n",
    "good_band_album_scores.append(vectorized_normal(good_band_means))\n",
    "good_band_album_scores.append(vectorized_normal(good_band_means))"
   ]
  },
  {
   "cell_type": "code",
   "execution_count": null,
   "metadata": {},
   "outputs": [],
   "source": [
    "for album_number, xth_album_scores in enumerate(good_band_album_scores):\n",
    "    print(f'The mean score for {album_number+1}th albums of good bands (first_album_score >=6) is {xth_album_scores.mean():.3e}')\n",
    "    print(f'The standard deviation of the score for {album_number+1}th albums is {xth_album_scores.std():.3e} \\n')"
   ]
  },
  {
   "cell_type": "code",
   "execution_count": null,
   "metadata": {},
   "outputs": [],
   "source": [
    "for i in range(2):\n",
    "    print_t_test(np.array(good_band_album_scores[i]),\n",
    "                 np.array(good_band_album_scores[i+1]),\n",
    "                 f'the {i+1}th album',f'the {i+2}th album')"
   ]
  },
  {
   "cell_type": "markdown",
   "metadata": {},
   "source": [
    "As we can see, the score of the first album of the band is significantly higher than the score of the subsequent albums and the scores of the second albums and third albums do not differ significantly. This can be explained by the way we sample the good albums from the distribution. By only keeping the band with a first album score >= 6, we keep the bands with a high talent >= 6 as well as the band with a talent below 6 but who outperformed their talent on their first album. As a result, the mean talent of the 'good bands' is below the mean score for their first album which results in the subsequent albums having lower scores."
   ]
  },
  {
   "cell_type": "code",
   "execution_count": null,
   "metadata": {},
   "outputs": [],
   "source": [
    "print(f'The average album score for the first album of bands producing more than one album is \\\n",
    "{good_band_album_scores[0].mean():.3f}\\n')\n",
    "\n",
    "print(f'The average talent of bands producing more than one album is {good_band_means.mean():.3f}')"
   ]
  },
  {
   "cell_type": "markdown",
   "metadata": {},
   "source": [
    "Furthermore, we can see that around 2/3 of bands selected by our processus scored better than their talents on their first album. Assuming a uniform sampling, we would expect this value to be around 50%."
   ]
  },
  {
   "cell_type": "code",
   "execution_count": null,
   "metadata": {},
   "outputs": [],
   "source": [
    "good_bands_lower_talent_than_first_album = (good_band_album_scores[0]>good_band_means).sum()/(len(good_band_means))\n",
    "print(f'{good_bands_lower_talent_than_first_album:.2%} of bands producing more than one album have a talent lower than their first album score')"
   ]
  },
  {
   "cell_type": "markdown",
   "metadata": {},
   "source": [
    "This provides a coherent explanation for the scores obtained in Task 7.2. As seen previously, the average album score for artists producing a single album is significantly lower than the average album score for the first album of artists producing more than one album. This can be explained by record labels only extending the funding of succesful artists/groups or groups deciding to pursue a further album only if the first succeeded. This is confirmed by the real data where the first album score of multi-ablum artist is significantly higher than the first album score of single album artists."
   ]
  },
  {
   "cell_type": "code",
   "execution_count": null,
   "metadata": {},
   "outputs": [],
   "source": [
    "print(f'\\nThe average album score for artists producing a single album is {df_single_album[\"score\"].mean():.3f}')\n",
    "print(f'The average album score for the first album of artists producing more than one album is \\\n",
    "{first_album_scores.mean():.3f}')\n",
    "\n",
    "print_t_test(first_album_scores,df_single_album[\"score\"],'album score for artists producing a single album',\\\n",
    "            'album score for the first album of artists producing more than one album')"
   ]
  },
  {
   "cell_type": "markdown",
   "metadata": {},
   "source": [
    "To conclude, we will assume that record labels select which group they will fund for subsequent albums based on the performance of their first album, and that artists perform on an album following a normal distribution  around their talent. Following these assumptions, we have showed that this leads to a high proportion of artists with a talent lower than their first album and as a consequence, they will on average have a lower score on their subsequent albums compared to their first album leading to the 'Second Album Syndrome'."
   ]
  }
 ],
 "metadata": {
  "kernelspec": {
   "display_name": "Python 3 (ipykernel)",
   "language": "python",
   "name": "python3"
  },
  "language_info": {
   "codemirror_mode": {
    "name": "ipython",
    "version": 3
   },
   "file_extension": ".py",
   "mimetype": "text/x-python",
   "name": "python",
   "nbconvert_exporter": "python",
   "pygments_lexer": "ipython3",
   "version": "3.8.12"
  },
  "pycharm": {
   "stem_cell": {
    "cell_type": "raw",
    "metadata": {
     "collapsed": false
    },
    "source": []
   }
  }
 },
 "nbformat": 4,
 "nbformat_minor": 1
}
